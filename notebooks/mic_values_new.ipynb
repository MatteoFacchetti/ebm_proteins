{
 "cells": [
  {
   "cell_type": "code",
   "execution_count": 2,
   "metadata": {
    "ExecuteTime": {
     "end_time": "2020-09-13T09:02:35.102829Z",
     "start_time": "2020-09-13T09:02:35.095682Z"
    }
   },
   "outputs": [
    {
     "name": "stdout",
     "output_type": "stream",
     "text": [
      "/home/3005019/ebm_proteins/src\n"
     ]
    }
   ],
   "source": [
    "cd ../src"
   ]
  },
  {
   "cell_type": "code",
   "execution_count": 3,
   "metadata": {
    "ExecuteTime": {
     "end_time": "2020-09-13T09:02:35.125559Z",
     "start_time": "2020-09-13T09:02:35.109192Z"
    }
   },
   "outputs": [
    {
     "data": {
      "text/html": [
       "<style>.container { width:95% !important; }</style>"
      ],
      "text/plain": [
       "<IPython.core.display.HTML object>"
      ]
     },
     "metadata": {},
     "output_type": "display_data"
    }
   ],
   "source": [
    "from IPython.core.display import display, HTML\n",
    "display(HTML(\"<style>.container { width:95% !important; }</style>\"))"
   ]
  },
  {
   "cell_type": "code",
   "execution_count": 4,
   "metadata": {
    "ExecuteTime": {
     "end_time": "2020-09-13T09:02:36.194472Z",
     "start_time": "2020-09-13T09:02:35.127849Z"
    }
   },
   "outputs": [
    {
     "name": "stderr",
     "output_type": "stream",
     "text": [
      "2020-09-13 11:02:36,190 - matplotlib.pyplot - DEBUG - Loaded backend module://ipykernel.pylab.backend_inline version unknown.\n"
     ]
    }
   ],
   "source": [
    "import numpy as np\n",
    "import pandas as pd\n",
    "from copy import copy\n",
    "from tqdm.notebook import tqdm\n",
    "\n",
    "import torch\n",
    "\n",
    "from utils import data_utils as du\n",
    "from modeling.mlp import encoding"
   ]
  },
  {
   "cell_type": "code",
   "execution_count": 5,
   "metadata": {
    "ExecuteTime": {
     "end_time": "2020-09-13T09:02:36.411117Z",
     "start_time": "2020-09-13T09:02:36.196908Z"
    }
   },
   "outputs": [],
   "source": [
    "mic = pd.read_excel(\"data/sd01.xlsx\")"
   ]
  },
  {
   "cell_type": "code",
   "execution_count": 6,
   "metadata": {
    "ExecuteTime": {
     "end_time": "2020-09-13T09:02:36.415212Z",
     "start_time": "2020-09-13T09:02:36.412799Z"
    }
   },
   "outputs": [],
   "source": [
    "# mic = mic_1.append(mic).reset_index(drop=True)"
   ]
  },
  {
   "cell_type": "code",
   "execution_count": 7,
   "metadata": {
    "ExecuteTime": {
     "end_time": "2020-09-13T09:02:36.420100Z",
     "start_time": "2020-09-13T09:02:36.416748Z"
    }
   },
   "outputs": [],
   "source": [
    "mic = mic[[\"Residue\", \"Wt_AA\", \"Mutant_AA\", \"Mutation\", \"MIC_Score\"]]"
   ]
  },
  {
   "cell_type": "code",
   "execution_count": 8,
   "metadata": {
    "ExecuteTime": {
     "end_time": "2020-09-13T09:02:36.423159Z",
     "start_time": "2020-09-13T09:02:36.421508Z"
    }
   },
   "outputs": [],
   "source": [
    "# mic_1 = mic_1[[\"Residue\", \"Wt_AA\", \"Mutant_AA\", \"Mutation\", \"MIC_Score\"]]"
   ]
  },
  {
   "cell_type": "code",
   "execution_count": 9,
   "metadata": {
    "ExecuteTime": {
     "end_time": "2020-09-13T09:02:36.433472Z",
     "start_time": "2020-09-13T09:02:36.425248Z"
    }
   },
   "outputs": [
    {
     "data": {
      "text/html": [
       "<div>\n",
       "<style scoped>\n",
       "    .dataframe tbody tr th:only-of-type {\n",
       "        vertical-align: middle;\n",
       "    }\n",
       "\n",
       "    .dataframe tbody tr th {\n",
       "        vertical-align: top;\n",
       "    }\n",
       "\n",
       "    .dataframe thead th {\n",
       "        text-align: right;\n",
       "    }\n",
       "</style>\n",
       "<table border=\"1\" class=\"dataframe\">\n",
       "  <thead>\n",
       "    <tr style=\"text-align: right;\">\n",
       "      <th></th>\n",
       "      <th>Residue</th>\n",
       "      <th>Wt_AA</th>\n",
       "      <th>Mutant_AA</th>\n",
       "      <th>Mutation</th>\n",
       "      <th>MIC_Score</th>\n",
       "    </tr>\n",
       "  </thead>\n",
       "  <tbody>\n",
       "    <tr>\n",
       "      <th>0</th>\n",
       "      <td>24</td>\n",
       "      <td>H</td>\n",
       "      <td>L</td>\n",
       "      <td>H24L</td>\n",
       "      <td>-0.500000</td>\n",
       "    </tr>\n",
       "    <tr>\n",
       "      <th>1</th>\n",
       "      <td>24</td>\n",
       "      <td>H</td>\n",
       "      <td>P</td>\n",
       "      <td>H24P</td>\n",
       "      <td>-3.321928</td>\n",
       "    </tr>\n",
       "    <tr>\n",
       "      <th>2</th>\n",
       "      <td>24</td>\n",
       "      <td>H</td>\n",
       "      <td>Q</td>\n",
       "      <td>H24Q</td>\n",
       "      <td>-1.000000</td>\n",
       "    </tr>\n",
       "    <tr>\n",
       "      <th>3</th>\n",
       "      <td>24</td>\n",
       "      <td>H</td>\n",
       "      <td>R</td>\n",
       "      <td>H24R</td>\n",
       "      <td>-0.250000</td>\n",
       "    </tr>\n",
       "    <tr>\n",
       "      <th>4</th>\n",
       "      <td>24</td>\n",
       "      <td>H</td>\n",
       "      <td>Y</td>\n",
       "      <td>H24Y</td>\n",
       "      <td>-1.000000</td>\n",
       "    </tr>\n",
       "  </tbody>\n",
       "</table>\n",
       "</div>"
      ],
      "text/plain": [
       "   Residue Wt_AA Mutant_AA Mutation  MIC_Score\n",
       "0       24     H         L     H24L  -0.500000\n",
       "1       24     H         P     H24P  -3.321928\n",
       "2       24     H         Q     H24Q  -1.000000\n",
       "3       24     H         R     H24R  -0.250000\n",
       "4       24     H         Y     H24Y  -1.000000"
      ]
     },
     "execution_count": 9,
     "metadata": {},
     "output_type": "execute_result"
    }
   ],
   "source": [
    "mic.head()"
   ]
  },
  {
   "cell_type": "code",
   "execution_count": 10,
   "metadata": {
    "ExecuteTime": {
     "end_time": "2020-09-13T09:02:36.438216Z",
     "start_time": "2020-09-13T09:02:36.435171Z"
    }
   },
   "outputs": [
    {
     "data": {
      "text/plain": [
       "990"
      ]
     },
     "execution_count": 10,
     "metadata": {},
     "output_type": "execute_result"
    }
   ],
   "source": [
    "len(mic)"
   ]
  },
  {
   "cell_type": "markdown",
   "metadata": {},
   "source": [
    "# Position specific but independent contributions of each residue"
   ]
  },
  {
   "cell_type": "code",
   "execution_count": 11,
   "metadata": {
    "ExecuteTime": {
     "end_time": "2020-09-13T09:02:36.441253Z",
     "start_time": "2020-09-13T09:02:36.439410Z"
    }
   },
   "outputs": [],
   "source": [
    "wild_type = \"MSIQHFRVALIPFFAAFCLPVFAHPETLVKVKDAEDQLGARVGYIELDLNSGKILESFRPEERFPMMSTFKVLLCGAVLSRVDAGQEQLGRRIHYSQNDLVEYSPVTEKHLTDGMTVRELCSAAITMSDNTAANLLLTTIGGPKELTAFLHNMGDHVTRLDRWEPELNEAIPNDERDTTMPAAMATTLRKLLTGELLTLASRQQLIDWMEADKVAGPLLRSALPAGWFIADKSGAGERGSRGIIAALGPDGKPSRIVVIYTTGSQATMDERNRQIAEIGASLIKHW\""
   ]
  },
  {
   "cell_type": "code",
   "execution_count": 12,
   "metadata": {
    "ExecuteTime": {
     "end_time": "2020-09-13T09:02:36.444339Z",
     "start_time": "2020-09-13T09:02:36.442558Z"
    }
   },
   "outputs": [],
   "source": [
    "escherichia_coli = \"---AEDQLGA---RVGYIELDLNSGKIL-----E--------SFRPEERFPMMSTFKVLLCGAVLSRVDAGQEQLGRRIEKHL-------TDGMTVRELCSAAITM-------------------------------------SDNTAANLLTT-IGGPKETAFLHNMGDHVTRL-DRWEPELNEAIPNDERDTTMP------------------------AAMATTLRKLL-T----GELLTLASRQQLIDWMEADKVAGPLLRSALPAGWFIADKSGA-------GGSRGIIAALGPDGSRIVVIYTTGSQ--ATMDERNRQIAEI--\""
   ]
  },
  {
   "cell_type": "code",
   "execution_count": 13,
   "metadata": {
    "ExecuteTime": {
     "end_time": "2020-09-13T09:02:36.454847Z",
     "start_time": "2020-09-13T09:02:36.445469Z"
    }
   },
   "outputs": [
    {
     "name": "stderr",
     "output_type": "stream",
     "text": [
      "2020-09-13 11:02:36,450 - numexpr.utils - INFO - Note: detected 96 virtual cores but NumExpr set to maximum of 64, check \"NUMEXPR_MAX_THREADS\" environment variable.\n",
      "2020-09-13 11:02:36,451 - numexpr.utils - INFO - Note: NumExpr detected 96 cores but \"NUMEXPR_MAX_THREADS\" not set, so enforcing safe limit of 8.\n",
      "2020-09-13 11:02:36,451 - numexpr.utils - INFO - NumExpr defaulting to 8 threads.\n"
     ]
    }
   ],
   "source": [
    "mic.Residue -= 1"
   ]
  },
  {
   "cell_type": "code",
   "execution_count": 14,
   "metadata": {
    "ExecuteTime": {
     "end_time": "2020-09-13T09:02:36.462447Z",
     "start_time": "2020-09-13T09:02:36.455960Z"
    }
   },
   "outputs": [
    {
     "data": {
      "text/html": [
       "<div>\n",
       "<style scoped>\n",
       "    .dataframe tbody tr th:only-of-type {\n",
       "        vertical-align: middle;\n",
       "    }\n",
       "\n",
       "    .dataframe tbody tr th {\n",
       "        vertical-align: top;\n",
       "    }\n",
       "\n",
       "    .dataframe thead th {\n",
       "        text-align: right;\n",
       "    }\n",
       "</style>\n",
       "<table border=\"1\" class=\"dataframe\">\n",
       "  <thead>\n",
       "    <tr style=\"text-align: right;\">\n",
       "      <th></th>\n",
       "      <th>Residue</th>\n",
       "      <th>Wt_AA</th>\n",
       "      <th>Mutant_AA</th>\n",
       "      <th>Mutation</th>\n",
       "      <th>MIC_Score</th>\n",
       "    </tr>\n",
       "  </thead>\n",
       "  <tbody>\n",
       "    <tr>\n",
       "      <th>0</th>\n",
       "      <td>23</td>\n",
       "      <td>H</td>\n",
       "      <td>L</td>\n",
       "      <td>H24L</td>\n",
       "      <td>-0.500000</td>\n",
       "    </tr>\n",
       "    <tr>\n",
       "      <th>1</th>\n",
       "      <td>23</td>\n",
       "      <td>H</td>\n",
       "      <td>P</td>\n",
       "      <td>H24P</td>\n",
       "      <td>-3.321928</td>\n",
       "    </tr>\n",
       "    <tr>\n",
       "      <th>2</th>\n",
       "      <td>23</td>\n",
       "      <td>H</td>\n",
       "      <td>Q</td>\n",
       "      <td>H24Q</td>\n",
       "      <td>-1.000000</td>\n",
       "    </tr>\n",
       "    <tr>\n",
       "      <th>3</th>\n",
       "      <td>23</td>\n",
       "      <td>H</td>\n",
       "      <td>R</td>\n",
       "      <td>H24R</td>\n",
       "      <td>-0.250000</td>\n",
       "    </tr>\n",
       "    <tr>\n",
       "      <th>4</th>\n",
       "      <td>23</td>\n",
       "      <td>H</td>\n",
       "      <td>Y</td>\n",
       "      <td>H24Y</td>\n",
       "      <td>-1.000000</td>\n",
       "    </tr>\n",
       "  </tbody>\n",
       "</table>\n",
       "</div>"
      ],
      "text/plain": [
       "   Residue Wt_AA Mutant_AA Mutation  MIC_Score\n",
       "0       23     H         L     H24L  -0.500000\n",
       "1       23     H         P     H24P  -3.321928\n",
       "2       23     H         Q     H24Q  -1.000000\n",
       "3       23     H         R     H24R  -0.250000\n",
       "4       23     H         Y     H24Y  -1.000000"
      ]
     },
     "execution_count": 14,
     "metadata": {},
     "output_type": "execute_result"
    }
   ],
   "source": [
    "mic.head()"
   ]
  },
  {
   "cell_type": "code",
   "execution_count": 15,
   "metadata": {
    "ExecuteTime": {
     "end_time": "2020-09-13T09:02:36.466766Z",
     "start_time": "2020-09-13T09:02:36.463848Z"
    }
   },
   "outputs": [
    {
     "data": {
      "text/plain": [
       "'MSIQHFRVALIPFFAAFCLPVFAHPETLVKVKDAEDQLGARVGYIELDLNSGKILESFRPEERFPMMSTFKVLLCGAVLSRVDAGQEQLGRRIHYSQNDLVEYSPVTEKHLTDGMTVRELCSAAITMSDNTAANLLLTTIGGPKELTAFLHNMGDHVTRLDRWEPELNEAIPNDERDTTMPAAMATTLRKLLTGELLTLASRQQLIDWMEADKVAGPLLRSALPAGWFIADKSGAGERGSRGIIAALGPDGKPSRIVVIYTTGSQATMDERNRQIAEIGASLIKHW'"
      ]
     },
     "execution_count": 15,
     "metadata": {},
     "output_type": "execute_result"
    }
   ],
   "source": [
    "wild_type"
   ]
  },
  {
   "cell_type": "code",
   "execution_count": 16,
   "metadata": {
    "ExecuteTime": {
     "end_time": "2020-09-13T09:02:36.470506Z",
     "start_time": "2020-09-13T09:02:36.467912Z"
    }
   },
   "outputs": [
    {
     "data": {
      "text/plain": [
       "'---AEDQLGA---RVGYIELDLNSGKIL-----E--------SFRPEERFPMMSTFKVLLCGAVLSRVDAGQEQLGRRIEKHL-------TDGMTVRELCSAAITM-------------------------------------SDNTAANLLTT-IGGPKETAFLHNMGDHVTRL-DRWEPELNEAIPNDERDTTMP------------------------AAMATTLRKLL-T----GELLTLASRQQLIDWMEADKVAGPLLRSALPAGWFIADKSGA-------GGSRGIIAALGPDGSRIVVIYTTGSQ--ATMDERNRQIAEI--'"
      ]
     },
     "execution_count": 16,
     "metadata": {},
     "output_type": "execute_result"
    }
   ],
   "source": [
    "escherichia_coli"
   ]
  },
  {
   "cell_type": "code",
   "execution_count": 17,
   "metadata": {
    "ExecuteTime": {
     "end_time": "2020-09-13T09:02:36.476452Z",
     "start_time": "2020-09-13T09:02:36.471729Z"
    }
   },
   "outputs": [
    {
     "name": "stdout",
     "output_type": "stream",
     "text": [
      "positions in alignment: 329; positions in natural sequence: 285\n"
     ]
    }
   ],
   "source": [
    "line1=\"msiqhfrvalipffaafclpvfahpetlvkvkd---AEDQLGA---RVGYIELDLNSGKIL-----E--------SFRPEERFPMMSTFKVLLCGAVLSRVDAGQEQLGRRIhysqndlveyspvtEKHL-------TDGMTVRELCSAAITM-------------------------------------SDNTAANlLL\"                            \n",
    "line2=\"TT-IGGPKElTAFLHNMGDHVTRL-DRWEPELNEAIPNDERDTTMP------------------------AAMATTLRKLL-T----GELLTLASRQQLIDWMEADKVAGPLLRSALPAGWFIADKSGA-------GerGSRGIIAALGPDGkpSRIVVIYTTGSQ--ATMDERNRQIAEI--gaslikhw\" \n",
    "align=line1+line2\n",
    "\n",
    "mapping = {}\n",
    "                                                                                                                                                                                                                                            \n",
    "align_pos = -1                                                                                                                                                                                                                           \n",
    "nat_pos = -1                                                                                                                                                                                                                              \n",
    "for c in align:                                                                                                                                                                                                                             \n",
    "    if c.islower():                                                                                                                                                                                                                         \n",
    "        nat_pos += 1\n",
    "    if c=='-':                                                                                                                                                                                                                              \n",
    "        align_pos += 1\n",
    "    if c.isupper():                                                                                                                                                                                                                         \n",
    "        nat_pos += 1                                                                                                                                                                                                                        \n",
    "        align_pos += 1\n",
    "        mapping[nat_pos] = align_pos                                                                                                                                                                             \n",
    "                                                                                                                                                                                                                                            \n",
    "print(\"positions in alignment: {}; positions in natural sequence: {}\".format(align_pos, nat_pos))"
   ]
  },
  {
   "cell_type": "code",
   "execution_count": 18,
   "metadata": {
    "ExecuteTime": {
     "end_time": "2020-09-13T09:02:36.483046Z",
     "start_time": "2020-09-13T09:02:36.478050Z"
    }
   },
   "outputs": [
    {
     "data": {
      "text/plain": [
       "{33: 3,\n",
       " 34: 4,\n",
       " 35: 5,\n",
       " 36: 6,\n",
       " 37: 7,\n",
       " 38: 8,\n",
       " 39: 9,\n",
       " 40: 13,\n",
       " 41: 14,\n",
       " 42: 15,\n",
       " 43: 16,\n",
       " 44: 17,\n",
       " 45: 18,\n",
       " 46: 19,\n",
       " 47: 20,\n",
       " 48: 21,\n",
       " 49: 22,\n",
       " 50: 23,\n",
       " 51: 24,\n",
       " 52: 25,\n",
       " 53: 26,\n",
       " 54: 27,\n",
       " 55: 33,\n",
       " 56: 42,\n",
       " 57: 43,\n",
       " 58: 44,\n",
       " 59: 45,\n",
       " 60: 46,\n",
       " 61: 47,\n",
       " 62: 48,\n",
       " 63: 49,\n",
       " 64: 50,\n",
       " 65: 51,\n",
       " 66: 52,\n",
       " 67: 53,\n",
       " 68: 54,\n",
       " 69: 55,\n",
       " 70: 56,\n",
       " 71: 57,\n",
       " 72: 58,\n",
       " 73: 59,\n",
       " 74: 60,\n",
       " 75: 61,\n",
       " 76: 62,\n",
       " 77: 63,\n",
       " 78: 64,\n",
       " 79: 65,\n",
       " 80: 66,\n",
       " 81: 67,\n",
       " 82: 68,\n",
       " 83: 69,\n",
       " 84: 70,\n",
       " 85: 71,\n",
       " 86: 72,\n",
       " 87: 73,\n",
       " 88: 74,\n",
       " 89: 75,\n",
       " 90: 76,\n",
       " 91: 77,\n",
       " 92: 78,\n",
       " 107: 79,\n",
       " 108: 80,\n",
       " 109: 81,\n",
       " 110: 82,\n",
       " 111: 90,\n",
       " 112: 91,\n",
       " 113: 92,\n",
       " 114: 93,\n",
       " 115: 94,\n",
       " 116: 95,\n",
       " 117: 96,\n",
       " 118: 97,\n",
       " 119: 98,\n",
       " 120: 99,\n",
       " 121: 100,\n",
       " 122: 101,\n",
       " 123: 102,\n",
       " 124: 103,\n",
       " 125: 104,\n",
       " 126: 105,\n",
       " 127: 143,\n",
       " 128: 144,\n",
       " 129: 145,\n",
       " 130: 146,\n",
       " 131: 147,\n",
       " 132: 148,\n",
       " 133: 149,\n",
       " 135: 150,\n",
       " 136: 151,\n",
       " 137: 152,\n",
       " 138: 153,\n",
       " 139: 155,\n",
       " 140: 156,\n",
       " 141: 157,\n",
       " 142: 158,\n",
       " 143: 159,\n",
       " 144: 160,\n",
       " 146: 161,\n",
       " 147: 162,\n",
       " 148: 163,\n",
       " 149: 164,\n",
       " 150: 165,\n",
       " 151: 166,\n",
       " 152: 167,\n",
       " 153: 168,\n",
       " 154: 169,\n",
       " 155: 170,\n",
       " 156: 171,\n",
       " 157: 172,\n",
       " 158: 173,\n",
       " 159: 174,\n",
       " 160: 176,\n",
       " 161: 177,\n",
       " 162: 178,\n",
       " 163: 179,\n",
       " 164: 180,\n",
       " 165: 181,\n",
       " 166: 182,\n",
       " 167: 183,\n",
       " 168: 184,\n",
       " 169: 185,\n",
       " 170: 186,\n",
       " 171: 187,\n",
       " 172: 188,\n",
       " 173: 189,\n",
       " 174: 190,\n",
       " 175: 191,\n",
       " 176: 192,\n",
       " 177: 193,\n",
       " 178: 194,\n",
       " 179: 195,\n",
       " 180: 196,\n",
       " 181: 221,\n",
       " 182: 222,\n",
       " 183: 223,\n",
       " 184: 224,\n",
       " 185: 225,\n",
       " 186: 226,\n",
       " 187: 227,\n",
       " 188: 228,\n",
       " 189: 229,\n",
       " 190: 230,\n",
       " 191: 231,\n",
       " 192: 233,\n",
       " 193: 238,\n",
       " 194: 239,\n",
       " 195: 240,\n",
       " 196: 241,\n",
       " 197: 242,\n",
       " 198: 243,\n",
       " 199: 244,\n",
       " 200: 245,\n",
       " 201: 246,\n",
       " 202: 247,\n",
       " 203: 248,\n",
       " 204: 249,\n",
       " 205: 250,\n",
       " 206: 251,\n",
       " 207: 252,\n",
       " 208: 253,\n",
       " 209: 254,\n",
       " 210: 255,\n",
       " 211: 256,\n",
       " 212: 257,\n",
       " 213: 258,\n",
       " 214: 259,\n",
       " 215: 260,\n",
       " 216: 261,\n",
       " 217: 262,\n",
       " 218: 263,\n",
       " 219: 264,\n",
       " 220: 265,\n",
       " 221: 266,\n",
       " 222: 267,\n",
       " 223: 268,\n",
       " 224: 269,\n",
       " 225: 270,\n",
       " 226: 271,\n",
       " 227: 272,\n",
       " 228: 273,\n",
       " 229: 274,\n",
       " 230: 275,\n",
       " 231: 276,\n",
       " 232: 277,\n",
       " 233: 278,\n",
       " 234: 279,\n",
       " 235: 287,\n",
       " 238: 288,\n",
       " 239: 289,\n",
       " 240: 290,\n",
       " 241: 291,\n",
       " 242: 292,\n",
       " 243: 293,\n",
       " 244: 294,\n",
       " 245: 295,\n",
       " 246: 296,\n",
       " 247: 297,\n",
       " 248: 298,\n",
       " 249: 299,\n",
       " 250: 300,\n",
       " 253: 301,\n",
       " 254: 302,\n",
       " 255: 303,\n",
       " 256: 304,\n",
       " 257: 305,\n",
       " 258: 306,\n",
       " 259: 307,\n",
       " 260: 308,\n",
       " 261: 309,\n",
       " 262: 310,\n",
       " 263: 311,\n",
       " 264: 312,\n",
       " 265: 315,\n",
       " 266: 316,\n",
       " 267: 317,\n",
       " 268: 318,\n",
       " 269: 319,\n",
       " 270: 320,\n",
       " 271: 321,\n",
       " 272: 322,\n",
       " 273: 323,\n",
       " 274: 324,\n",
       " 275: 325,\n",
       " 276: 326,\n",
       " 277: 327}"
      ]
     },
     "execution_count": 18,
     "metadata": {},
     "output_type": "execute_result"
    }
   ],
   "source": [
    "mapping"
   ]
  },
  {
   "cell_type": "code",
   "execution_count": 19,
   "metadata": {
    "ExecuteTime": {
     "end_time": "2020-09-13T09:02:36.495986Z",
     "start_time": "2020-09-13T09:02:36.484210Z"
    }
   },
   "outputs": [
    {
     "name": "stdout",
     "output_type": "stream",
     "text": [
      "A A\n",
      "E E\n",
      "D D\n",
      "Q Q\n",
      "L L\n",
      "G G\n",
      "A A\n",
      "R R\n",
      "V V\n",
      "G G\n",
      "Y Y\n",
      "I I\n",
      "E E\n",
      "L L\n",
      "D D\n",
      "L L\n",
      "N N\n",
      "S S\n",
      "G G\n",
      "K K\n",
      "I I\n",
      "L L\n",
      "E E\n",
      "S S\n",
      "F F\n",
      "R R\n",
      "P P\n",
      "E E\n",
      "E E\n",
      "R R\n",
      "F F\n",
      "P P\n",
      "M M\n",
      "M M\n",
      "S S\n",
      "T T\n",
      "F F\n",
      "K K\n",
      "V V\n",
      "L L\n",
      "L L\n",
      "C C\n",
      "G G\n",
      "A A\n",
      "V V\n",
      "L L\n",
      "S S\n",
      "R R\n",
      "V V\n",
      "D D\n",
      "A A\n",
      "G G\n",
      "Q Q\n",
      "E E\n",
      "Q Q\n",
      "L L\n",
      "G G\n",
      "R R\n",
      "R R\n",
      "I I\n",
      "E E\n",
      "K K\n",
      "H H\n",
      "L L\n",
      "T T\n",
      "D D\n",
      "G G\n",
      "M M\n",
      "T T\n",
      "V V\n",
      "R R\n",
      "E E\n",
      "L L\n",
      "C C\n",
      "S S\n",
      "A A\n",
      "A A\n",
      "I I\n",
      "T T\n",
      "M M\n",
      "S S\n",
      "D D\n",
      "N N\n",
      "T T\n",
      "A A\n",
      "A A\n",
      "N N\n",
      "L L\n",
      "L L\n",
      "T T\n",
      "T T\n",
      "I I\n",
      "G G\n",
      "G G\n",
      "P P\n",
      "K K\n",
      "E E\n",
      "T T\n",
      "A A\n",
      "F F\n",
      "L L\n",
      "H H\n",
      "N N\n",
      "M M\n",
      "G G\n",
      "D D\n",
      "H H\n",
      "V V\n",
      "T T\n",
      "R R\n",
      "L L\n",
      "D D\n",
      "R R\n",
      "W W\n",
      "E E\n",
      "P P\n",
      "E E\n",
      "L L\n",
      "N N\n",
      "E E\n",
      "A A\n",
      "I I\n",
      "P P\n",
      "N N\n",
      "D D\n",
      "E E\n",
      "R R\n",
      "D D\n",
      "T T\n",
      "T T\n",
      "M M\n",
      "P P\n",
      "A A\n",
      "A A\n",
      "M M\n",
      "A A\n",
      "T T\n",
      "T T\n",
      "L L\n",
      "R R\n",
      "K K\n",
      "L L\n",
      "L L\n",
      "T T\n",
      "G G\n",
      "E E\n",
      "L L\n",
      "L L\n",
      "T T\n",
      "L L\n",
      "A A\n",
      "S S\n",
      "R R\n",
      "Q Q\n",
      "Q Q\n",
      "L L\n",
      "I I\n",
      "D D\n",
      "W W\n",
      "M M\n",
      "E E\n",
      "A A\n",
      "D D\n",
      "K K\n",
      "V V\n",
      "A A\n",
      "G G\n",
      "P P\n",
      "L L\n",
      "L L\n",
      "R R\n",
      "S S\n",
      "A A\n",
      "L L\n",
      "P P\n",
      "A A\n",
      "G G\n",
      "W W\n",
      "F F\n",
      "I I\n",
      "A A\n",
      "D D\n",
      "K K\n",
      "S S\n",
      "G G\n",
      "A A\n",
      "G G\n",
      "G G\n",
      "S S\n",
      "R R\n",
      "G G\n",
      "I I\n",
      "I I\n",
      "A A\n",
      "A A\n",
      "L L\n",
      "G G\n",
      "P P\n",
      "D D\n",
      "G G\n",
      "S S\n",
      "R R\n",
      "I I\n",
      "V V\n",
      "V V\n",
      "I I\n",
      "Y Y\n",
      "T T\n",
      "T T\n",
      "G G\n",
      "S S\n",
      "Q Q\n",
      "A A\n",
      "T T\n",
      "M M\n",
      "D D\n",
      "E E\n",
      "R R\n",
      "N N\n",
      "R R\n",
      "Q Q\n",
      "I I\n",
      "A A\n",
      "E E\n",
      "I I\n"
     ]
    }
   ],
   "source": [
    "for key in mapping.keys():\n",
    "    print (wild_type[key], escherichia_coli[mapping[key]])"
   ]
  },
  {
   "cell_type": "code",
   "execution_count": 20,
   "metadata": {
    "ExecuteTime": {
     "end_time": "2020-09-13T09:02:36.515726Z",
     "start_time": "2020-09-13T09:02:36.497145Z"
    }
   },
   "outputs": [
    {
     "data": {
      "text/html": [
       "<div>\n",
       "<style scoped>\n",
       "    .dataframe tbody tr th:only-of-type {\n",
       "        vertical-align: middle;\n",
       "    }\n",
       "\n",
       "    .dataframe tbody tr th {\n",
       "        vertical-align: top;\n",
       "    }\n",
       "\n",
       "    .dataframe thead th {\n",
       "        text-align: right;\n",
       "    }\n",
       "</style>\n",
       "<table border=\"1\" class=\"dataframe\">\n",
       "  <thead>\n",
       "    <tr style=\"text-align: right;\">\n",
       "      <th></th>\n",
       "      <th>Residue</th>\n",
       "      <th>Wt_AA</th>\n",
       "      <th>Mutant_AA</th>\n",
       "      <th>Mutation</th>\n",
       "      <th>MIC_Score</th>\n",
       "    </tr>\n",
       "  </thead>\n",
       "  <tbody>\n",
       "    <tr>\n",
       "      <th>0</th>\n",
       "      <td>23</td>\n",
       "      <td>H</td>\n",
       "      <td>L</td>\n",
       "      <td>H24L</td>\n",
       "      <td>-0.500000</td>\n",
       "    </tr>\n",
       "    <tr>\n",
       "      <th>1</th>\n",
       "      <td>23</td>\n",
       "      <td>H</td>\n",
       "      <td>P</td>\n",
       "      <td>H24P</td>\n",
       "      <td>-3.321928</td>\n",
       "    </tr>\n",
       "    <tr>\n",
       "      <th>2</th>\n",
       "      <td>23</td>\n",
       "      <td>H</td>\n",
       "      <td>Q</td>\n",
       "      <td>H24Q</td>\n",
       "      <td>-1.000000</td>\n",
       "    </tr>\n",
       "    <tr>\n",
       "      <th>3</th>\n",
       "      <td>23</td>\n",
       "      <td>H</td>\n",
       "      <td>R</td>\n",
       "      <td>H24R</td>\n",
       "      <td>-0.250000</td>\n",
       "    </tr>\n",
       "    <tr>\n",
       "      <th>4</th>\n",
       "      <td>23</td>\n",
       "      <td>H</td>\n",
       "      <td>Y</td>\n",
       "      <td>H24Y</td>\n",
       "      <td>-1.000000</td>\n",
       "    </tr>\n",
       "    <tr>\n",
       "      <th>...</th>\n",
       "      <td>...</td>\n",
       "      <td>...</td>\n",
       "      <td>...</td>\n",
       "      <td>...</td>\n",
       "      <td>...</td>\n",
       "    </tr>\n",
       "    <tr>\n",
       "      <th>985</th>\n",
       "      <td>284</td>\n",
       "      <td>H</td>\n",
       "      <td>Q</td>\n",
       "      <td>H285Q</td>\n",
       "      <td>-0.333333</td>\n",
       "    </tr>\n",
       "    <tr>\n",
       "      <th>986</th>\n",
       "      <td>284</td>\n",
       "      <td>H</td>\n",
       "      <td>Y</td>\n",
       "      <td>H285Y</td>\n",
       "      <td>0.000000</td>\n",
       "    </tr>\n",
       "    <tr>\n",
       "      <th>987</th>\n",
       "      <td>285</td>\n",
       "      <td>W</td>\n",
       "      <td>C</td>\n",
       "      <td>W286C</td>\n",
       "      <td>-5.321928</td>\n",
       "    </tr>\n",
       "    <tr>\n",
       "      <th>988</th>\n",
       "      <td>285</td>\n",
       "      <td>W</td>\n",
       "      <td>L</td>\n",
       "      <td>W286L</td>\n",
       "      <td>-2.321928</td>\n",
       "    </tr>\n",
       "    <tr>\n",
       "      <th>989</th>\n",
       "      <td>285</td>\n",
       "      <td>W</td>\n",
       "      <td>R</td>\n",
       "      <td>W286R</td>\n",
       "      <td>-5.250499</td>\n",
       "    </tr>\n",
       "  </tbody>\n",
       "</table>\n",
       "<p>990 rows × 5 columns</p>\n",
       "</div>"
      ],
      "text/plain": [
       "     Residue Wt_AA Mutant_AA Mutation  MIC_Score\n",
       "0         23     H         L     H24L  -0.500000\n",
       "1         23     H         P     H24P  -3.321928\n",
       "2         23     H         Q     H24Q  -1.000000\n",
       "3         23     H         R     H24R  -0.250000\n",
       "4         23     H         Y     H24Y  -1.000000\n",
       "..       ...   ...       ...      ...        ...\n",
       "985      284     H         Q    H285Q  -0.333333\n",
       "986      284     H         Y    H285Y   0.000000\n",
       "987      285     W         C    W286C  -5.321928\n",
       "988      285     W         L    W286L  -2.321928\n",
       "989      285     W         R    W286R  -5.250499\n",
       "\n",
       "[990 rows x 5 columns]"
      ]
     },
     "execution_count": 20,
     "metadata": {},
     "output_type": "execute_result"
    }
   ],
   "source": [
    "mic"
   ]
  },
  {
   "cell_type": "code",
   "execution_count": 21,
   "metadata": {
    "ExecuteTime": {
     "end_time": "2020-09-13T09:02:36.547466Z",
     "start_time": "2020-09-13T09:02:36.542900Z"
    }
   },
   "outputs": [],
   "source": [
    "mic[\"aligned_pos\"] = 0"
   ]
  },
  {
   "cell_type": "code",
   "execution_count": 22,
   "metadata": {
    "ExecuteTime": {
     "end_time": "2020-09-13T09:02:36.627700Z",
     "start_time": "2020-09-13T09:02:36.550251Z"
    }
   },
   "outputs": [
    {
     "name": "stderr",
     "output_type": "stream",
     "text": [
      "/home/3005019/anaconda3/lib/python3.7/site-packages/ipykernel_launcher.py:3: SettingWithCopyWarning: \n",
      "A value is trying to be set on a copy of a slice from a DataFrame\n",
      "\n",
      "See the caveats in the documentation: http://pandas.pydata.org/pandas-docs/stable/user_guide/indexing.html#returning-a-view-versus-a-copy\n",
      "  This is separate from the ipykernel package so we can avoid doing imports until\n"
     ]
    }
   ],
   "source": [
    "for i in mic.Residue:\n",
    "    try:\n",
    "        mic.aligned_pos[i] = mapping[mic.Residue[i]]\n",
    "    except KeyError:\n",
    "        continue"
   ]
  },
  {
   "cell_type": "code",
   "execution_count": 23,
   "metadata": {
    "ExecuteTime": {
     "end_time": "2020-09-13T09:02:36.630865Z",
     "start_time": "2020-09-13T09:02:36.629098Z"
    }
   },
   "outputs": [],
   "source": [
    "# mic_1[\"aligned_pos\"] = 0\n",
    "\n",
    "# mic_1.Residue -= 1\n",
    "\n",
    "# for i in mic_1.Residue:\n",
    "#     try:\n",
    "#         mic_1.aligned_pos[i] = mapping[mic_1.Residue[i]]\n",
    "#     except KeyError:\n",
    "#         continue"
   ]
  },
  {
   "cell_type": "code",
   "execution_count": 24,
   "metadata": {
    "ExecuteTime": {
     "end_time": "2020-09-13T09:02:36.642062Z",
     "start_time": "2020-09-13T09:02:36.632005Z"
    }
   },
   "outputs": [
    {
     "data": {
      "text/html": [
       "<div>\n",
       "<style scoped>\n",
       "    .dataframe tbody tr th:only-of-type {\n",
       "        vertical-align: middle;\n",
       "    }\n",
       "\n",
       "    .dataframe tbody tr th {\n",
       "        vertical-align: top;\n",
       "    }\n",
       "\n",
       "    .dataframe thead th {\n",
       "        text-align: right;\n",
       "    }\n",
       "</style>\n",
       "<table border=\"1\" class=\"dataframe\">\n",
       "  <thead>\n",
       "    <tr style=\"text-align: right;\">\n",
       "      <th></th>\n",
       "      <th>Residue</th>\n",
       "      <th>Wt_AA</th>\n",
       "      <th>Mutant_AA</th>\n",
       "      <th>Mutation</th>\n",
       "      <th>MIC_Score</th>\n",
       "      <th>aligned_pos</th>\n",
       "    </tr>\n",
       "  </thead>\n",
       "  <tbody>\n",
       "    <tr>\n",
       "      <th>0</th>\n",
       "      <td>23</td>\n",
       "      <td>H</td>\n",
       "      <td>L</td>\n",
       "      <td>H24L</td>\n",
       "      <td>-0.500000</td>\n",
       "      <td>0</td>\n",
       "    </tr>\n",
       "    <tr>\n",
       "      <th>1</th>\n",
       "      <td>23</td>\n",
       "      <td>H</td>\n",
       "      <td>P</td>\n",
       "      <td>H24P</td>\n",
       "      <td>-3.321928</td>\n",
       "      <td>0</td>\n",
       "    </tr>\n",
       "    <tr>\n",
       "      <th>2</th>\n",
       "      <td>23</td>\n",
       "      <td>H</td>\n",
       "      <td>Q</td>\n",
       "      <td>H24Q</td>\n",
       "      <td>-1.000000</td>\n",
       "      <td>0</td>\n",
       "    </tr>\n",
       "    <tr>\n",
       "      <th>3</th>\n",
       "      <td>23</td>\n",
       "      <td>H</td>\n",
       "      <td>R</td>\n",
       "      <td>H24R</td>\n",
       "      <td>-0.250000</td>\n",
       "      <td>0</td>\n",
       "    </tr>\n",
       "    <tr>\n",
       "      <th>4</th>\n",
       "      <td>23</td>\n",
       "      <td>H</td>\n",
       "      <td>Y</td>\n",
       "      <td>H24Y</td>\n",
       "      <td>-1.000000</td>\n",
       "      <td>0</td>\n",
       "    </tr>\n",
       "    <tr>\n",
       "      <th>...</th>\n",
       "      <td>...</td>\n",
       "      <td>...</td>\n",
       "      <td>...</td>\n",
       "      <td>...</td>\n",
       "      <td>...</td>\n",
       "      <td>...</td>\n",
       "    </tr>\n",
       "    <tr>\n",
       "      <th>985</th>\n",
       "      <td>284</td>\n",
       "      <td>H</td>\n",
       "      <td>Q</td>\n",
       "      <td>H285Q</td>\n",
       "      <td>-0.333333</td>\n",
       "      <td>0</td>\n",
       "    </tr>\n",
       "    <tr>\n",
       "      <th>986</th>\n",
       "      <td>284</td>\n",
       "      <td>H</td>\n",
       "      <td>Y</td>\n",
       "      <td>H285Y</td>\n",
       "      <td>0.000000</td>\n",
       "      <td>0</td>\n",
       "    </tr>\n",
       "    <tr>\n",
       "      <th>987</th>\n",
       "      <td>285</td>\n",
       "      <td>W</td>\n",
       "      <td>C</td>\n",
       "      <td>W286C</td>\n",
       "      <td>-5.321928</td>\n",
       "      <td>0</td>\n",
       "    </tr>\n",
       "    <tr>\n",
       "      <th>988</th>\n",
       "      <td>285</td>\n",
       "      <td>W</td>\n",
       "      <td>L</td>\n",
       "      <td>W286L</td>\n",
       "      <td>-2.321928</td>\n",
       "      <td>0</td>\n",
       "    </tr>\n",
       "    <tr>\n",
       "      <th>989</th>\n",
       "      <td>285</td>\n",
       "      <td>W</td>\n",
       "      <td>R</td>\n",
       "      <td>W286R</td>\n",
       "      <td>-5.250499</td>\n",
       "      <td>0</td>\n",
       "    </tr>\n",
       "  </tbody>\n",
       "</table>\n",
       "<p>990 rows × 6 columns</p>\n",
       "</div>"
      ],
      "text/plain": [
       "     Residue Wt_AA Mutant_AA Mutation  MIC_Score  aligned_pos\n",
       "0         23     H         L     H24L  -0.500000            0\n",
       "1         23     H         P     H24P  -3.321928            0\n",
       "2         23     H         Q     H24Q  -1.000000            0\n",
       "3         23     H         R     H24R  -0.250000            0\n",
       "4         23     H         Y     H24Y  -1.000000            0\n",
       "..       ...   ...       ...      ...        ...          ...\n",
       "985      284     H         Q    H285Q  -0.333333            0\n",
       "986      284     H         Y    H285Y   0.000000            0\n",
       "987      285     W         C    W286C  -5.321928            0\n",
       "988      285     W         L    W286L  -2.321928            0\n",
       "989      285     W         R    W286R  -5.250499            0\n",
       "\n",
       "[990 rows x 6 columns]"
      ]
     },
     "execution_count": 24,
     "metadata": {},
     "output_type": "execute_result"
    }
   ],
   "source": [
    "mic"
   ]
  },
  {
   "cell_type": "code",
   "execution_count": 25,
   "metadata": {
    "ExecuteTime": {
     "end_time": "2020-09-13T09:02:36.647965Z",
     "start_time": "2020-09-13T09:02:36.643110Z"
    }
   },
   "outputs": [],
   "source": [
    "mic_filtered = mic.query(\"aligned_pos != 0\")"
   ]
  },
  {
   "cell_type": "code",
   "execution_count": 26,
   "metadata": {
    "ExecuteTime": {
     "end_time": "2020-09-13T09:02:36.651213Z",
     "start_time": "2020-09-13T09:02:36.649175Z"
    }
   },
   "outputs": [],
   "source": [
    "# mic_1_filtered = mic_1.query(\"aligned_pos != 0\")"
   ]
  },
  {
   "cell_type": "code",
   "execution_count": 27,
   "metadata": {
    "ExecuteTime": {
     "end_time": "2020-09-13T09:02:36.661526Z",
     "start_time": "2020-09-13T09:02:36.652572Z"
    }
   },
   "outputs": [
    {
     "data": {
      "text/html": [
       "<div>\n",
       "<style scoped>\n",
       "    .dataframe tbody tr th:only-of-type {\n",
       "        vertical-align: middle;\n",
       "    }\n",
       "\n",
       "    .dataframe tbody tr th {\n",
       "        vertical-align: top;\n",
       "    }\n",
       "\n",
       "    .dataframe thead th {\n",
       "        text-align: right;\n",
       "    }\n",
       "</style>\n",
       "<table border=\"1\" class=\"dataframe\">\n",
       "  <thead>\n",
       "    <tr style=\"text-align: right;\">\n",
       "      <th></th>\n",
       "      <th>Residue</th>\n",
       "      <th>Wt_AA</th>\n",
       "      <th>Mutant_AA</th>\n",
       "      <th>Mutation</th>\n",
       "      <th>MIC_Score</th>\n",
       "      <th>aligned_pos</th>\n",
       "    </tr>\n",
       "  </thead>\n",
       "  <tbody>\n",
       "    <tr>\n",
       "      <th>42</th>\n",
       "      <td>33</td>\n",
       "      <td>A</td>\n",
       "      <td>D</td>\n",
       "      <td>A34D</td>\n",
       "      <td>-5.321928</td>\n",
       "      <td>3</td>\n",
       "    </tr>\n",
       "    <tr>\n",
       "      <th>43</th>\n",
       "      <td>33</td>\n",
       "      <td>A</td>\n",
       "      <td>G</td>\n",
       "      <td>A34G</td>\n",
       "      <td>-1.000000</td>\n",
       "      <td>3</td>\n",
       "    </tr>\n",
       "    <tr>\n",
       "      <th>44</th>\n",
       "      <td>33</td>\n",
       "      <td>A</td>\n",
       "      <td>P</td>\n",
       "      <td>A34P</td>\n",
       "      <td>-4.821928</td>\n",
       "      <td>3</td>\n",
       "    </tr>\n",
       "    <tr>\n",
       "      <th>45</th>\n",
       "      <td>33</td>\n",
       "      <td>A</td>\n",
       "      <td>T</td>\n",
       "      <td>A34T</td>\n",
       "      <td>-1.064386</td>\n",
       "      <td>3</td>\n",
       "    </tr>\n",
       "    <tr>\n",
       "      <th>46</th>\n",
       "      <td>33</td>\n",
       "      <td>A</td>\n",
       "      <td>V</td>\n",
       "      <td>A34V</td>\n",
       "      <td>0.000000</td>\n",
       "      <td>3</td>\n",
       "    </tr>\n",
       "    <tr>\n",
       "      <th>...</th>\n",
       "      <td>...</td>\n",
       "      <td>...</td>\n",
       "      <td>...</td>\n",
       "      <td>...</td>\n",
       "      <td>...</td>\n",
       "      <td>...</td>\n",
       "    </tr>\n",
       "    <tr>\n",
       "      <th>276</th>\n",
       "      <td>91</td>\n",
       "      <td>R</td>\n",
       "      <td>S</td>\n",
       "      <td>R92S</td>\n",
       "      <td>-1.000000</td>\n",
       "      <td>77</td>\n",
       "    </tr>\n",
       "    <tr>\n",
       "      <th>277</th>\n",
       "      <td>92</td>\n",
       "      <td>I</td>\n",
       "      <td>K</td>\n",
       "      <td>I93K</td>\n",
       "      <td>-2.821928</td>\n",
       "      <td>78</td>\n",
       "    </tr>\n",
       "    <tr>\n",
       "      <th>278</th>\n",
       "      <td>92</td>\n",
       "      <td>I</td>\n",
       "      <td>L</td>\n",
       "      <td>I93L</td>\n",
       "      <td>0.000000</td>\n",
       "      <td>78</td>\n",
       "    </tr>\n",
       "    <tr>\n",
       "      <th>279</th>\n",
       "      <td>92</td>\n",
       "      <td>I</td>\n",
       "      <td>M</td>\n",
       "      <td>I93M</td>\n",
       "      <td>0.000000</td>\n",
       "      <td>78</td>\n",
       "    </tr>\n",
       "    <tr>\n",
       "      <th>280</th>\n",
       "      <td>92</td>\n",
       "      <td>I</td>\n",
       "      <td>V</td>\n",
       "      <td>I93V</td>\n",
       "      <td>0.333333</td>\n",
       "      <td>78</td>\n",
       "    </tr>\n",
       "  </tbody>\n",
       "</table>\n",
       "<p>239 rows × 6 columns</p>\n",
       "</div>"
      ],
      "text/plain": [
       "     Residue Wt_AA Mutant_AA Mutation  MIC_Score  aligned_pos\n",
       "42        33     A         D     A34D  -5.321928            3\n",
       "43        33     A         G     A34G  -1.000000            3\n",
       "44        33     A         P     A34P  -4.821928            3\n",
       "45        33     A         T     A34T  -1.064386            3\n",
       "46        33     A         V     A34V   0.000000            3\n",
       "..       ...   ...       ...      ...        ...          ...\n",
       "276       91     R         S     R92S  -1.000000           77\n",
       "277       92     I         K     I93K  -2.821928           78\n",
       "278       92     I         L     I93L   0.000000           78\n",
       "279       92     I         M     I93M   0.000000           78\n",
       "280       92     I         V     I93V   0.333333           78\n",
       "\n",
       "[239 rows x 6 columns]"
      ]
     },
     "execution_count": 27,
     "metadata": {},
     "output_type": "execute_result"
    }
   ],
   "source": [
    "mic_filtered"
   ]
  },
  {
   "cell_type": "code",
   "execution_count": 28,
   "metadata": {
    "ExecuteTime": {
     "end_time": "2020-09-13T09:02:36.666897Z",
     "start_time": "2020-09-13T09:02:36.663071Z"
    }
   },
   "outputs": [],
   "source": [
    "cfg = du.read_yaml(\"../config/config.yaml\")"
   ]
  },
  {
   "cell_type": "code",
   "execution_count": 29,
   "metadata": {
    "ExecuteTime": {
     "end_time": "2020-09-13T09:02:36.674273Z",
     "start_time": "2020-09-13T09:02:36.668384Z"
    }
   },
   "outputs": [],
   "source": [
    "model = torch.load(cfg[\"output_model\"])"
   ]
  },
  {
   "cell_type": "code",
   "execution_count": 30,
   "metadata": {
    "ExecuteTime": {
     "end_time": "2020-09-13T09:02:36.696663Z",
     "start_time": "2020-09-13T09:02:36.675457Z"
    }
   },
   "outputs": [
    {
     "data": {
      "text/plain": [
       "tensor([-0.6855], grad_fn=<AddBackward0>)"
      ]
     },
     "execution_count": 30,
     "metadata": {},
     "output_type": "execute_result"
    }
   ],
   "source": [
    "model(encoding(escherichia_coli))"
   ]
  },
  {
   "cell_type": "code",
   "execution_count": 31,
   "metadata": {
    "ExecuteTime": {
     "end_time": "2020-09-13T09:02:36.702139Z",
     "start_time": "2020-09-13T09:02:36.698258Z"
    }
   },
   "outputs": [
    {
     "data": {
      "text/plain": [
       "'models/contrastive_divergence.pickle'"
      ]
     },
     "execution_count": 31,
     "metadata": {},
     "output_type": "execute_result"
    }
   ],
   "source": [
    "cfg[\"output_model\"]"
   ]
  },
  {
   "cell_type": "markdown",
   "metadata": {},
   "source": [
    "# Correlation between MIC scores and energy differences"
   ]
  },
  {
   "cell_type": "code",
   "execution_count": 32,
   "metadata": {
    "ExecuteTime": {
     "end_time": "2020-09-13T09:02:36.705695Z",
     "start_time": "2020-09-13T09:02:36.703605Z"
    }
   },
   "outputs": [],
   "source": [
    "# mic_filtered = mic_1_filtered.append(mic_filtered).reset_index(drop=True)"
   ]
  },
  {
   "cell_type": "code",
   "execution_count": 33,
   "metadata": {
    "ExecuteTime": {
     "end_time": "2020-09-13T09:02:36.710753Z",
     "start_time": "2020-09-13T09:02:36.707204Z"
    }
   },
   "outputs": [
    {
     "name": "stderr",
     "output_type": "stream",
     "text": [
      "/home/3005019/anaconda3/lib/python3.7/site-packages/ipykernel_launcher.py:1: SettingWithCopyWarning: \n",
      "A value is trying to be set on a copy of a slice from a DataFrame.\n",
      "Try using .loc[row_indexer,col_indexer] = value instead\n",
      "\n",
      "See the caveats in the documentation: http://pandas.pydata.org/pandas-docs/stable/user_guide/indexing.html#returning-a-view-versus-a-copy\n",
      "  \"\"\"Entry point for launching an IPython kernel.\n"
     ]
    }
   ],
   "source": [
    "mic_filtered[\"predicted_MIC\"] = 0"
   ]
  },
  {
   "cell_type": "code",
   "execution_count": 34,
   "metadata": {
    "ExecuteTime": {
     "end_time": "2020-09-13T09:02:36.714644Z",
     "start_time": "2020-09-13T09:02:36.712225Z"
    }
   },
   "outputs": [],
   "source": [
    "mic_filtered.reset_index(inplace=True, drop=True)"
   ]
  },
  {
   "cell_type": "code",
   "execution_count": 35,
   "metadata": {
    "ExecuteTime": {
     "end_time": "2020-09-13T09:02:36.729499Z",
     "start_time": "2020-09-13T09:02:36.716029Z"
    }
   },
   "outputs": [
    {
     "data": {
      "text/html": [
       "<div>\n",
       "<style scoped>\n",
       "    .dataframe tbody tr th:only-of-type {\n",
       "        vertical-align: middle;\n",
       "    }\n",
       "\n",
       "    .dataframe tbody tr th {\n",
       "        vertical-align: top;\n",
       "    }\n",
       "\n",
       "    .dataframe thead th {\n",
       "        text-align: right;\n",
       "    }\n",
       "</style>\n",
       "<table border=\"1\" class=\"dataframe\">\n",
       "  <thead>\n",
       "    <tr style=\"text-align: right;\">\n",
       "      <th></th>\n",
       "      <th>Residue</th>\n",
       "      <th>Wt_AA</th>\n",
       "      <th>Mutant_AA</th>\n",
       "      <th>Mutation</th>\n",
       "      <th>MIC_Score</th>\n",
       "      <th>aligned_pos</th>\n",
       "      <th>predicted_MIC</th>\n",
       "    </tr>\n",
       "  </thead>\n",
       "  <tbody>\n",
       "    <tr>\n",
       "      <th>0</th>\n",
       "      <td>33</td>\n",
       "      <td>A</td>\n",
       "      <td>D</td>\n",
       "      <td>A34D</td>\n",
       "      <td>-5.321928</td>\n",
       "      <td>3</td>\n",
       "      <td>0</td>\n",
       "    </tr>\n",
       "    <tr>\n",
       "      <th>1</th>\n",
       "      <td>33</td>\n",
       "      <td>A</td>\n",
       "      <td>G</td>\n",
       "      <td>A34G</td>\n",
       "      <td>-1.000000</td>\n",
       "      <td>3</td>\n",
       "      <td>0</td>\n",
       "    </tr>\n",
       "    <tr>\n",
       "      <th>2</th>\n",
       "      <td>33</td>\n",
       "      <td>A</td>\n",
       "      <td>P</td>\n",
       "      <td>A34P</td>\n",
       "      <td>-4.821928</td>\n",
       "      <td>3</td>\n",
       "      <td>0</td>\n",
       "    </tr>\n",
       "    <tr>\n",
       "      <th>3</th>\n",
       "      <td>33</td>\n",
       "      <td>A</td>\n",
       "      <td>T</td>\n",
       "      <td>A34T</td>\n",
       "      <td>-1.064386</td>\n",
       "      <td>3</td>\n",
       "      <td>0</td>\n",
       "    </tr>\n",
       "    <tr>\n",
       "      <th>4</th>\n",
       "      <td>33</td>\n",
       "      <td>A</td>\n",
       "      <td>V</td>\n",
       "      <td>A34V</td>\n",
       "      <td>0.000000</td>\n",
       "      <td>3</td>\n",
       "      <td>0</td>\n",
       "    </tr>\n",
       "    <tr>\n",
       "      <th>...</th>\n",
       "      <td>...</td>\n",
       "      <td>...</td>\n",
       "      <td>...</td>\n",
       "      <td>...</td>\n",
       "      <td>...</td>\n",
       "      <td>...</td>\n",
       "      <td>...</td>\n",
       "    </tr>\n",
       "    <tr>\n",
       "      <th>234</th>\n",
       "      <td>91</td>\n",
       "      <td>R</td>\n",
       "      <td>S</td>\n",
       "      <td>R92S</td>\n",
       "      <td>-1.000000</td>\n",
       "      <td>77</td>\n",
       "      <td>0</td>\n",
       "    </tr>\n",
       "    <tr>\n",
       "      <th>235</th>\n",
       "      <td>92</td>\n",
       "      <td>I</td>\n",
       "      <td>K</td>\n",
       "      <td>I93K</td>\n",
       "      <td>-2.821928</td>\n",
       "      <td>78</td>\n",
       "      <td>0</td>\n",
       "    </tr>\n",
       "    <tr>\n",
       "      <th>236</th>\n",
       "      <td>92</td>\n",
       "      <td>I</td>\n",
       "      <td>L</td>\n",
       "      <td>I93L</td>\n",
       "      <td>0.000000</td>\n",
       "      <td>78</td>\n",
       "      <td>0</td>\n",
       "    </tr>\n",
       "    <tr>\n",
       "      <th>237</th>\n",
       "      <td>92</td>\n",
       "      <td>I</td>\n",
       "      <td>M</td>\n",
       "      <td>I93M</td>\n",
       "      <td>0.000000</td>\n",
       "      <td>78</td>\n",
       "      <td>0</td>\n",
       "    </tr>\n",
       "    <tr>\n",
       "      <th>238</th>\n",
       "      <td>92</td>\n",
       "      <td>I</td>\n",
       "      <td>V</td>\n",
       "      <td>I93V</td>\n",
       "      <td>0.333333</td>\n",
       "      <td>78</td>\n",
       "      <td>0</td>\n",
       "    </tr>\n",
       "  </tbody>\n",
       "</table>\n",
       "<p>239 rows × 7 columns</p>\n",
       "</div>"
      ],
      "text/plain": [
       "     Residue Wt_AA Mutant_AA Mutation  MIC_Score  aligned_pos  predicted_MIC\n",
       "0         33     A         D     A34D  -5.321928            3              0\n",
       "1         33     A         G     A34G  -1.000000            3              0\n",
       "2         33     A         P     A34P  -4.821928            3              0\n",
       "3         33     A         T     A34T  -1.064386            3              0\n",
       "4         33     A         V     A34V   0.000000            3              0\n",
       "..       ...   ...       ...      ...        ...          ...            ...\n",
       "234       91     R         S     R92S  -1.000000           77              0\n",
       "235       92     I         K     I93K  -2.821928           78              0\n",
       "236       92     I         L     I93L   0.000000           78              0\n",
       "237       92     I         M     I93M   0.000000           78              0\n",
       "238       92     I         V     I93V   0.333333           78              0\n",
       "\n",
       "[239 rows x 7 columns]"
      ]
     },
     "execution_count": 35,
     "metadata": {},
     "output_type": "execute_result"
    }
   ],
   "source": [
    "mic_filtered"
   ]
  },
  {
   "cell_type": "code",
   "execution_count": 36,
   "metadata": {
    "ExecuteTime": {
     "end_time": "2020-09-13T09:02:36.977838Z",
     "start_time": "2020-09-13T09:02:36.730831Z"
    }
   },
   "outputs": [
    {
     "data": {
      "application/vnd.jupyter.widget-view+json": {
       "model_id": "0c80fb22e641410981e93a7d2c32266b",
       "version_major": 2,
       "version_minor": 0
      },
      "text/plain": [
       "HBox(children=(FloatProgress(value=0.0, max=239.0), HTML(value='')))"
      ]
     },
     "metadata": {},
     "output_type": "display_data"
    },
    {
     "name": "stderr",
     "output_type": "stream",
     "text": [
      "/home/3005019/anaconda3/lib/python3.7/site-packages/pandas/core/indexing.py:494: SettingWithCopyWarning: \n",
      "A value is trying to be set on a copy of a slice from a DataFrame.\n",
      "Try using .loc[row_indexer,col_indexer] = value instead\n",
      "\n",
      "See the caveats in the documentation: http://pandas.pydata.org/pandas-docs/stable/user_guide/indexing.html#returning-a-view-versus-a-copy\n",
      "  self.obj[item] = s\n"
     ]
    },
    {
     "name": "stdout",
     "output_type": "stream",
     "text": [
      "\n"
     ]
    }
   ],
   "source": [
    "old_E = model(encoding(escherichia_coli))\n",
    "\n",
    "for i in tqdm(range(len(mic_filtered))):\n",
    "    residue = mic_filtered.loc[i, \"aligned_pos\"]\n",
    "    mutant_aa = mic_filtered.loc[i, \"Mutant_AA\"]\n",
    "\n",
    "    # Mutate sequence\n",
    "    new_seq = copy(escherichia_coli)\n",
    "    new_seq = list(new_seq)\n",
    "    new_seq[residue] = mutant_aa\n",
    "    new_seq = \"\".join(new_seq)\n",
    "    \n",
    "    # Calculate energy of original and mutated sequences\n",
    "    encoded_new = encoding(new_seq)\n",
    "    new_E = model(encoded_new)\n",
    "    \n",
    "    predicted_MIC = float(new_E) - float(old_E)\n",
    "    \n",
    "    mic_filtered.loc[i, \"predicted_MIC\"] = predicted_MIC"
   ]
  },
  {
   "cell_type": "code",
   "execution_count": 37,
   "metadata": {
    "ExecuteTime": {
     "end_time": "2020-09-13T09:02:36.993305Z",
     "start_time": "2020-09-13T09:02:36.979224Z"
    }
   },
   "outputs": [
    {
     "data": {
      "text/html": [
       "<div>\n",
       "<style scoped>\n",
       "    .dataframe tbody tr th:only-of-type {\n",
       "        vertical-align: middle;\n",
       "    }\n",
       "\n",
       "    .dataframe tbody tr th {\n",
       "        vertical-align: top;\n",
       "    }\n",
       "\n",
       "    .dataframe thead th {\n",
       "        text-align: right;\n",
       "    }\n",
       "</style>\n",
       "<table border=\"1\" class=\"dataframe\">\n",
       "  <thead>\n",
       "    <tr style=\"text-align: right;\">\n",
       "      <th></th>\n",
       "      <th>Residue</th>\n",
       "      <th>Wt_AA</th>\n",
       "      <th>Mutant_AA</th>\n",
       "      <th>Mutation</th>\n",
       "      <th>MIC_Score</th>\n",
       "      <th>aligned_pos</th>\n",
       "      <th>predicted_MIC</th>\n",
       "    </tr>\n",
       "  </thead>\n",
       "  <tbody>\n",
       "    <tr>\n",
       "      <th>0</th>\n",
       "      <td>33</td>\n",
       "      <td>A</td>\n",
       "      <td>D</td>\n",
       "      <td>A34D</td>\n",
       "      <td>-5.321928</td>\n",
       "      <td>3</td>\n",
       "      <td>-0.006542</td>\n",
       "    </tr>\n",
       "    <tr>\n",
       "      <th>1</th>\n",
       "      <td>33</td>\n",
       "      <td>A</td>\n",
       "      <td>G</td>\n",
       "      <td>A34G</td>\n",
       "      <td>-1.000000</td>\n",
       "      <td>3</td>\n",
       "      <td>0.002583</td>\n",
       "    </tr>\n",
       "    <tr>\n",
       "      <th>2</th>\n",
       "      <td>33</td>\n",
       "      <td>A</td>\n",
       "      <td>P</td>\n",
       "      <td>A34P</td>\n",
       "      <td>-4.821928</td>\n",
       "      <td>3</td>\n",
       "      <td>0.006000</td>\n",
       "    </tr>\n",
       "    <tr>\n",
       "      <th>3</th>\n",
       "      <td>33</td>\n",
       "      <td>A</td>\n",
       "      <td>T</td>\n",
       "      <td>A34T</td>\n",
       "      <td>-1.064386</td>\n",
       "      <td>3</td>\n",
       "      <td>-0.011812</td>\n",
       "    </tr>\n",
       "    <tr>\n",
       "      <th>4</th>\n",
       "      <td>33</td>\n",
       "      <td>A</td>\n",
       "      <td>V</td>\n",
       "      <td>A34V</td>\n",
       "      <td>0.000000</td>\n",
       "      <td>3</td>\n",
       "      <td>0.002220</td>\n",
       "    </tr>\n",
       "    <tr>\n",
       "      <th>...</th>\n",
       "      <td>...</td>\n",
       "      <td>...</td>\n",
       "      <td>...</td>\n",
       "      <td>...</td>\n",
       "      <td>...</td>\n",
       "      <td>...</td>\n",
       "      <td>...</td>\n",
       "    </tr>\n",
       "    <tr>\n",
       "      <th>234</th>\n",
       "      <td>91</td>\n",
       "      <td>R</td>\n",
       "      <td>S</td>\n",
       "      <td>R92S</td>\n",
       "      <td>-1.000000</td>\n",
       "      <td>77</td>\n",
       "      <td>0.003561</td>\n",
       "    </tr>\n",
       "    <tr>\n",
       "      <th>235</th>\n",
       "      <td>92</td>\n",
       "      <td>I</td>\n",
       "      <td>K</td>\n",
       "      <td>I93K</td>\n",
       "      <td>-2.821928</td>\n",
       "      <td>78</td>\n",
       "      <td>0.004078</td>\n",
       "    </tr>\n",
       "    <tr>\n",
       "      <th>236</th>\n",
       "      <td>92</td>\n",
       "      <td>I</td>\n",
       "      <td>L</td>\n",
       "      <td>I93L</td>\n",
       "      <td>0.000000</td>\n",
       "      <td>78</td>\n",
       "      <td>0.004131</td>\n",
       "    </tr>\n",
       "    <tr>\n",
       "      <th>237</th>\n",
       "      <td>92</td>\n",
       "      <td>I</td>\n",
       "      <td>M</td>\n",
       "      <td>I93M</td>\n",
       "      <td>0.000000</td>\n",
       "      <td>78</td>\n",
       "      <td>0.006441</td>\n",
       "    </tr>\n",
       "    <tr>\n",
       "      <th>238</th>\n",
       "      <td>92</td>\n",
       "      <td>I</td>\n",
       "      <td>V</td>\n",
       "      <td>I93V</td>\n",
       "      <td>0.333333</td>\n",
       "      <td>78</td>\n",
       "      <td>-0.002674</td>\n",
       "    </tr>\n",
       "  </tbody>\n",
       "</table>\n",
       "<p>239 rows × 7 columns</p>\n",
       "</div>"
      ],
      "text/plain": [
       "     Residue Wt_AA Mutant_AA Mutation  MIC_Score  aligned_pos  predicted_MIC\n",
       "0         33     A         D     A34D  -5.321928            3      -0.006542\n",
       "1         33     A         G     A34G  -1.000000            3       0.002583\n",
       "2         33     A         P     A34P  -4.821928            3       0.006000\n",
       "3         33     A         T     A34T  -1.064386            3      -0.011812\n",
       "4         33     A         V     A34V   0.000000            3       0.002220\n",
       "..       ...   ...       ...      ...        ...          ...            ...\n",
       "234       91     R         S     R92S  -1.000000           77       0.003561\n",
       "235       92     I         K     I93K  -2.821928           78       0.004078\n",
       "236       92     I         L     I93L   0.000000           78       0.004131\n",
       "237       92     I         M     I93M   0.000000           78       0.006441\n",
       "238       92     I         V     I93V   0.333333           78      -0.002674\n",
       "\n",
       "[239 rows x 7 columns]"
      ]
     },
     "execution_count": 37,
     "metadata": {},
     "output_type": "execute_result"
    }
   ],
   "source": [
    "mic_filtered"
   ]
  },
  {
   "cell_type": "code",
   "execution_count": 38,
   "metadata": {
    "ExecuteTime": {
     "end_time": "2020-09-13T09:02:37.000258Z",
     "start_time": "2020-09-13T09:02:36.994772Z"
    }
   },
   "outputs": [],
   "source": [
    "def rank_corr(x, y, data):\n",
    "    for col in [x, y]:\n",
    "        data.sort_values(col, ascending=False, inplace=True)\n",
    "        data[f\"{col}_rank\"] = [i for i in range(len(data))]\n",
    "        data[f\"{col}_rank\"] += 1\n",
    "    \n",
    "    data[\"d\"] = data.eval(f\"{x}_rank - {y}_rank\")\n",
    "    data[\"d_squared\"] = data.d ** 2\n",
    "    \n",
    "    sum_d_squared = data.d_squared.sum()\n",
    "    n = len(data)\n",
    "    n_cube = n ** 3\n",
    "    \n",
    "    r = 1 - ((6 * sum_d_squared) / (n_cube - n))\n",
    "    \n",
    "    return r"
   ]
  },
  {
   "cell_type": "code",
   "execution_count": 39,
   "metadata": {
    "ExecuteTime": {
     "end_time": "2020-09-13T09:02:37.012019Z",
     "start_time": "2020-09-13T09:02:37.001550Z"
    }
   },
   "outputs": [
    {
     "name": "stderr",
     "output_type": "stream",
     "text": [
      "/home/3005019/anaconda3/lib/python3.7/site-packages/ipykernel_launcher.py:3: SettingWithCopyWarning: \n",
      "A value is trying to be set on a copy of a slice from a DataFrame\n",
      "\n",
      "See the caveats in the documentation: http://pandas.pydata.org/pandas-docs/stable/user_guide/indexing.html#returning-a-view-versus-a-copy\n",
      "  This is separate from the ipykernel package so we can avoid doing imports until\n",
      "/home/3005019/anaconda3/lib/python3.7/site-packages/ipykernel_launcher.py:4: SettingWithCopyWarning: \n",
      "A value is trying to be set on a copy of a slice from a DataFrame.\n",
      "Try using .loc[row_indexer,col_indexer] = value instead\n",
      "\n",
      "See the caveats in the documentation: http://pandas.pydata.org/pandas-docs/stable/user_guide/indexing.html#returning-a-view-versus-a-copy\n",
      "  after removing the cwd from sys.path.\n",
      "/home/3005019/anaconda3/lib/python3.7/site-packages/ipykernel_launcher.py:5: SettingWithCopyWarning: \n",
      "A value is trying to be set on a copy of a slice from a DataFrame.\n",
      "Try using .loc[row_indexer,col_indexer] = value instead\n",
      "\n",
      "See the caveats in the documentation: http://pandas.pydata.org/pandas-docs/stable/user_guide/indexing.html#returning-a-view-versus-a-copy\n",
      "  \"\"\"\n",
      "/home/3005019/anaconda3/lib/python3.7/site-packages/ipykernel_launcher.py:7: SettingWithCopyWarning: \n",
      "A value is trying to be set on a copy of a slice from a DataFrame.\n",
      "Try using .loc[row_indexer,col_indexer] = value instead\n",
      "\n",
      "See the caveats in the documentation: http://pandas.pydata.org/pandas-docs/stable/user_guide/indexing.html#returning-a-view-versus-a-copy\n",
      "  import sys\n",
      "/home/3005019/anaconda3/lib/python3.7/site-packages/ipykernel_launcher.py:8: SettingWithCopyWarning: \n",
      "A value is trying to be set on a copy of a slice from a DataFrame.\n",
      "Try using .loc[row_indexer,col_indexer] = value instead\n",
      "\n",
      "See the caveats in the documentation: http://pandas.pydata.org/pandas-docs/stable/user_guide/indexing.html#returning-a-view-versus-a-copy\n",
      "  \n"
     ]
    }
   ],
   "source": [
    "r = rank_corr(\"MIC_Score\", \"predicted_MIC\", mic_filtered)"
   ]
  },
  {
   "cell_type": "code",
   "execution_count": 40,
   "metadata": {
    "ExecuteTime": {
     "end_time": "2020-09-13T09:02:37.016770Z",
     "start_time": "2020-09-13T09:02:37.013354Z"
    }
   },
   "outputs": [
    {
     "data": {
      "text/plain": [
       "-0.26197918497943107"
      ]
     },
     "execution_count": 40,
     "metadata": {},
     "output_type": "execute_result"
    }
   ],
   "source": [
    "r"
   ]
  },
  {
   "cell_type": "code",
   "execution_count": 41,
   "metadata": {
    "ExecuteTime": {
     "end_time": "2020-09-13T09:02:37.026883Z",
     "start_time": "2020-09-13T09:02:37.017952Z"
    },
    "scrolled": false
   },
   "outputs": [
    {
     "name": "stderr",
     "output_type": "stream",
     "text": [
      "/home/3005019/anaconda3/lib/python3.7/site-packages/ipykernel_launcher.py:3: SettingWithCopyWarning: \n",
      "A value is trying to be set on a copy of a slice from a DataFrame\n",
      "\n",
      "See the caveats in the documentation: http://pandas.pydata.org/pandas-docs/stable/user_guide/indexing.html#returning-a-view-versus-a-copy\n",
      "  This is separate from the ipykernel package so we can avoid doing imports until\n",
      "/home/3005019/anaconda3/lib/python3.7/site-packages/ipykernel_launcher.py:4: SettingWithCopyWarning: \n",
      "A value is trying to be set on a copy of a slice from a DataFrame.\n",
      "Try using .loc[row_indexer,col_indexer] = value instead\n",
      "\n",
      "See the caveats in the documentation: http://pandas.pydata.org/pandas-docs/stable/user_guide/indexing.html#returning-a-view-versus-a-copy\n",
      "  after removing the cwd from sys.path.\n",
      "/home/3005019/anaconda3/lib/python3.7/site-packages/ipykernel_launcher.py:5: SettingWithCopyWarning: \n",
      "A value is trying to be set on a copy of a slice from a DataFrame.\n",
      "Try using .loc[row_indexer,col_indexer] = value instead\n",
      "\n",
      "See the caveats in the documentation: http://pandas.pydata.org/pandas-docs/stable/user_guide/indexing.html#returning-a-view-versus-a-copy\n",
      "  \"\"\"\n",
      "/home/3005019/anaconda3/lib/python3.7/site-packages/ipykernel_launcher.py:7: SettingWithCopyWarning: \n",
      "A value is trying to be set on a copy of a slice from a DataFrame.\n",
      "Try using .loc[row_indexer,col_indexer] = value instead\n",
      "\n",
      "See the caveats in the documentation: http://pandas.pydata.org/pandas-docs/stable/user_guide/indexing.html#returning-a-view-versus-a-copy\n",
      "  import sys\n",
      "/home/3005019/anaconda3/lib/python3.7/site-packages/ipykernel_launcher.py:8: SettingWithCopyWarning: \n",
      "A value is trying to be set on a copy of a slice from a DataFrame.\n",
      "Try using .loc[row_indexer,col_indexer] = value instead\n",
      "\n",
      "See the caveats in the documentation: http://pandas.pydata.org/pandas-docs/stable/user_guide/indexing.html#returning-a-view-versus-a-copy\n",
      "  \n"
     ]
    },
    {
     "data": {
      "text/plain": [
       "-0.24978464189022898"
      ]
     },
     "execution_count": 41,
     "metadata": {},
     "output_type": "execute_result"
    }
   ],
   "source": [
    "rank_corr(\"MIC_Score\", \"predicted_MIC\", mic_filtered)"
   ]
  },
  {
   "cell_type": "code",
   "execution_count": 42,
   "metadata": {
    "ExecuteTime": {
     "end_time": "2020-09-13T09:02:37.031699Z",
     "start_time": "2020-09-13T09:02:37.027976Z"
    }
   },
   "outputs": [],
   "source": [
    "r = -0.26197918497943107\n",
    "n = len(mic_filtered)\n",
    "df = n - 2"
   ]
  },
  {
   "cell_type": "code",
   "execution_count": 43,
   "metadata": {
    "ExecuteTime": {
     "end_time": "2020-09-13T09:02:37.036005Z",
     "start_time": "2020-09-13T09:02:37.032967Z"
    }
   },
   "outputs": [
    {
     "data": {
      "text/plain": [
       "237"
      ]
     },
     "execution_count": 43,
     "metadata": {},
     "output_type": "execute_result"
    }
   ],
   "source": [
    "df"
   ]
  },
  {
   "cell_type": "markdown",
   "metadata": {},
   "source": [
    "# t-Test"
   ]
  },
  {
   "cell_type": "markdown",
   "metadata": {},
   "source": [
    "## Value of the t statistic (calculated from https://ruscio.pages.tcnj.edu/files/2016/08/Ruscio-2008-JMASM-CIs-for-Spearmans-Rho.pdf)"
   ]
  },
  {
   "cell_type": "code",
   "execution_count": 44,
   "metadata": {
    "ExecuteTime": {
     "end_time": "2020-09-13T09:02:37.039797Z",
     "start_time": "2020-09-13T09:02:37.037331Z"
    }
   },
   "outputs": [],
   "source": [
    "import math"
   ]
  },
  {
   "cell_type": "code",
   "execution_count": 45,
   "metadata": {
    "ExecuteTime": {
     "end_time": "2020-09-13T09:02:37.043997Z",
     "start_time": "2020-09-13T09:02:37.041082Z"
    }
   },
   "outputs": [],
   "source": [
    "t = -0.26197918497943107 / (math.sqrt((1 - (-0.26197918497943107 ** 2))/ df))"
   ]
  },
  {
   "cell_type": "code",
   "execution_count": 46,
   "metadata": {
    "ExecuteTime": {
     "end_time": "2020-09-13T09:02:37.048735Z",
     "start_time": "2020-09-13T09:02:37.045354Z"
    }
   },
   "outputs": [
    {
     "data": {
      "text/plain": [
       "-3.901455431443154"
      ]
     },
     "execution_count": 46,
     "metadata": {},
     "output_type": "execute_result"
    }
   ],
   "source": [
    "t"
   ]
  },
  {
   "cell_type": "markdown",
   "metadata": {},
   "source": [
    "## Confidence Intervals"
   ]
  },
  {
   "attachments": {
    "immagine.png": {
     "image/png": "[encoded data removed]"
    }
   },
   "cell_type": "markdown",
   "metadata": {},
   "source": [
    "![immagine.png](attachment:immagine.png)"
   ]
  },
  {
   "cell_type": "code",
   "execution_count": 47,
   "metadata": {
    "ExecuteTime": {
     "end_time": "2020-09-13T09:02:37.053079Z",
     "start_time": "2020-09-13T09:02:37.050112Z"
    }
   },
   "outputs": [],
   "source": [
    "z_r = 0.5 * math.log((1+r)/(1-r))"
   ]
  },
  {
   "cell_type": "code",
   "execution_count": 48,
   "metadata": {
    "ExecuteTime": {
     "end_time": "2020-09-13T09:02:37.058192Z",
     "start_time": "2020-09-13T09:02:37.054526Z"
    }
   },
   "outputs": [
    {
     "data": {
      "text/plain": [
       "-0.26823226022516766"
      ]
     },
     "execution_count": 48,
     "metadata": {},
     "output_type": "execute_result"
    }
   ],
   "source": [
    "z_r"
   ]
  },
  {
   "cell_type": "markdown",
   "metadata": {},
   "source": [
    "UPPER BOUND"
   ]
  },
  {
   "cell_type": "code",
   "execution_count": 49,
   "metadata": {
    "ExecuteTime": {
     "end_time": "2020-09-13T09:02:37.064121Z",
     "start_time": "2020-09-13T09:02:37.059688Z"
    }
   },
   "outputs": [
    {
     "data": {
      "text/plain": [
       "-0.13781284404460079"
      ]
     },
     "execution_count": 49,
     "metadata": {},
     "output_type": "execute_result"
    }
   ],
   "source": [
    "z_r + 1.970024 * math.sqrt((1+(r**2)/2)/(n-3))"
   ]
  },
  {
   "cell_type": "markdown",
   "metadata": {},
   "source": [
    "LOWER BOUND"
   ]
  },
  {
   "cell_type": "code",
   "execution_count": 50,
   "metadata": {
    "ExecuteTime": {
     "end_time": "2020-09-13T09:02:37.069986Z",
     "start_time": "2020-09-13T09:02:37.065611Z"
    }
   },
   "outputs": [
    {
     "data": {
      "text/plain": [
       "-0.3986516764057345"
      ]
     },
     "execution_count": 50,
     "metadata": {},
     "output_type": "execute_result"
    }
   ],
   "source": [
    "z_r - 1.970024 * math.sqrt((1+(r**2)/2)/(n-3))"
   ]
  },
  {
   "cell_type": "markdown",
   "metadata": {},
   "source": [
    "# Permutate data and check correlation"
   ]
  },
  {
   "cell_type": "code",
   "execution_count": 49,
   "metadata": {
    "ExecuteTime": {
     "end_time": "2020-09-12T09:16:02.541248Z",
     "start_time": "2020-09-12T09:16:02.511341Z"
    }
   },
   "outputs": [
    {
     "data": {
      "text/html": [
       "<div>\n",
       "<style scoped>\n",
       "    .dataframe tbody tr th:only-of-type {\n",
       "        vertical-align: middle;\n",
       "    }\n",
       "\n",
       "    .dataframe tbody tr th {\n",
       "        vertical-align: top;\n",
       "    }\n",
       "\n",
       "    .dataframe thead th {\n",
       "        text-align: right;\n",
       "    }\n",
       "</style>\n",
       "<table border=\"1\" class=\"dataframe\">\n",
       "  <thead>\n",
       "    <tr style=\"text-align: right;\">\n",
       "      <th></th>\n",
       "      <th>Residue</th>\n",
       "      <th>Wt_AA</th>\n",
       "      <th>Mutant_AA</th>\n",
       "      <th>Mutation</th>\n",
       "      <th>MIC_Score</th>\n",
       "      <th>aligned_pos</th>\n",
       "      <th>predicted_MIC</th>\n",
       "      <th>MIC_Score_rank</th>\n",
       "      <th>predicted_MIC_rank</th>\n",
       "      <th>d</th>\n",
       "      <th>d_squared</th>\n",
       "    </tr>\n",
       "  </thead>\n",
       "  <tbody>\n",
       "    <tr>\n",
       "      <th>29</th>\n",
       "      <td>40</td>\n",
       "      <td>R</td>\n",
       "      <td>Q</td>\n",
       "      <td>R41Q</td>\n",
       "      <td>0.000000</td>\n",
       "      <td>13</td>\n",
       "      <td>0.000097</td>\n",
       "      <td>73</td>\n",
       "      <td>145</td>\n",
       "      <td>-72</td>\n",
       "      <td>5184</td>\n",
       "    </tr>\n",
       "    <tr>\n",
       "      <th>127</th>\n",
       "      <td>65</td>\n",
       "      <td>M</td>\n",
       "      <td>I</td>\n",
       "      <td>M66I</td>\n",
       "      <td>0.000000</td>\n",
       "      <td>51</td>\n",
       "      <td>0.002160</td>\n",
       "      <td>57</td>\n",
       "      <td>117</td>\n",
       "      <td>-60</td>\n",
       "      <td>3600</td>\n",
       "    </tr>\n",
       "    <tr>\n",
       "      <th>6</th>\n",
       "      <td>34</td>\n",
       "      <td>E</td>\n",
       "      <td>G</td>\n",
       "      <td>E35G</td>\n",
       "      <td>-1.000000</td>\n",
       "      <td>4</td>\n",
       "      <td>-0.009031</td>\n",
       "      <td>137</td>\n",
       "      <td>225</td>\n",
       "      <td>-88</td>\n",
       "      <td>7744</td>\n",
       "    </tr>\n",
       "    <tr>\n",
       "      <th>201</th>\n",
       "      <td>83</td>\n",
       "      <td>A</td>\n",
       "      <td>T</td>\n",
       "      <td>A84T</td>\n",
       "      <td>0.000000</td>\n",
       "      <td>69</td>\n",
       "      <td>-0.003132</td>\n",
       "      <td>32</td>\n",
       "      <td>185</td>\n",
       "      <td>-153</td>\n",
       "      <td>23409</td>\n",
       "    </tr>\n",
       "    <tr>\n",
       "      <th>50</th>\n",
       "      <td>45</td>\n",
       "      <td>E</td>\n",
       "      <td>V</td>\n",
       "      <td>E46V</td>\n",
       "      <td>-0.333333</td>\n",
       "      <td>18</td>\n",
       "      <td>-0.002853</td>\n",
       "      <td>98</td>\n",
       "      <td>183</td>\n",
       "      <td>-85</td>\n",
       "      <td>7225</td>\n",
       "    </tr>\n",
       "    <tr>\n",
       "      <th>...</th>\n",
       "      <td>...</td>\n",
       "      <td>...</td>\n",
       "      <td>...</td>\n",
       "      <td>...</td>\n",
       "      <td>...</td>\n",
       "      <td>...</td>\n",
       "      <td>...</td>\n",
       "      <td>...</td>\n",
       "      <td>...</td>\n",
       "      <td>...</td>\n",
       "      <td>...</td>\n",
       "    </tr>\n",
       "    <tr>\n",
       "      <th>133</th>\n",
       "      <td>66</td>\n",
       "      <td>M</td>\n",
       "      <td>I</td>\n",
       "      <td>M67I</td>\n",
       "      <td>-0.666667</td>\n",
       "      <td>52</td>\n",
       "      <td>0.006755</td>\n",
       "      <td>116</td>\n",
       "      <td>61</td>\n",
       "      <td>55</td>\n",
       "      <td>3025</td>\n",
       "    </tr>\n",
       "    <tr>\n",
       "      <th>70</th>\n",
       "      <td>50</td>\n",
       "      <td>S</td>\n",
       "      <td>N</td>\n",
       "      <td>S51N</td>\n",
       "      <td>-0.142857</td>\n",
       "      <td>23</td>\n",
       "      <td>0.001651</td>\n",
       "      <td>91</td>\n",
       "      <td>126</td>\n",
       "      <td>-35</td>\n",
       "      <td>1225</td>\n",
       "    </tr>\n",
       "    <tr>\n",
       "      <th>128</th>\n",
       "      <td>65</td>\n",
       "      <td>M</td>\n",
       "      <td>K</td>\n",
       "      <td>M66K</td>\n",
       "      <td>-5.321928</td>\n",
       "      <td>51</td>\n",
       "      <td>0.003840</td>\n",
       "      <td>223</td>\n",
       "      <td>96</td>\n",
       "      <td>127</td>\n",
       "      <td>16129</td>\n",
       "    </tr>\n",
       "    <tr>\n",
       "      <th>148</th>\n",
       "      <td>69</td>\n",
       "      <td>F</td>\n",
       "      <td>S</td>\n",
       "      <td>F70S</td>\n",
       "      <td>0.000000</td>\n",
       "      <td>55</td>\n",
       "      <td>-0.005250</td>\n",
       "      <td>52</td>\n",
       "      <td>205</td>\n",
       "      <td>-153</td>\n",
       "      <td>23409</td>\n",
       "    </tr>\n",
       "    <tr>\n",
       "      <th>160</th>\n",
       "      <td>72</td>\n",
       "      <td>L</td>\n",
       "      <td>Q</td>\n",
       "      <td>L73Q</td>\n",
       "      <td>-1.000000</td>\n",
       "      <td>58</td>\n",
       "      <td>0.007171</td>\n",
       "      <td>125</td>\n",
       "      <td>56</td>\n",
       "      <td>69</td>\n",
       "      <td>4761</td>\n",
       "    </tr>\n",
       "  </tbody>\n",
       "</table>\n",
       "<p>239 rows × 11 columns</p>\n",
       "</div>"
      ],
      "text/plain": [
       "     Residue Wt_AA Mutant_AA Mutation  MIC_Score  aligned_pos  predicted_MIC  \\\n",
       "29        40     R         Q     R41Q   0.000000           13       0.000097   \n",
       "127       65     M         I     M66I   0.000000           51       0.002160   \n",
       "6         34     E         G     E35G  -1.000000            4      -0.009031   \n",
       "201       83     A         T     A84T   0.000000           69      -0.003132   \n",
       "50        45     E         V     E46V  -0.333333           18      -0.002853   \n",
       "..       ...   ...       ...      ...        ...          ...            ...   \n",
       "133       66     M         I     M67I  -0.666667           52       0.006755   \n",
       "70        50     S         N     S51N  -0.142857           23       0.001651   \n",
       "128       65     M         K     M66K  -5.321928           51       0.003840   \n",
       "148       69     F         S     F70S   0.000000           55      -0.005250   \n",
       "160       72     L         Q     L73Q  -1.000000           58       0.007171   \n",
       "\n",
       "     MIC_Score_rank  predicted_MIC_rank    d  d_squared  \n",
       "29               73                 145  -72       5184  \n",
       "127              57                 117  -60       3600  \n",
       "6               137                 225  -88       7744  \n",
       "201              32                 185 -153      23409  \n",
       "50               98                 183  -85       7225  \n",
       "..              ...                 ...  ...        ...  \n",
       "133             116                  61   55       3025  \n",
       "70               91                 126  -35       1225  \n",
       "128             223                  96  127      16129  \n",
       "148              52                 205 -153      23409  \n",
       "160             125                  56   69       4761  \n",
       "\n",
       "[239 rows x 11 columns]"
      ]
     },
     "execution_count": 49,
     "metadata": {},
     "output_type": "execute_result"
    }
   ],
   "source": [
    "mic_filtered.sample(frac=1)"
   ]
  },
  {
   "cell_type": "code",
   "execution_count": 50,
   "metadata": {
    "ExecuteTime": {
     "end_time": "2020-09-12T09:16:05.043824Z",
     "start_time": "2020-09-12T09:16:05.015301Z"
    }
   },
   "outputs": [
    {
     "data": {
      "text/html": [
       "<div>\n",
       "<style scoped>\n",
       "    .dataframe tbody tr th:only-of-type {\n",
       "        vertical-align: middle;\n",
       "    }\n",
       "\n",
       "    .dataframe tbody tr th {\n",
       "        vertical-align: top;\n",
       "    }\n",
       "\n",
       "    .dataframe thead th {\n",
       "        text-align: right;\n",
       "    }\n",
       "</style>\n",
       "<table border=\"1\" class=\"dataframe\">\n",
       "  <thead>\n",
       "    <tr style=\"text-align: right;\">\n",
       "      <th></th>\n",
       "      <th>Residue</th>\n",
       "      <th>Wt_AA</th>\n",
       "      <th>Mutant_AA</th>\n",
       "      <th>Mutation</th>\n",
       "      <th>MIC_Score</th>\n",
       "      <th>aligned_pos</th>\n",
       "      <th>predicted_MIC</th>\n",
       "    </tr>\n",
       "  </thead>\n",
       "  <tbody>\n",
       "    <tr>\n",
       "      <th>203</th>\n",
       "      <td>84</td>\n",
       "      <td>G</td>\n",
       "      <td>E</td>\n",
       "      <td>G85E</td>\n",
       "      <td>-0.333333</td>\n",
       "      <td>70</td>\n",
       "      <td>0.018800</td>\n",
       "    </tr>\n",
       "    <tr>\n",
       "      <th>162</th>\n",
       "      <td>73</td>\n",
       "      <td>L</td>\n",
       "      <td>P</td>\n",
       "      <td>L74P</td>\n",
       "      <td>-5.321928</td>\n",
       "      <td>59</td>\n",
       "      <td>0.017058</td>\n",
       "    </tr>\n",
       "    <tr>\n",
       "      <th>217</th>\n",
       "      <td>88</td>\n",
       "      <td>L</td>\n",
       "      <td>F</td>\n",
       "      <td>L89F</td>\n",
       "      <td>-1.330482</td>\n",
       "      <td>74</td>\n",
       "      <td>0.016267</td>\n",
       "    </tr>\n",
       "    <tr>\n",
       "      <th>138</th>\n",
       "      <td>67</td>\n",
       "      <td>S</td>\n",
       "      <td>C</td>\n",
       "      <td>S68C</td>\n",
       "      <td>-5.321928</td>\n",
       "      <td>53</td>\n",
       "      <td>0.015802</td>\n",
       "    </tr>\n",
       "    <tr>\n",
       "      <th>219</th>\n",
       "      <td>88</td>\n",
       "      <td>L</td>\n",
       "      <td>I</td>\n",
       "      <td>L89I</td>\n",
       "      <td>-1.000000</td>\n",
       "      <td>74</td>\n",
       "      <td>0.015566</td>\n",
       "    </tr>\n",
       "    <tr>\n",
       "      <th>...</th>\n",
       "      <td>...</td>\n",
       "      <td>...</td>\n",
       "      <td>...</td>\n",
       "      <td>...</td>\n",
       "      <td>...</td>\n",
       "      <td>...</td>\n",
       "      <td>...</td>\n",
       "    </tr>\n",
       "    <tr>\n",
       "      <th>3</th>\n",
       "      <td>33</td>\n",
       "      <td>A</td>\n",
       "      <td>T</td>\n",
       "      <td>A34T</td>\n",
       "      <td>-1.064386</td>\n",
       "      <td>3</td>\n",
       "      <td>-0.011812</td>\n",
       "    </tr>\n",
       "    <tr>\n",
       "      <th>210</th>\n",
       "      <td>86</td>\n",
       "      <td>E</td>\n",
       "      <td>A</td>\n",
       "      <td>E87A</td>\n",
       "      <td>-1.000000</td>\n",
       "      <td>72</td>\n",
       "      <td>-0.012035</td>\n",
       "    </tr>\n",
       "    <tr>\n",
       "      <th>198</th>\n",
       "      <td>83</td>\n",
       "      <td>A</td>\n",
       "      <td>D</td>\n",
       "      <td>A84D</td>\n",
       "      <td>0.000000</td>\n",
       "      <td>69</td>\n",
       "      <td>-0.012570</td>\n",
       "    </tr>\n",
       "    <tr>\n",
       "      <th>223</th>\n",
       "      <td>89</td>\n",
       "      <td>G</td>\n",
       "      <td>D</td>\n",
       "      <td>G90D</td>\n",
       "      <td>0.333333</td>\n",
       "      <td>75</td>\n",
       "      <td>-0.014393</td>\n",
       "    </tr>\n",
       "    <tr>\n",
       "      <th>58</th>\n",
       "      <td>47</td>\n",
       "      <td>D</td>\n",
       "      <td>V</td>\n",
       "      <td>D48V</td>\n",
       "      <td>-1.991446</td>\n",
       "      <td>20</td>\n",
       "      <td>-0.016099</td>\n",
       "    </tr>\n",
       "  </tbody>\n",
       "</table>\n",
       "<p>239 rows × 7 columns</p>\n",
       "</div>"
      ],
      "text/plain": [
       "     Residue Wt_AA Mutant_AA Mutation  MIC_Score  aligned_pos  predicted_MIC\n",
       "203       84     G         E     G85E  -0.333333           70       0.018800\n",
       "162       73     L         P     L74P  -5.321928           59       0.017058\n",
       "217       88     L         F     L89F  -1.330482           74       0.016267\n",
       "138       67     S         C     S68C  -5.321928           53       0.015802\n",
       "219       88     L         I     L89I  -1.000000           74       0.015566\n",
       "..       ...   ...       ...      ...        ...          ...            ...\n",
       "3         33     A         T     A34T  -1.064386            3      -0.011812\n",
       "210       86     E         A     E87A  -1.000000           72      -0.012035\n",
       "198       83     A         D     A84D   0.000000           69      -0.012570\n",
       "223       89     G         D     G90D   0.333333           75      -0.014393\n",
       "58        47     D         V     D48V  -1.991446           20      -0.016099\n",
       "\n",
       "[239 rows x 7 columns]"
      ]
     },
     "execution_count": 50,
     "metadata": {},
     "output_type": "execute_result"
    }
   ],
   "source": [
    "mic_filtered.iloc[:, :7]"
   ]
  },
  {
   "cell_type": "code",
   "execution_count": 51,
   "metadata": {
    "ExecuteTime": {
     "end_time": "2020-09-12T09:16:07.815426Z",
     "start_time": "2020-09-12T09:16:07.783610Z"
    }
   },
   "outputs": [
    {
     "data": {
      "text/html": [
       "<div>\n",
       "<style scoped>\n",
       "    .dataframe tbody tr th:only-of-type {\n",
       "        vertical-align: middle;\n",
       "    }\n",
       "\n",
       "    .dataframe tbody tr th {\n",
       "        vertical-align: top;\n",
       "    }\n",
       "\n",
       "    .dataframe thead th {\n",
       "        text-align: right;\n",
       "    }\n",
       "</style>\n",
       "<table border=\"1\" class=\"dataframe\">\n",
       "  <thead>\n",
       "    <tr style=\"text-align: right;\">\n",
       "      <th></th>\n",
       "      <th>Residue</th>\n",
       "      <th>Wt_AA</th>\n",
       "      <th>Mutant_AA</th>\n",
       "      <th>Mutation</th>\n",
       "      <th>MIC_Score</th>\n",
       "      <th>aligned_pos</th>\n",
       "      <th>predicted_MIC</th>\n",
       "      <th>MIC_Score_rank</th>\n",
       "      <th>predicted_MIC_rank</th>\n",
       "      <th>d</th>\n",
       "      <th>d_squared</th>\n",
       "    </tr>\n",
       "  </thead>\n",
       "  <tbody>\n",
       "    <tr>\n",
       "      <th>0</th>\n",
       "      <td>33</td>\n",
       "      <td>A</td>\n",
       "      <td>D</td>\n",
       "      <td>A34D</td>\n",
       "      <td>-5.321928</td>\n",
       "      <td>3</td>\n",
       "      <td>-0.006542</td>\n",
       "      <td>239</td>\n",
       "      <td>217</td>\n",
       "      <td>22</td>\n",
       "      <td>484</td>\n",
       "    </tr>\n",
       "    <tr>\n",
       "      <th>1</th>\n",
       "      <td>33</td>\n",
       "      <td>A</td>\n",
       "      <td>G</td>\n",
       "      <td>A34G</td>\n",
       "      <td>-1.000000</td>\n",
       "      <td>3</td>\n",
       "      <td>0.002583</td>\n",
       "      <td>143</td>\n",
       "      <td>113</td>\n",
       "      <td>30</td>\n",
       "      <td>900</td>\n",
       "    </tr>\n",
       "    <tr>\n",
       "      <th>2</th>\n",
       "      <td>33</td>\n",
       "      <td>A</td>\n",
       "      <td>P</td>\n",
       "      <td>A34P</td>\n",
       "      <td>-4.821928</td>\n",
       "      <td>3</td>\n",
       "      <td>0.006000</td>\n",
       "      <td>209</td>\n",
       "      <td>73</td>\n",
       "      <td>136</td>\n",
       "      <td>18496</td>\n",
       "    </tr>\n",
       "    <tr>\n",
       "      <th>3</th>\n",
       "      <td>33</td>\n",
       "      <td>A</td>\n",
       "      <td>T</td>\n",
       "      <td>A34T</td>\n",
       "      <td>-1.064386</td>\n",
       "      <td>3</td>\n",
       "      <td>-0.011812</td>\n",
       "      <td>147</td>\n",
       "      <td>235</td>\n",
       "      <td>-88</td>\n",
       "      <td>7744</td>\n",
       "    </tr>\n",
       "    <tr>\n",
       "      <th>4</th>\n",
       "      <td>33</td>\n",
       "      <td>A</td>\n",
       "      <td>V</td>\n",
       "      <td>A34V</td>\n",
       "      <td>0.000000</td>\n",
       "      <td>3</td>\n",
       "      <td>0.002220</td>\n",
       "      <td>76</td>\n",
       "      <td>116</td>\n",
       "      <td>-40</td>\n",
       "      <td>1600</td>\n",
       "    </tr>\n",
       "    <tr>\n",
       "      <th>...</th>\n",
       "      <td>...</td>\n",
       "      <td>...</td>\n",
       "      <td>...</td>\n",
       "      <td>...</td>\n",
       "      <td>...</td>\n",
       "      <td>...</td>\n",
       "      <td>...</td>\n",
       "      <td>...</td>\n",
       "      <td>...</td>\n",
       "      <td>...</td>\n",
       "      <td>...</td>\n",
       "    </tr>\n",
       "    <tr>\n",
       "      <th>234</th>\n",
       "      <td>91</td>\n",
       "      <td>R</td>\n",
       "      <td>S</td>\n",
       "      <td>R92S</td>\n",
       "      <td>-1.000000</td>\n",
       "      <td>77</td>\n",
       "      <td>0.003561</td>\n",
       "      <td>134</td>\n",
       "      <td>99</td>\n",
       "      <td>35</td>\n",
       "      <td>1225</td>\n",
       "    </tr>\n",
       "    <tr>\n",
       "      <th>235</th>\n",
       "      <td>92</td>\n",
       "      <td>I</td>\n",
       "      <td>K</td>\n",
       "      <td>I93K</td>\n",
       "      <td>-2.821928</td>\n",
       "      <td>78</td>\n",
       "      <td>0.004078</td>\n",
       "      <td>185</td>\n",
       "      <td>93</td>\n",
       "      <td>92</td>\n",
       "      <td>8464</td>\n",
       "    </tr>\n",
       "    <tr>\n",
       "      <th>236</th>\n",
       "      <td>92</td>\n",
       "      <td>I</td>\n",
       "      <td>L</td>\n",
       "      <td>I93L</td>\n",
       "      <td>0.000000</td>\n",
       "      <td>78</td>\n",
       "      <td>0.004131</td>\n",
       "      <td>68</td>\n",
       "      <td>91</td>\n",
       "      <td>-23</td>\n",
       "      <td>529</td>\n",
       "    </tr>\n",
       "    <tr>\n",
       "      <th>237</th>\n",
       "      <td>92</td>\n",
       "      <td>I</td>\n",
       "      <td>M</td>\n",
       "      <td>I93M</td>\n",
       "      <td>0.000000</td>\n",
       "      <td>78</td>\n",
       "      <td>0.006441</td>\n",
       "      <td>81</td>\n",
       "      <td>68</td>\n",
       "      <td>13</td>\n",
       "      <td>169</td>\n",
       "    </tr>\n",
       "    <tr>\n",
       "      <th>238</th>\n",
       "      <td>92</td>\n",
       "      <td>I</td>\n",
       "      <td>V</td>\n",
       "      <td>I93V</td>\n",
       "      <td>0.333333</td>\n",
       "      <td>78</td>\n",
       "      <td>-0.002674</td>\n",
       "      <td>12</td>\n",
       "      <td>180</td>\n",
       "      <td>-168</td>\n",
       "      <td>28224</td>\n",
       "    </tr>\n",
       "  </tbody>\n",
       "</table>\n",
       "<p>239 rows × 11 columns</p>\n",
       "</div>"
      ],
      "text/plain": [
       "     Residue Wt_AA Mutant_AA Mutation  MIC_Score  aligned_pos  predicted_MIC  \\\n",
       "0         33     A         D     A34D  -5.321928            3      -0.006542   \n",
       "1         33     A         G     A34G  -1.000000            3       0.002583   \n",
       "2         33     A         P     A34P  -4.821928            3       0.006000   \n",
       "3         33     A         T     A34T  -1.064386            3      -0.011812   \n",
       "4         33     A         V     A34V   0.000000            3       0.002220   \n",
       "..       ...   ...       ...      ...        ...          ...            ...   \n",
       "234       91     R         S     R92S  -1.000000           77       0.003561   \n",
       "235       92     I         K     I93K  -2.821928           78       0.004078   \n",
       "236       92     I         L     I93L   0.000000           78       0.004131   \n",
       "237       92     I         M     I93M   0.000000           78       0.006441   \n",
       "238       92     I         V     I93V   0.333333           78      -0.002674   \n",
       "\n",
       "     MIC_Score_rank  predicted_MIC_rank    d  d_squared  \n",
       "0               239                 217   22        484  \n",
       "1               143                 113   30        900  \n",
       "2               209                  73  136      18496  \n",
       "3               147                 235  -88       7744  \n",
       "4                76                 116  -40       1600  \n",
       "..              ...                 ...  ...        ...  \n",
       "234             134                  99   35       1225  \n",
       "235             185                  93   92       8464  \n",
       "236              68                  91  -23        529  \n",
       "237              81                  68   13        169  \n",
       "238              12                 180 -168      28224  \n",
       "\n",
       "[239 rows x 11 columns]"
      ]
     },
     "execution_count": 51,
     "metadata": {},
     "output_type": "execute_result"
    }
   ],
   "source": [
    "mic_filtered.sort_index()"
   ]
  },
  {
   "cell_type": "code",
   "execution_count": 52,
   "metadata": {
    "ExecuteTime": {
     "end_time": "2020-09-12T09:16:14.694664Z",
     "start_time": "2020-09-12T09:16:14.661595Z"
    }
   },
   "outputs": [
    {
     "data": {
      "text/html": [
       "<div>\n",
       "<style scoped>\n",
       "    .dataframe tbody tr th:only-of-type {\n",
       "        vertical-align: middle;\n",
       "    }\n",
       "\n",
       "    .dataframe tbody tr th {\n",
       "        vertical-align: top;\n",
       "    }\n",
       "\n",
       "    .dataframe thead th {\n",
       "        text-align: right;\n",
       "    }\n",
       "</style>\n",
       "<table border=\"1\" class=\"dataframe\">\n",
       "  <thead>\n",
       "    <tr style=\"text-align: right;\">\n",
       "      <th></th>\n",
       "      <th>Residue</th>\n",
       "      <th>Wt_AA</th>\n",
       "      <th>Mutant_AA</th>\n",
       "      <th>Mutation</th>\n",
       "      <th>MIC_Score</th>\n",
       "      <th>aligned_pos</th>\n",
       "      <th>predicted_MIC</th>\n",
       "      <th>MIC_Score_rank</th>\n",
       "      <th>predicted_MIC_rank</th>\n",
       "      <th>d</th>\n",
       "      <th>d_squared</th>\n",
       "    </tr>\n",
       "  </thead>\n",
       "  <tbody>\n",
       "    <tr>\n",
       "      <th>0</th>\n",
       "      <td>33</td>\n",
       "      <td>A</td>\n",
       "      <td>D</td>\n",
       "      <td>A34D</td>\n",
       "      <td>-5.321928</td>\n",
       "      <td>3</td>\n",
       "      <td>-0.006542</td>\n",
       "      <td>239</td>\n",
       "      <td>217</td>\n",
       "      <td>22</td>\n",
       "      <td>484</td>\n",
       "    </tr>\n",
       "    <tr>\n",
       "      <th>1</th>\n",
       "      <td>33</td>\n",
       "      <td>A</td>\n",
       "      <td>G</td>\n",
       "      <td>A34G</td>\n",
       "      <td>-1.000000</td>\n",
       "      <td>3</td>\n",
       "      <td>0.002583</td>\n",
       "      <td>143</td>\n",
       "      <td>113</td>\n",
       "      <td>30</td>\n",
       "      <td>900</td>\n",
       "    </tr>\n",
       "    <tr>\n",
       "      <th>4</th>\n",
       "      <td>33</td>\n",
       "      <td>A</td>\n",
       "      <td>V</td>\n",
       "      <td>A34V</td>\n",
       "      <td>0.000000</td>\n",
       "      <td>3</td>\n",
       "      <td>0.002220</td>\n",
       "      <td>76</td>\n",
       "      <td>116</td>\n",
       "      <td>-40</td>\n",
       "      <td>1600</td>\n",
       "    </tr>\n",
       "    <tr>\n",
       "      <th>5</th>\n",
       "      <td>34</td>\n",
       "      <td>E</td>\n",
       "      <td>D</td>\n",
       "      <td>E35D</td>\n",
       "      <td>-2.160964</td>\n",
       "      <td>4</td>\n",
       "      <td>-0.001561</td>\n",
       "      <td>163</td>\n",
       "      <td>169</td>\n",
       "      <td>-6</td>\n",
       "      <td>36</td>\n",
       "    </tr>\n",
       "    <tr>\n",
       "      <th>8</th>\n",
       "      <td>34</td>\n",
       "      <td>E</td>\n",
       "      <td>V</td>\n",
       "      <td>E35V</td>\n",
       "      <td>-2.321928</td>\n",
       "      <td>4</td>\n",
       "      <td>-0.005803</td>\n",
       "      <td>172</td>\n",
       "      <td>209</td>\n",
       "      <td>-37</td>\n",
       "      <td>1369</td>\n",
       "    </tr>\n",
       "    <tr>\n",
       "      <th>...</th>\n",
       "      <td>...</td>\n",
       "      <td>...</td>\n",
       "      <td>...</td>\n",
       "      <td>...</td>\n",
       "      <td>...</td>\n",
       "      <td>...</td>\n",
       "      <td>...</td>\n",
       "      <td>...</td>\n",
       "      <td>...</td>\n",
       "      <td>...</td>\n",
       "      <td>...</td>\n",
       "    </tr>\n",
       "    <tr>\n",
       "      <th>227</th>\n",
       "      <td>90</td>\n",
       "      <td>R</td>\n",
       "      <td>H</td>\n",
       "      <td>R91H</td>\n",
       "      <td>0.000000</td>\n",
       "      <td>76</td>\n",
       "      <td>0.009342</td>\n",
       "      <td>58</td>\n",
       "      <td>33</td>\n",
       "      <td>25</td>\n",
       "      <td>625</td>\n",
       "    </tr>\n",
       "    <tr>\n",
       "      <th>232</th>\n",
       "      <td>91</td>\n",
       "      <td>R</td>\n",
       "      <td>H</td>\n",
       "      <td>R92H</td>\n",
       "      <td>-0.428571</td>\n",
       "      <td>77</td>\n",
       "      <td>0.005864</td>\n",
       "      <td>102</td>\n",
       "      <td>76</td>\n",
       "      <td>26</td>\n",
       "      <td>676</td>\n",
       "    </tr>\n",
       "    <tr>\n",
       "      <th>234</th>\n",
       "      <td>91</td>\n",
       "      <td>R</td>\n",
       "      <td>S</td>\n",
       "      <td>R92S</td>\n",
       "      <td>-1.000000</td>\n",
       "      <td>77</td>\n",
       "      <td>0.003561</td>\n",
       "      <td>134</td>\n",
       "      <td>99</td>\n",
       "      <td>35</td>\n",
       "      <td>1225</td>\n",
       "    </tr>\n",
       "    <tr>\n",
       "      <th>236</th>\n",
       "      <td>92</td>\n",
       "      <td>I</td>\n",
       "      <td>L</td>\n",
       "      <td>I93L</td>\n",
       "      <td>0.000000</td>\n",
       "      <td>78</td>\n",
       "      <td>0.004131</td>\n",
       "      <td>68</td>\n",
       "      <td>91</td>\n",
       "      <td>-23</td>\n",
       "      <td>529</td>\n",
       "    </tr>\n",
       "    <tr>\n",
       "      <th>237</th>\n",
       "      <td>92</td>\n",
       "      <td>I</td>\n",
       "      <td>M</td>\n",
       "      <td>I93M</td>\n",
       "      <td>0.000000</td>\n",
       "      <td>78</td>\n",
       "      <td>0.006441</td>\n",
       "      <td>81</td>\n",
       "      <td>68</td>\n",
       "      <td>13</td>\n",
       "      <td>169</td>\n",
       "    </tr>\n",
       "  </tbody>\n",
       "</table>\n",
       "<p>65 rows × 11 columns</p>\n",
       "</div>"
      ],
      "text/plain": [
       "     Residue Wt_AA Mutant_AA Mutation  MIC_Score  aligned_pos  predicted_MIC  \\\n",
       "0         33     A         D     A34D  -5.321928            3      -0.006542   \n",
       "1         33     A         G     A34G  -1.000000            3       0.002583   \n",
       "4         33     A         V     A34V   0.000000            3       0.002220   \n",
       "5         34     E         D     E35D  -2.160964            4      -0.001561   \n",
       "8         34     E         V     E35V  -2.321928            4      -0.005803   \n",
       "..       ...   ...       ...      ...        ...          ...            ...   \n",
       "227       90     R         H     R91H   0.000000           76       0.009342   \n",
       "232       91     R         H     R92H  -0.428571           77       0.005864   \n",
       "234       91     R         S     R92S  -1.000000           77       0.003561   \n",
       "236       92     I         L     I93L   0.000000           78       0.004131   \n",
       "237       92     I         M     I93M   0.000000           78       0.006441   \n",
       "\n",
       "     MIC_Score_rank  predicted_MIC_rank   d  d_squared  \n",
       "0               239                 217  22        484  \n",
       "1               143                 113  30        900  \n",
       "4                76                 116 -40       1600  \n",
       "5               163                 169  -6         36  \n",
       "8               172                 209 -37       1369  \n",
       "..              ...                 ...  ..        ...  \n",
       "227              58                  33  25        625  \n",
       "232             102                  76  26        676  \n",
       "234             134                  99  35       1225  \n",
       "236              68                  91 -23        529  \n",
       "237              81                  68  13        169  \n",
       "\n",
       "[65 rows x 11 columns]"
      ]
     },
     "execution_count": 52,
     "metadata": {},
     "output_type": "execute_result"
    }
   ],
   "source": [
    "mic_filtered.sort_index().query(\"abs(MIC_Score_rank - predicted_MIC_rank) < 50\")"
   ]
  },
  {
   "cell_type": "code",
   "execution_count": 51,
   "metadata": {
    "ExecuteTime": {
     "end_time": "2020-09-11T10:29:41.471123Z",
     "start_time": "2020-09-11T10:28:41.252668Z"
    }
   },
   "outputs": [
    {
     "data": {
      "application/vnd.jupyter.widget-view+json": {
       "model_id": "6dfada4e7022403788056767ebec5aaf",
       "version_major": 2,
       "version_minor": 0
      },
      "text/plain": [
       "HBox(children=(FloatProgress(value=0.0, max=10000.0), HTML(value='')))"
      ]
     },
     "metadata": {},
     "output_type": "display_data"
    },
    {
     "name": "stdout",
     "output_type": "stream",
     "text": [
      "\n"
     ]
    }
   ],
   "source": [
    "correlations = []\n",
    "\n",
    "for _ in tqdm(range(10_000)):\n",
    "    df = mic_filtered.sample(frac=1)\n",
    "    df = df.iloc[:, :7]\n",
    "    df = df.reset_index(drop=True)\n",
    "    correlation = rank_corr(\"MIC_Score\", \"predicted_MIC\", df)\n",
    "    correlations.append(correlation)"
   ]
  },
  {
   "cell_type": "code",
   "execution_count": 52,
   "metadata": {
    "ExecuteTime": {
     "end_time": "2020-09-11T10:29:41.477462Z",
     "start_time": "2020-09-11T10:29:41.472789Z"
    }
   },
   "outputs": [
    {
     "data": {
      "text/plain": [
       "array([-0.25078672, -0.26551897, -0.24862522, ..., -0.27618051,\n",
       "       -0.27189181, -0.25509652])"
      ]
     },
     "execution_count": 52,
     "metadata": {},
     "output_type": "execute_result"
    }
   ],
   "source": [
    "np.array(correlations)"
   ]
  },
  {
   "cell_type": "code",
   "execution_count": 53,
   "metadata": {
    "ExecuteTime": {
     "end_time": "2020-09-11T10:29:41.484249Z",
     "start_time": "2020-09-11T10:29:41.478866Z"
    }
   },
   "outputs": [
    {
     "data": {
      "text/plain": [
       "(array([  12,  106,  528, 1398, 2605, 2701, 1744,  694,  187,   25]),\n",
       " array([-0.29781917, -0.29056872, -0.28331827, -0.27606782, -0.26881738,\n",
       "        -0.26156693, -0.25431648, -0.24706603, -0.23981558, -0.23256513,\n",
       "        -0.22531469]))"
      ]
     },
     "execution_count": 53,
     "metadata": {},
     "output_type": "execute_result"
    }
   ],
   "source": [
    "np.histogram(np.array(correlations))"
   ]
  },
  {
   "cell_type": "code",
   "execution_count": 57,
   "metadata": {
    "ExecuteTime": {
     "end_time": "2020-09-12T10:24:23.955007Z",
     "start_time": "2020-09-12T10:24:23.947199Z"
    }
   },
   "outputs": [],
   "source": [
    "import matplotlib.pyplot as plt\n",
    "import seaborn as sns\n",
    "\n",
    "sns.set()"
   ]
  },
  {
   "cell_type": "code",
   "execution_count": 55,
   "metadata": {
    "ExecuteTime": {
     "end_time": "2020-09-11T10:29:41.870964Z",
     "start_time": "2020-09-11T10:29:41.491219Z"
    },
    "scrolled": true
   },
   "outputs": [
    {
     "name": "stderr",
     "output_type": "stream",
     "text": [
      "2020-09-11 12:29:41,558 - matplotlib.font_manager - DEBUG - findfont: Matching :family=sans-serif:style=normal:variant=normal:weight=normal:stretch=normal:size=11.0.\n",
      "2020-09-11 12:29:41,559 - matplotlib.font_manager - DEBUG - findfont: score(<Font 'STIXSizeFiveSym' (STIXSizFiveSymReg.ttf) normal normal regular normal>) = 10.05\n",
      "2020-09-11 12:29:41,560 - matplotlib.font_manager - DEBUG - findfont: score(<Font 'DejaVu Serif' (DejaVuSerif-Bold.ttf) normal normal bold normal>) = 10.335\n",
      "2020-09-11 12:29:41,561 - matplotlib.font_manager - DEBUG - findfont: score(<Font 'DejaVu Sans Mono' (DejaVuSansMono-BoldOblique.ttf) oblique normal bold normal>) = 11.335\n",
      "2020-09-11 12:29:41,561 - matplotlib.font_manager - DEBUG - findfont: score(<Font 'DejaVu Serif' (DejaVuSerif-BoldItalic.ttf) italic normal bold normal>) = 11.335\n",
      "2020-09-11 12:29:41,562 - matplotlib.font_manager - DEBUG - findfont: score(<Font 'DejaVu Sans Mono' (DejaVuSansMono-Oblique.ttf) oblique normal 400 normal>) = 11.05\n",
      "2020-09-11 12:29:41,562 - matplotlib.font_manager - DEBUG - findfont: score(<Font 'STIXSizeFourSym' (STIXSizFourSymReg.ttf) normal normal regular normal>) = 10.05\n",
      "2020-09-11 12:29:41,563 - matplotlib.font_manager - DEBUG - findfont: score(<Font 'DejaVu Sans' (DejaVuSans-BoldOblique.ttf) oblique normal bold normal>) = 3.335\n",
      "2020-09-11 12:29:41,564 - matplotlib.font_manager - DEBUG - findfont: score(<Font 'cmsy10' (cmsy10.ttf) normal normal 400 normal>) = 10.05\n",
      "2020-09-11 12:29:41,564 - matplotlib.font_manager - DEBUG - findfont: score(<Font 'DejaVu Serif Display' (DejaVuSerifDisplay.ttf) normal normal 400 normal>) = 10.05\n",
      "2020-09-11 12:29:41,565 - matplotlib.font_manager - DEBUG - findfont: score(<Font 'STIXSizeThreeSym' (STIXSizThreeSymBol.ttf) normal normal bold normal>) = 10.335\n",
      "2020-09-11 12:29:41,565 - matplotlib.font_manager - DEBUG - findfont: score(<Font 'DejaVu Sans Display' (DejaVuSansDisplay.ttf) normal normal 400 normal>) = 10.05\n",
      "2020-09-11 12:29:41,566 - matplotlib.font_manager - DEBUG - findfont: score(<Font 'STIXSizeTwoSym' (STIXSizTwoSymBol.ttf) normal normal bold normal>) = 10.335\n",
      "2020-09-11 12:29:41,567 - matplotlib.font_manager - DEBUG - findfont: score(<Font 'DejaVu Sans' (DejaVuSans-Oblique.ttf) oblique normal 400 normal>) = 3.05\n",
      "2020-09-11 12:29:41,567 - matplotlib.font_manager - DEBUG - findfont: score(<Font 'cmex10' (cmex10.ttf) normal normal 400 normal>) = 10.05\n",
      "2020-09-11 12:29:41,568 - matplotlib.font_manager - DEBUG - findfont: score(<Font 'STIXSizeOneSym' (STIXSizOneSymBol.ttf) normal normal bold normal>) = 10.335\n",
      "2020-09-11 12:29:41,568 - matplotlib.font_manager - DEBUG - findfont: score(<Font 'cmr10' (cmr10.ttf) normal normal 400 normal>) = 10.05\n",
      "2020-09-11 12:29:41,569 - matplotlib.font_manager - DEBUG - findfont: score(<Font 'STIXNonUnicode' (STIXNonUniBol.ttf) normal normal bold normal>) = 10.335\n",
      "2020-09-11 12:29:41,570 - matplotlib.font_manager - DEBUG - findfont: score(<Font 'DejaVu Serif' (DejaVuSerif.ttf) normal normal 400 normal>) = 10.05\n",
      "2020-09-11 12:29:41,570 - matplotlib.font_manager - DEBUG - findfont: score(<Font 'STIXGeneral' (STIXGeneralBol.ttf) normal normal bold normal>) = 10.335\n",
      "2020-09-11 12:29:41,571 - matplotlib.font_manager - DEBUG - findfont: score(<Font 'DejaVu Sans' (DejaVuSans-Bold.ttf) normal normal bold normal>) = 2.335\n",
      "2020-09-11 12:29:41,571 - matplotlib.font_manager - DEBUG - findfont: score(<Font 'DejaVu Sans Mono' (DejaVuSansMono-Bold.ttf) normal normal bold normal>) = 10.335\n",
      "2020-09-11 12:29:41,572 - matplotlib.font_manager - DEBUG - findfont: score(<Font 'DejaVu Sans Mono' (DejaVuSansMono.ttf) normal normal 400 normal>) = 10.05\n",
      "2020-09-11 12:29:41,572 - matplotlib.font_manager - DEBUG - findfont: score(<Font 'STIXSizeTwoSym' (STIXSizTwoSymReg.ttf) normal normal regular normal>) = 10.05\n",
      "2020-09-11 12:29:41,573 - matplotlib.font_manager - DEBUG - findfont: score(<Font 'STIXNonUnicode' (STIXNonUniIta.ttf) italic normal 400 normal>) = 11.05\n",
      "2020-09-11 12:29:41,574 - matplotlib.font_manager - DEBUG - findfont: score(<Font 'cmb10' (cmb10.ttf) normal normal 400 normal>) = 10.05\n",
      "2020-09-11 12:29:41,574 - matplotlib.font_manager - DEBUG - findfont: score(<Font 'cmss10' (cmss10.ttf) normal normal 400 normal>) = 10.05\n",
      "2020-09-11 12:29:41,575 - matplotlib.font_manager - DEBUG - findfont: score(<Font 'DejaVu Sans' (DejaVuSans.ttf) normal normal 400 normal>) = 2.05\n",
      "2020-09-11 12:29:41,575 - matplotlib.font_manager - DEBUG - findfont: score(<Font 'STIXNonUnicode' (STIXNonUni.ttf) normal normal regular normal>) = 10.05\n",
      "2020-09-11 12:29:41,576 - matplotlib.font_manager - DEBUG - findfont: score(<Font 'STIXSizeFourSym' (STIXSizFourSymBol.ttf) normal normal bold normal>) = 10.335\n",
      "2020-09-11 12:29:41,577 - matplotlib.font_manager - DEBUG - findfont: score(<Font 'STIXNonUnicode' (STIXNonUniBolIta.ttf) italic normal bold normal>) = 11.335\n",
      "2020-09-11 12:29:41,577 - matplotlib.font_manager - DEBUG - findfont: score(<Font 'cmtt10' (cmtt10.ttf) normal normal 400 normal>) = 10.05\n",
      "2020-09-11 12:29:41,578 - matplotlib.font_manager - DEBUG - findfont: score(<Font 'STIXSizeOneSym' (STIXSizOneSymReg.ttf) normal normal regular normal>) = 10.05\n",
      "2020-09-11 12:29:41,580 - matplotlib.font_manager - DEBUG - findfont: score(<Font 'STIXGeneral' (STIXGeneralItalic.ttf) italic normal 400 normal>) = 11.05\n",
      "2020-09-11 12:29:41,580 - matplotlib.font_manager - DEBUG - findfont: score(<Font 'DejaVu Serif' (DejaVuSerif-Italic.ttf) italic normal 400 normal>) = 11.05\n",
      "2020-09-11 12:29:41,581 - matplotlib.font_manager - DEBUG - findfont: score(<Font 'STIXGeneral' (STIXGeneral.ttf) normal normal regular normal>) = 10.05\n",
      "2020-09-11 12:29:41,582 - matplotlib.font_manager - DEBUG - findfont: score(<Font 'cmmi10' (cmmi10.ttf) normal normal 400 normal>) = 10.05\n",
      "2020-09-11 12:29:41,582 - matplotlib.font_manager - DEBUG - findfont: score(<Font 'STIXSizeThreeSym' (STIXSizThreeSymReg.ttf) normal normal regular normal>) = 10.05\n",
      "2020-09-11 12:29:41,583 - matplotlib.font_manager - DEBUG - findfont: score(<Font 'STIXGeneral' (STIXGeneralBolIta.ttf) italic normal bold normal>) = 11.335\n",
      "2020-09-11 12:29:41,583 - matplotlib.font_manager - DEBUG - findfont: score(<Font 'C059' (C059-Roman.otf) normal normal roman normal>) = 10.145\n",
      "2020-09-11 12:29:41,584 - matplotlib.font_manager - DEBUG - findfont: score(<Font 'Nimbus Mono PS' (NimbusMonoPS-BoldItalic.otf) italic normal bold normal>) = 11.335\n",
      "2020-09-11 12:29:41,584 - matplotlib.font_manager - DEBUG - findfont: score(<Font 'C059' (C059-Bold.otf) normal normal bold normal>) = 10.335\n",
      "2020-09-11 12:29:41,591 - matplotlib.font_manager - DEBUG - findfont: score(<Font 'Nimbus Roman' (NimbusRoman-Bold.otf) normal normal roman normal>) = 10.145\n",
      "2020-09-11 12:29:41,592 - matplotlib.font_manager - DEBUG - findfont: score(<Font 'Liberation Mono' (LiberationMono-Bold.ttf) normal normal bold normal>) = 10.335\n",
      "2020-09-11 12:29:41,593 - matplotlib.font_manager - DEBUG - findfont: score(<Font 'P052' (P052-Italic.otf) italic normal 400 normal>) = 11.05\n",
      "2020-09-11 12:29:41,594 - matplotlib.font_manager - DEBUG - findfont: score(<Font 'Nimbus Sans' (NimbusSans-Regular.otf) normal normal 400 normal>) = 10.05\n",
      "2020-09-11 12:29:41,594 - matplotlib.font_manager - DEBUG - findfont: score(<Font 'Nimbus Sans Narrow' (NimbusSansNarrow-Oblique.otf) oblique normal 400 condensed>) = 11.25\n",
      "2020-09-11 12:29:41,595 - matplotlib.font_manager - DEBUG - findfont: score(<Font 'Nimbus Sans' (NimbusSans-Italic.otf) italic normal 400 normal>) = 11.05\n",
      "2020-09-11 12:29:41,596 - matplotlib.font_manager - DEBUG - findfont: score(<Font 'Liberation Mono' (LiberationMono-Regular.ttf) normal normal 400 normal>) = 10.05\n",
      "2020-09-11 12:29:41,597 - matplotlib.font_manager - DEBUG - findfont: score(<Font 'DejaVu Sans' (DejaVuSans-ExtraLight.ttf) normal normal light normal>) = 2.24\n",
      "2020-09-11 12:29:41,597 - matplotlib.font_manager - DEBUG - findfont: score(<Font 'Nimbus Sans Narrow' (NimbusSansNarrow-BoldOblique.otf) oblique normal bold condensed>) = 11.535\n",
      "2020-09-11 12:29:41,598 - matplotlib.font_manager - DEBUG - findfont: score(<Font 'URW Gothic' (URWGothic-BookOblique.otf) oblique normal book normal>) = 11.05\n",
      "2020-09-11 12:29:41,598 - matplotlib.font_manager - DEBUG - findfont: score(<Font 'Z003' (Z003-MediumItalic.otf) italic normal medium normal>) = 11.145\n"
     ]
    },
    {
     "name": "stderr",
     "output_type": "stream",
     "text": [
      "2020-09-11 12:29:41,599 - matplotlib.font_manager - DEBUG - findfont: score(<Font 'P052' (P052-Bold.otf) normal normal bold normal>) = 10.335\n",
      "2020-09-11 12:29:41,599 - matplotlib.font_manager - DEBUG - findfont: score(<Font 'URW Bookman' (URWBookman-LightItalic.otf) italic normal light normal>) = 11.24\n",
      "2020-09-11 12:29:41,600 - matplotlib.font_manager - DEBUG - findfont: score(<Font 'Nimbus Sans Narrow' (NimbusSansNarrow-Bold.otf) normal normal bold condensed>) = 10.535\n",
      "2020-09-11 12:29:41,601 - matplotlib.font_manager - DEBUG - findfont: score(<Font 'P052' (P052-Roman.otf) normal normal roman normal>) = 10.145\n",
      "2020-09-11 12:29:41,601 - matplotlib.font_manager - DEBUG - findfont: score(<Font 'Nimbus Roman' (NimbusRoman-Italic.otf) italic normal roman normal>) = 11.145\n",
      "2020-09-11 12:29:41,602 - matplotlib.font_manager - DEBUG - findfont: score(<Font 'URW Gothic' (URWGothic-DemiOblique.otf) oblique normal demi normal>) = 11.24\n",
      "2020-09-11 12:29:41,603 - matplotlib.font_manager - DEBUG - findfont: score(<Font 'DejaVu Sans' (DejaVuSansCondensed-BoldOblique.ttf) oblique normal bold condensed>) = 3.535\n",
      "2020-09-11 12:29:41,603 - matplotlib.font_manager - DEBUG - findfont: score(<Font 'Liberation Mono' (LiberationMono-Italic.ttf) italic normal 400 normal>) = 11.05\n",
      "2020-09-11 12:29:41,604 - matplotlib.font_manager - DEBUG - findfont: score(<Font 'C059' (C059-BdIta.otf) italic normal bold normal>) = 11.335\n",
      "2020-09-11 12:29:41,604 - matplotlib.font_manager - DEBUG - findfont: score(<Font 'URW Bookman' (URWBookman-Demi.otf) normal normal book normal>) = 10.05\n",
      "2020-09-11 12:29:41,605 - matplotlib.font_manager - DEBUG - findfont: score(<Font 'Nimbus Mono PS' (NimbusMonoPS-Italic.otf) italic normal 400 normal>) = 11.05\n",
      "2020-09-11 12:29:41,606 - matplotlib.font_manager - DEBUG - findfont: score(<Font 'DejaVu Sans' (DejaVuSansCondensed-Bold.ttf) normal normal bold condensed>) = 2.535\n",
      "2020-09-11 12:29:41,606 - matplotlib.font_manager - DEBUG - findfont: score(<Font 'Nimbus Mono PS' (NimbusMonoPS-Regular.otf) normal normal 400 normal>) = 10.05\n",
      "2020-09-11 12:29:41,607 - matplotlib.font_manager - DEBUG - findfont: score(<Font 'Nimbus Mono PS' (NimbusMonoPS-Bold.otf) normal normal bold normal>) = 10.335\n",
      "2020-09-11 12:29:41,607 - matplotlib.font_manager - DEBUG - findfont: score(<Font 'Nimbus Sans' (NimbusSans-BoldItalic.otf) italic normal bold normal>) = 11.335\n",
      "2020-09-11 12:29:41,608 - matplotlib.font_manager - DEBUG - findfont: score(<Font 'D050000L' (D050000L.otf) normal normal 400 normal>) = 10.05\n",
      "2020-09-11 12:29:41,609 - matplotlib.font_manager - DEBUG - findfont: score(<Font 'URW Bookman' (URWBookman-Light.otf) normal normal light normal>) = 10.24\n",
      "2020-09-11 12:29:41,609 - matplotlib.font_manager - DEBUG - findfont: score(<Font 'DejaVu Sans' (DejaVuSansCondensed-Oblique.ttf) oblique normal 400 condensed>) = 3.25\n",
      "2020-09-11 12:29:41,610 - matplotlib.font_manager - DEBUG - findfont: score(<Font 'Nimbus Sans' (NimbusSans-Bold.otf) normal normal bold normal>) = 10.335\n",
      "2020-09-11 12:29:41,611 - matplotlib.font_manager - DEBUG - findfont: score(<Font 'C059' (C059-Italic.otf) italic normal 400 normal>) = 11.05\n",
      "2020-09-11 12:29:41,611 - matplotlib.font_manager - DEBUG - findfont: score(<Font 'Nimbus Roman' (NimbusRoman-Regular.otf) normal normal roman normal>) = 10.145\n",
      "2020-09-11 12:29:41,612 - matplotlib.font_manager - DEBUG - findfont: score(<Font 'Nimbus Sans Narrow' (NimbusSansNarrow-Regular.otf) normal normal 400 condensed>) = 10.25\n",
      "2020-09-11 12:29:41,612 - matplotlib.font_manager - DEBUG - findfont: score(<Font 'URW Bookman' (URWBookman-DemiItalic.otf) italic normal book normal>) = 11.05\n",
      "2020-09-11 12:29:41,613 - matplotlib.font_manager - DEBUG - findfont: score(<Font 'URW Gothic' (URWGothic-Demi.otf) normal normal demi normal>) = 10.24\n",
      "2020-09-11 12:29:41,614 - matplotlib.font_manager - DEBUG - findfont: score(<Font 'Liberation Mono' (LiberationMono-BoldItalic.ttf) italic normal bold normal>) = 11.335\n",
      "2020-09-11 12:29:41,614 - matplotlib.font_manager - DEBUG - findfont: score(<Font 'P052' (P052-BoldItalic.otf) italic normal bold normal>) = 11.335\n",
      "2020-09-11 12:29:41,615 - matplotlib.font_manager - DEBUG - findfont: score(<Font 'Nimbus Roman' (NimbusRoman-BoldItalic.otf) italic normal roman normal>) = 11.145\n",
      "2020-09-11 12:29:41,615 - matplotlib.font_manager - DEBUG - findfont: score(<Font 'URW Gothic' (URWGothic-Book.otf) normal normal book normal>) = 10.05\n",
      "2020-09-11 12:29:41,616 - matplotlib.font_manager - DEBUG - findfont: score(<Font 'DejaVu Sans' (DejaVuSansCondensed.ttf) normal normal 400 condensed>) = 2.25\n",
      "2020-09-11 12:29:41,616 - matplotlib.font_manager - DEBUG - findfont: Matching :family=sans-serif:style=normal:variant=normal:weight=normal:stretch=normal:size=11.0 to DejaVu Sans ('/home/3005019/anaconda3/lib/python3.7/site-packages/matplotlib/mpl-data/fonts/ttf/DejaVuSans.ttf') with score of 2.050000.\n"
     ]
    },
    {
     "data": {
      "image/png": "[encoded data removed]",
      "text/plain": [
       "<Figure size 432x288 with 1 Axes>"
      ]
     },
     "metadata": {},
     "output_type": "display_data"
    }
   ],
   "source": [
    "import matplotlib.pyplot as plt\n",
    "\n",
    "_ = plt.hist(np.array(correlations), bins=50)\n",
    "\n",
    "plt.show()"
   ]
  },
  {
   "cell_type": "code",
   "execution_count": 56,
   "metadata": {
    "ExecuteTime": {
     "end_time": "2020-09-11T10:29:41.880855Z",
     "start_time": "2020-09-11T10:29:41.872247Z"
    }
   },
   "outputs": [
    {
     "data": {
      "text/plain": [
       "count    10000.000000\n",
       "mean        -0.260633\n",
       "std          0.010119\n",
       "min         -0.297819\n",
       "25%         -0.267393\n",
       "50%         -0.260690\n",
       "75%         -0.253794\n",
       "max         -0.225315\n",
       "dtype: float64"
      ]
     },
     "execution_count": 56,
     "metadata": {},
     "output_type": "execute_result"
    }
   ],
   "source": [
    "pd.Series(correlations).describe()"
   ]
  },
  {
   "cell_type": "code",
   "execution_count": 57,
   "metadata": {
    "ExecuteTime": {
     "end_time": "2020-09-11T10:29:41.885465Z",
     "start_time": "2020-09-11T10:29:41.882096Z"
    }
   },
   "outputs": [
    {
     "data": {
      "text/plain": [
       "10000"
      ]
     },
     "execution_count": 57,
     "metadata": {},
     "output_type": "execute_result"
    }
   ],
   "source": [
    "len(correlations)"
   ]
  },
  {
   "cell_type": "markdown",
   "metadata": {},
   "source": [
    "# Randomly permute data"
   ]
  },
  {
   "cell_type": "code",
   "execution_count": 51,
   "metadata": {
    "ExecuteTime": {
     "end_time": "2020-09-13T09:03:28.764991Z",
     "start_time": "2020-09-13T09:03:28.757259Z"
    }
   },
   "outputs": [
    {
     "name": "stderr",
     "output_type": "stream",
     "text": [
      "/home/3005019/anaconda3/lib/python3.7/site-packages/ipykernel_launcher.py:1: SettingWithCopyWarning: \n",
      "A value is trying to be set on a copy of a slice from a DataFrame\n",
      "\n",
      "See the caveats in the documentation: http://pandas.pydata.org/pandas-docs/stable/user_guide/indexing.html#returning-a-view-versus-a-copy\n",
      "  \"\"\"Entry point for launching an IPython kernel.\n"
     ]
    }
   ],
   "source": [
    "mic_filtered.sort_index(inplace=True)"
   ]
  },
  {
   "cell_type": "code",
   "execution_count": 52,
   "metadata": {
    "ExecuteTime": {
     "end_time": "2020-09-13T10:11:24.692099Z",
     "start_time": "2020-09-13T09:03:32.073679Z"
    }
   },
   "outputs": [
    {
     "data": {
      "application/vnd.jupyter.widget-view+json": {
       "model_id": "819cb039f0d24ea4aba594cbca1688a2",
       "version_major": 2,
       "version_minor": 0
      },
      "text/plain": [
       "HBox(children=(FloatProgress(value=0.0, max=1000000.0), HTML(value='')))"
      ]
     },
     "metadata": {},
     "output_type": "display_data"
    },
    {
     "name": "stdout",
     "output_type": "stream",
     "text": [
      "\n"
     ]
    }
   ],
   "source": [
    "correlations = []\n",
    "\n",
    "for _ in tqdm(range(1_000_000)):\n",
    "    df = mic_filtered.copy()\n",
    "    df['MIC_Score'] = np.random.permutation(df[\"MIC_Score\"].values)\n",
    "    correlation = rank_corr(\"MIC_Score\", \"predicted_MIC\", df)\n",
    "    correlations.append(correlation)"
   ]
  },
  {
   "cell_type": "code",
   "execution_count": 55,
   "metadata": {
    "ExecuteTime": {
     "end_time": "2020-09-12T10:23:58.741028Z",
     "start_time": "2020-09-12T10:23:58.717772Z"
    }
   },
   "outputs": [
    {
     "data": {
      "text/plain": [
       "[0.02063570197953657,\n",
       " 0.0011893041735522303,\n",
       " -0.048899476108434925,\n",
       " -0.09208888576351049,\n",
       " 0.03231074856720928,\n",
       " 0.03768327414647865,\n",
       " -0.011851728138954298,\n",
       " 0.054370451109314044,\n",
       " 0.11668541893744944,\n",
       " 0.044458703983685566,\n",
       " -0.019270595267395718,\n",
       " -0.061479905769839416,\n",
       " -0.07976512780844547,\n",
       " -0.05252364544144017,\n",
       " -0.11064484371154326,\n",
       " -0.03364860588586893,\n",
       " -0.04404732604338801,\n",
       " -0.03622323406349981,\n",
       " 0.041069231039696175,\n",
       " -0.04677841848036279,\n",
       " -0.008308427973700017,\n",
       " 0.016644984353574088,\n",
       " 0.02438293308955386,\n",
       " 0.03231953869413873,\n",
       " -0.010584191835730117,\n",
       " 0.06521395168946242,\n",
       " 0.006360535846137605,\n",
       " 0.0032637741288984445,\n",
       " 0.08256654126085583,\n",
       " -0.06317903730529872,\n",
       " -0.005532505889385142,\n",
       " 0.012163777644949247,\n",
       " -0.006390422277697594,\n",
       " 0.10183098343940089,\n",
       " -0.0015646425934390251,\n",
       " 0.056564466790900436,\n",
       " 0.0028585492774515497,\n",
       " -0.03216395344748779,\n",
       " 0.029247389332301976,\n",
       " 0.10354945325410503,\n",
       " 0.08657396012798424,\n",
       " -0.046130586125663564,\n",
       " 0.12050121303751626,\n",
       " -0.06368007454027635,\n",
       " -0.04204845117963507,\n",
       " -0.012853802608909781,\n",
       " -0.027871734467845632,\n",
       " -0.0017615414366582982,\n",
       " 0.07371312541753106,\n",
       " 0.004557680812910969,\n",
       " 0.04136282127913926,\n",
       " -6.065187581305587e-05,\n",
       " -0.01152913048064419,\n",
       " -0.08328996870714822,\n",
       " 0.00965683344467494,\n",
       " -0.028589008825287365,\n",
       " 0.052693294891178244,\n",
       " -0.021910270384304376,\n",
       " -0.034148764108153706,\n",
       " 0.022176611230266152,\n",
       " -0.06478147744453433,\n",
       " 0.06444129953236521,\n",
       " 0.0195193558594986,\n",
       " 0.04785257199113957,\n",
       " 0.03355630955310995,\n",
       " -0.06042509053830747,\n",
       " 0.12477936781407128,\n",
       " 0.013071797756759596,\n",
       " 0.04945061706691045,\n",
       " 0.010979747547554597,\n",
       " -0.08147920255968488,\n",
       " 0.07955416476213917,\n",
       " -0.02099873422172216,\n",
       " -0.10984230512288606,\n",
       " -0.030863014661931754,\n",
       " -0.06171987623501285,\n",
       " -0.027949966597517584,\n",
       " 0.042976688583383105,\n",
       " 0.025083506205829664,\n",
       " -0.025232938363630053,\n",
       " -0.05109261277732857,\n",
       " 0.056751696494497406,\n",
       " -0.022028937097851697,\n",
       " -0.03439928272564252,\n",
       " 0.07949702893709787,\n",
       " -0.03457684328961719,\n",
       " -0.04755458668823187,\n",
       " -0.0678307724763545,\n",
       " -0.007468091839246238,\n",
       " -0.03465683344467485,\n",
       " 0.043169192363137765,\n",
       " 0.011208290847719793,\n",
       " 0.05524331071340671,\n",
       " 0.06702911290039026,\n",
       " 0.052774164058928985,\n",
       " 0.05322333954502301,\n",
       " 0.05649854083892969,\n",
       " -0.05458844625716397,\n",
       " 0.004812594493864508,\n",
       " 0.004315073309658635,\n",
       " -0.03599293273794868,\n",
       " 0.011661861397278539,\n",
       " 0.022249569283780413,\n",
       " -0.09491227453324425,\n",
       " 0.018973488977180875,\n",
       " -0.03648078478253236,\n",
       " 0.027489363946415435,\n",
       " -0.018845153124011027,\n",
       " -0.040914524805738095,\n",
       " 0.036733061425407,\n",
       " 0.11906314827186104,\n",
       " -0.033712773812453856,\n",
       " -0.057583242502021736,\n",
       " -0.02970975000879017,\n",
       " -0.069048205056081,\n",
       " 0.0040065398544355535,\n",
       " -0.008140536549347877,\n",
       " 0.02862329032031219,\n",
       " -0.06558489504588438,\n",
       " -0.03363805773355377,\n",
       " -0.07705776871418024,\n",
       " 0.07741640589290111,\n",
       " 0.10198568967335886,\n",
       " 0.2047246932245702,\n",
       " 0.06593122604690416,\n",
       " -0.014782356457227142,\n",
       " -0.04372560739777076,\n",
       " 0.10577423437994449,\n",
       " 0.11782374037481103,\n",
       " -0.15855894659118874,\n",
       " -0.03349829471537569,\n",
       " 0.010409268309834352,\n",
       " -0.007048802784712205,\n",
       " 0.09262684153159173,\n",
       " -0.03154424949896284,\n",
       " -0.0169500017580253,\n",
       " 0.08151260504201685,\n",
       " 0.1121171899722232,\n",
       " 0.03766657290531272,\n",
       " 0.09267255019162479,\n",
       " 0.014186385851411742,\n",
       " -0.0012675363032241815,\n",
       " -0.1575788474385571,\n",
       " 0.0034703421117401323,\n",
       " -0.04438135086670658,\n",
       " -0.042946802151823116,\n",
       " 0.08269575612671842,\n",
       " -0.03995376393235128,\n",
       " -0.055670510882177116,\n",
       " 0.060065574346893524,\n",
       " 0.0041506979360782514,\n",
       " -0.009397524700256676,\n",
       " -0.04617189972223201,\n",
       " 0.08090432825850002,\n",
       " -0.055917513448894285,\n",
       " -0.05675345451988334,\n",
       " -0.04358320734151411,\n",
       " 0.06999578073907387,\n",
       " 0.004379241236243447,\n",
       " 0.009034492458071086,\n",
       " -0.03198287683274148,\n",
       " 0.0755405928061601,\n",
       " -0.05494532541049901,\n",
       " -0.029312436271579756,\n",
       " -0.007176259625188974,\n",
       " 0.04003551211279488,\n",
       " 0.11434460813614145,\n",
       " -0.05674290636756796,\n",
       " 0.11130146619317183,\n",
       " 0.035555184416863006,\n",
       " 0.032693998101332555,\n",
       " 0.015777398825639,\n",
       " -0.009481030906086207,\n",
       " 0.05854664041348756,\n",
       " -0.036373545233993276,\n",
       " 0.006247143208747974,\n",
       " 0.04239214514257583,\n",
       " 0.13608347104532192,\n",
       " 0.10795330684575088,\n",
       " -0.027413768854822163,\n",
       " -0.0037815126050420034,\n",
       " 0.0030071024225589715,\n",
       " -0.02920519672304067,\n",
       " 0.07832882106817618,\n",
       " -0.007517316550051056,\n",
       " -0.09643384550472911,\n",
       " -0.05856246264196052,\n",
       " -0.05039467669913145,\n",
       " 0.0799259871312542,\n",
       " -0.09755898175169642,\n",
       " 0.05268362575155583,\n",
       " 0.09477866460391693,\n",
       " 0.10787155866530718,\n",
       " 0.060642206673464316,\n",
       " -0.0314677753946766,\n",
       " 0.025173165500509853,\n",
       " -0.03056590837171691,\n",
       " 0.12295893252698564,\n",
       " 0.07255282866284585,\n",
       " 0.0455434056467775,\n",
       " -0.06010952498154065,\n",
       " -4.570866003295038e-05,\n",
       " -0.046615801132168455,\n",
       " -0.07598976829225412,\n",
       " -0.08334095144333875,\n",
       " 0.06088217713863786,\n",
       " 0.003539784114482636,\n",
       " 0.11526405541296014,\n",
       " 0.12156218135789876,\n",
       " 0.02653651418726488,\n",
       " 0.08955820822052674,\n",
       " 0.045166309201504884,\n",
       " -0.009835273021342461,\n",
       " -0.08175784958334797,\n",
       " 0.053923033648605845,\n",
       " -0.006581168032066431,\n",
       " -0.004933898245490731,\n",
       " 0.0372173974192187,\n",
       " 0.02959284132062867,\n",
       " 0.012860834710453184,\n",
       " -0.09422312858197679,\n",
       " 0.06845135543757253,\n",
       " -0.042998663900706724,\n",
       " -0.025463239689181183,\n",
       " 0.04745086319046443,\n",
       " 0.009661228508139663,\n",
       " -0.024378538026089025,\n",
       " -0.01150451812524178,\n",
       " 0.02582715094405963,\n",
       " 0.01745191800569601,\n",
       " 0.10775552898983864,\n",
       " -0.028632080447241748,\n",
       " 0.10039116064835973,\n",
       " -0.05347297914981897,\n",
       " -0.07300727822509767,\n",
       " 0.02338261664498431,\n",
       " -0.023457332723884505,\n",
       " 0.0032971766112303014,\n",
       " 0.057236911501002075,\n",
       " -0.03601666608065823,\n",
       " 0.09051281600506311,\n",
       " 0.053872050912415204,\n",
       " 0.09305228367497631,\n",
       " 0.04525860553426386,\n",
       " -0.02253524840898713,\n",
       " -0.08382616644984364,\n",
       " 0.033097464927393516,\n",
       " 0.10533121198270101,\n",
       " 0.021194754052248466,\n",
       " 0.05594564185506834,\n",
       " -0.03223427446292315,\n",
       " 0.09612794908758482,\n",
       " 0.039297141450722495,\n",
       " -0.007290531275271572,\n",
       " -0.1031029148060898,\n",
       " -0.018496185084912575,\n",
       " 0.056293730881473936,\n",
       " 0.08415403818431133,\n",
       " -0.0598572483386659,\n",
       " 0.06340406455469216,\n",
       " -0.03878731408881553,\n",
       " 0.020692837804577868,\n",
       " -0.04603741078021173,\n",
       " 0.16225431595232231,\n",
       " 0.10865915403818427,\n",
       " 0.11338560528814035,\n",
       " 0.03293748461727786,\n",
       " -0.04543880313631732,\n",
       " 0.04814176716711793,\n",
       " 0.09844590555887622,\n",
       " 0.14372472838507788,\n",
       " 0.03917671671178935,\n",
       " 0.04805122885974478,\n",
       " -0.02039748953974896,\n",
       " -0.023468759888892743,\n",
       " -0.07160876903062485,\n",
       " 0.0041190534791322175,\n",
       " -0.018601666608065726,\n",
       " 0.12453500228543302,\n",
       " 0.02729246510319605,\n",
       " 0.0525403466826061,\n",
       " -0.0025781442284027456,\n",
       " 0.08526423121549875,\n",
       " 0.004385394325094105,\n",
       " -0.08106694560669458,\n",
       " 0.018290496114763855,\n",
       " -0.009786048310537643,\n",
       " 0.04147181885306428,\n",
       " 0.12252909532013645,\n",
       " 0.04878959952181705,\n",
       " 0.03402042825498397,\n",
       " -0.0170695474842657,\n",
       " -0.03857723005520208,\n",
       " 0.037142681340318506,\n",
       " 0.010138532400407851,\n",
       " -0.02259677929749304,\n",
       " -0.06473401075911545,\n",
       " 0.027015576104919004,\n",
       " 0.06453535389051013,\n",
       " 0.05103811399036606,\n",
       " 0.03439928272564252,\n",
       " 0.043450476424879536,\n",
       " -0.06547062339580179,\n",
       " 0.057417988115748386,\n",
       " 0.021279139270771075,\n",
       " -0.030562392320945042,\n",
       " 0.0218250061530888,\n",
       " -0.009240181428219918,\n",
       " 0.12314616223058261,\n",
       " 0.06733588833022752,\n",
       " 0.01752223902113148,\n",
       " 0.022100137125980135,\n",
       " -0.03979202559684958,\n",
       " -0.02808445553953809,\n",
       " -0.11177349600928244,\n",
       " -0.08155303962589211,\n",
       " -0.00919623079357268,\n",
       " -0.1440446890053093,\n",
       " 0.0931516121092788,\n",
       " -0.042480925424563054,\n",
       " -0.06530536900952844,\n",
       " 0.010644843711543173,\n",
       " 0.10318905804999823,\n",
       " -0.039012341338208856,\n",
       " 0.1129918076017018,\n",
       " 0.11110720438803134,\n",
       " 0.021824127140395944,\n",
       " 0.07088006750817477,\n",
       " -0.03582855736436841,\n",
       " 0.0709266551809008,\n",
       " 0.03236173130340003,\n",
       " -0.046691396223761394,\n",
       " 0.05500861432439086,\n",
       " -0.04775500158222279,\n",
       " 0.03802169403326183,\n",
       " 0.09518388945536371,\n",
       " 0.05372349776730778,\n",
       " 0.011358602018213149,\n",
       " 0.03356773671811819,\n",
       " -0.01562269259168092,\n",
       " -0.011411342779789724,\n",
       " 0.010693189409655024,\n",
       " 0.0738810168418832,\n",
       " -0.05805615133082531,\n",
       " -0.017041419078091424,\n",
       " -0.07686438592173261,\n",
       " -0.0558647726873176,\n",
       " 0.020715692134594454,\n",
       " 0.0071129707112970175,\n",
       " -0.08312471432087487,\n",
       " -0.14623782567420274,\n",
       " 0.011311135332794153,\n",
       " 0.07693998101332589,\n",
       " 0.044085123589184594,\n",
       " -0.054576140079462654,\n",
       " -0.0383776941739038,\n",
       " 0.010293238634365931,\n",
       " 0.021254526915368666,\n",
       " -0.11735522660947217,\n",
       " 0.04010407510284453,\n",
       " -0.07117102070953907,\n",
       " 0.0023786083471045716,\n",
       " 0.004684258640694772,\n",
       " 0.025518617488836548,\n",
       " -0.04582644773390521,\n",
       " 0.06309025702331139,\n",
       " -0.006110896241341646,\n",
       " 0.07495341232727404,\n",
       " -0.015087373861678577,\n",
       " 0.09890035512112794,\n",
       " 0.11526141837488135,\n",
       " 0.015344924580710906,\n",
       " -0.02539379768643868,\n",
       " -0.007937484617277946,\n",
       " -0.009894166871769583,\n",
       " -0.04862786118631557,\n",
       " 0.06901656059913508,\n",
       " 0.03301571674694981,\n",
       " 0.04041172954537464,\n",
       " 0.03640431067824623,\n",
       " 0.012346612285081382,\n",
       " 0.028477374213283668,\n",
       " 0.05393797686438595,\n",
       " -0.05519320698990904,\n",
       " -0.0932711578355192,\n",
       " -0.06515681586442112,\n",
       " 0.000998558419183615,\n",
       " 0.06047783129988393,\n",
       " 0.145520551316761,\n",
       " -0.07471519988748643,\n",
       " -0.03878028198727179,\n",
       " -0.07911817446643932,\n",
       " 0.03525104602510465,\n",
       " -0.019764600400829835,\n",
       " -0.014233852536830627,\n",
       " -0.002710875145037095,\n",
       " -0.07818817903730535,\n",
       " -0.033769909637495266,\n",
       " 0.028051932069899088,\n",
       " 0.00419992264688307,\n",
       " -0.014432509405435834,\n",
       " -0.016337329911043863,\n",
       " -0.07769065785309937,\n",
       " 0.07006346471643055,\n",
       " -0.008079884673534599,\n",
       " -0.04506785977989525,\n",
       " -0.057526106676980326,\n",
       " -0.04567086248725438,\n",
       " 0.0001740445132027979,\n",
       " -0.06533789247916744,\n",
       " 0.06485091944727683,\n",
       " 0.02885095460778453,\n",
       " 0.024905066629162143,\n",
       " -0.01206532822333961,\n",
       " -0.06138936746246615,\n",
       " -0.06315442494989632,\n",
       " -0.011486937871382885,\n",
       " 0.023823881016841852,\n",
       " -0.028841285468162114,\n",
       " 0.07883425336661865,\n",
       " 0.012124222073766733,\n",
       " -0.011092261172251261,\n",
       " -0.008166906930135998,\n",
       " 0.02059438838296823,\n",
       " 0.053785028655813805,\n",
       " -0.019338279244752288,\n",
       " -0.07711226750114264,\n",
       " 0.13727013818079536,\n",
       " -0.1744066664322632,\n",
       " -0.07610403994233672,\n",
       " -0.10673587426602449,\n",
       " 0.03193189409655073,\n",
       " 0.062095214654899644,\n",
       " 0.06559192714742801,\n",
       " 0.011023698182201724,\n",
       " 0.015140993635948119,\n",
       " -0.05202524524454133,\n",
       " -0.05534088112232349,\n",
       " 0.022870152244998443,\n",
       " 0.07652157097148482,\n",
       " -0.0808849899792552,\n",
       " 0.17173446784571567,\n",
       " -0.03324074399634336,\n",
       " -0.03765602475299734,\n",
       " -0.04745701627931509,\n",
       " -0.03060985900636415,\n",
       " 0.025640800253155627,\n",
       " 0.13205847192433462,\n",
       " -0.012201575190745828,\n",
       " 0.06027302134242818,\n",
       " 0.09349882212299143,\n",
       " 0.034618156886185414,\n",
       " 0.02297387574276577,\n",
       " 0.020136422769944762,\n",
       " 0.0018863612390562778,\n",
       " 0.09127755704792373,\n",
       " -0.0042614535353890926,\n",
       " 0.07853978411448259,\n",
       " 0.08550859674413702,\n",
       " -0.12199905066629158,\n",
       " -0.0035714285714285587,\n",
       " 0.05055729404732601,\n",
       " -0.06422857846067287,\n",
       " -0.011781407123518939,\n",
       " 0.020495059948665628,\n",
       " 0.01354998066172075,\n",
       " 0.1000791111423649,\n",
       " 0.0356571498892444,\n",
       " -0.00894659118877672,\n",
       " -0.07609524981540727,\n",
       " 0.01251801976020539,\n",
       " 0.021419781301642016,\n",
       " 0.0733043845153124,\n",
       " -0.08250764741042871,\n",
       " -0.0852633522028059,\n",
       " 0.026542667276115428,\n",
       " 0.06089887837980379,\n",
       " -0.054684258640694816,\n",
       " -0.0742510811856123,\n",
       " -0.028134559263035763,\n",
       " 0.05952234450265459,\n",
       " -0.12087303540663119,\n",
       " -0.02163777644949194,\n",
       " -0.01823248127702959,\n",
       " 0.02340195492422914,\n",
       " 0.04382933089553809,\n",
       " 0.02163250237333425,\n",
       " 0.0868631553039626,\n",
       " 0.05426496958616078,\n",
       " -0.04184188319679327,\n",
       " 0.0521799514784993,\n",
       " -0.04118701874055053,\n",
       " 0.09361924686192469,\n",
       " -0.00393709785169305,\n",
       " 0.06338648430083327,\n",
       " 0.12812928518687805,\n",
       " -0.0179046095425619,\n",
       " -0.0808805949157907,\n",
       " 0.06923895081044973,\n",
       " -0.027855033226679815,\n",
       " 0.03012640202524519,\n",
       " -0.07477497275060663,\n",
       " -0.06994655602826905,\n",
       " 0.07048802784712216,\n",
       " -0.024273056502935875,\n",
       " 0.054301888119264397,\n",
       " -0.07530150135367952,\n",
       " -0.09442442248866079,\n",
       " 0.0048609401919763595,\n",
       " -0.009744734713969194,\n",
       " 0.09053918638585146,\n",
       " 0.05669016560599138,\n",
       " -0.0576957561267184,\n",
       " -0.1692688372420097,\n",
       " 0.09029657888259901,\n",
       " 0.035024260750325276,\n",
       " -0.025150311170493378,\n",
       " 0.11268766920994344,\n",
       " 0.015895186526493466,\n",
       " -0.06943057557751131,\n",
       " -0.03090432825849998,\n",
       " -0.08228174114834208,\n",
       " -0.009432685207974467,\n",
       " 0.007417109103055486,\n",
       " -0.033127351358953616,\n",
       " -0.031824654548011644,\n",
       " -0.09892672550191617,\n",
       " 0.04107274709046793,\n",
       " 0.005531626876692064,\n",
       " 0.09964487887205087,\n",
       " -0.004419675820118929,\n",
       " -0.010017228648781629,\n",
       " -0.03225361274216798,\n",
       " 0.033607292289300705,\n",
       " 0.0444402447171337,\n",
       " 0.023053865897823544,\n",
       " 0.03877500791111421,\n",
       " -0.07600910657149895,\n",
       " -0.043556836960725764,\n",
       " 0.020360571006645345,\n",
       " -0.004246510319608987,\n",
       " 0.023699061214443984,\n",
       " -0.08265092647937844,\n",
       " 0.029708870996097203,\n",
       " 0.05045181252417286,\n",
       " 0.05617330614254068,\n",
       " 0.15774673886290913,\n",
       " -0.0024937590098801365,\n",
       " 0.023777293344115935,\n",
       " -0.05648008157237783,\n",
       " -0.017158327766253034,\n",
       " -0.027801413452410273,\n",
       " 0.06702120178615378,\n",
       " -0.045103899300305894,\n",
       " 0.00932896171020714,\n",
       " 0.009094265321191286,\n",
       " 0.007408318976126038,\n",
       " 0.12367005379557683,\n",
       " -0.03380067508174811,\n",
       " -0.00946432966492039,\n",
       " -0.06310168418831963,\n",
       " -0.007730916634436147,\n",
       " -0.016967582011884197,\n",
       " 0.06463292429942691,\n",
       " 0.11462237614711157,\n",
       " -0.06339966949122755,\n",
       " 0.052462993565627114,\n",
       " 0.030421750290074212,\n",
       " 0.048934636616152716,\n",
       " -0.05770630427903378,\n",
       " 0.047837628775359464,\n",
       " 0.12084842305122889,\n",
       " -0.07289915966386551,\n",
       " 0.028893147217045834,\n",
       " 0.05194877114025531,\n",
       " 0.04425741007700146,\n",
       " 0.0494892936254,\n",
       " -0.011460567490594542,\n",
       " -0.00897384058225792,\n",
       " 0.04933195035336313,\n",
       " 0.015304489996835535,\n",
       " -0.05536813051580469,\n",
       " -0.046247494813825174,\n",
       " 0.11122235505080691,\n",
       " 0.03363366267008894,\n",
       " -0.04427850638163222,\n",
       " -0.07967634752645836,\n",
       " 0.058426215674554305,\n",
       " 0.12235417179424068,\n",
       " 0.08963468232481275,\n",
       " -0.10777047220561875,\n",
       " -0.002998312295629635,\n",
       " -0.10379821384620791,\n",
       " -0.11896381983755844,\n",
       " 0.06722249569283778,\n",
       " 0.016401497837628787,\n",
       " -0.14239654020604053,\n",
       " -0.03503392988994758,\n",
       " 0.041817270841390974,\n",
       " 0.007805632713336341,\n",
       " -0.06226750114271651,\n",
       " 0.08176136563411973,\n",
       " -0.07467300727822512,\n",
       " 0.02207200871980597,\n",
       " -0.06350163496360883,\n",
       " -0.08374266024401389,\n",
       " 0.012351007348546106,\n",
       " 0.11852607151647265,\n",
       " -0.014167047572166913,\n",
       " 0.05560106887943461,\n",
       " 0.035788122780492926,\n",
       " 0.08095355296930484,\n",
       " 0.05595619000738372,\n",
       " 0.01229562954889074,\n",
       " -0.0011822720720087165,\n",
       " 0.007049681797405172,\n",
       " 0.06290654337048629,\n",
       " -0.03323195386941391,\n",
       " 0.058434126788790786,\n",
       " -0.04337663935867231,\n",
       " 0.02462114552934147,\n",
       " 0.06395608452586055,\n",
       " 0.060859322808621386,\n",
       " 0.02319626595408042,\n",
       " 0.01604813473506561,\n",
       " 0.007417109103055486,\n",
       " -0.0017764846524384037,\n",
       " 0.00361977426954041,\n",
       " -0.003306845750852716,\n",
       " -0.03876270173341312,\n",
       " 0.07361467599592142,\n",
       " -0.02095214654899613,\n",
       " -0.01449843535740647,\n",
       " -0.017120530220456454,\n",
       " -0.04757656200555527,\n",
       " -0.09992176787032814,\n",
       " 0.018778348159347424,\n",
       " -0.02247811258394572,\n",
       " -0.12653739319995783,\n",
       " -0.03263686227629137,\n",
       " -0.002361028093245565,\n",
       " 0.0716026159417742,\n",
       " -0.0010697584473120525,\n",
       " 0.028267290179670224,\n",
       " -0.0939093210505959,\n",
       " -0.041099117471256275,\n",
       " 0.06478675152069191,\n",
       " 0.033737386167856265,\n",
       " -0.02944956225167883,\n",
       " 0.0007629830174747942,\n",
       " -0.07150680355824335,\n",
       " 0.007203509018670284,\n",
       " -0.06855244189726095,\n",
       " -0.07497450863190469,\n",
       " 0.07547378784149639,\n",
       " 0.061520340353714675,\n",
       " 0.01985513870820299,\n",
       " 0.020582082205267027,\n",
       " 0.08717784184803623,\n",
       " -0.04166871769628355,\n",
       " -0.013044548363278397,\n",
       " -0.017773636651313263,\n",
       " -0.013484054709750115,\n",
       " -0.10703825463239691,\n",
       " 0.00635086670651519,\n",
       " -0.014706761365634202,\n",
       " 0.08660120952146544,\n",
       " -0.04238247600295342,\n",
       " 0.04033349741570269,\n",
       " 0.1611370908195915,\n",
       " -0.09026581343834605,\n",
       " 0.08294627474420735,\n",
       " 0.01667399177244122,\n",
       " -0.02226890756302513,\n",
       " 0.02975809570690202,\n",
       " -0.0458440279877641,\n",
       " -0.024231742906367648,\n",
       " -0.06289072114201333,\n",
       " 0.030142224253718264,\n",
       " -0.0978033472803348,\n",
       " -0.03720069617805288,\n",
       " 0.0950151190183186,\n",
       " -0.038426918884708616,\n",
       " 0.06876867901972505,\n",
       " -0.02513360992932734,\n",
       " -0.13340424035723086,\n",
       " 0.04711508034176015,\n",
       " -0.044789212756232155,\n",
       " 0.024832987588340738,\n",
       " -0.04400249639604792,\n",
       " 0.058236348932878546,\n",
       " -0.10430979923350092,\n",
       " -0.08466386554621841,\n",
       " -0.0043783622235504804,\n",
       " -0.11849354804683387,\n",
       " 0.019856896733588814,\n",
       " 0.10866267008895614,\n",
       " 0.05337365071551636,\n",
       " 0.01959231391301286,\n",
       " 0.025094054358144935,\n",
       " 0.01602703843043496,\n",
       " 0.04650768257093629,\n",
       " -0.027448929362539953,\n",
       " -0.06554094441123737,\n",
       " 0.03260082275588061,\n",
       " -0.09798793994585275,\n",
       " 0.06628634717485316,\n",
       " 0.02504395063464715,\n",
       " 0.003478253225976613,\n",
       " 0.025015822228472984,\n",
       " 0.08350620582961221,\n",
       " -0.09809517949439184,\n",
       " 0.07715270208501812,\n",
       " -0.12351534756161886,\n",
       " -0.007242185577159832,\n",
       " 0.0497600295348265,\n",
       " -0.015248233184487203,\n",
       " -0.018342357863647463,\n",
       " -0.02358303153897534,\n",
       " 0.001765936500123022,\n",
       " 0.04213986849970108,\n",
       " -0.0512209486304982,\n",
       " -0.029640308006047666,\n",
       " -0.04890123413382086,\n",
       " 0.042020322773460794,\n",
       " 0.05059684961850852,\n",
       " 0.08984652438381213,\n",
       " 0.14913944657360856,\n",
       " -0.03064414050138886,\n",
       " 0.031071340670159264,\n",
       " 0.038375936148517975,\n",
       " 0.0725466755739953,\n",
       " -0.045006328891389114,\n",
       " -0.007780141345240965,\n",
       " -0.010987658661790967,\n",
       " 0.015335255441088602,\n",
       " -0.003366618613972694,\n",
       " -0.08592964382405688,\n",
       " 0.11902886677683622,\n",
       " 0.0014494919306634602,\n",
       " 0.12641960549910336,\n",
       " -0.0014125733975598465,\n",
       " -0.041204598994409425,\n",
       " -0.06631974965718501,\n",
       " 0.013183432368763404,\n",
       " -0.02839826307091875,\n",
       " 0.009000210963046262,\n",
       " -0.031022994972047302,\n",
       " 0.011807777504307171,\n",
       " 0.04617981083646849,\n",
       " 0.12602756583805075,\n",
       " -0.12574716078900172,\n",
       " -0.019877993038219577,\n",
       " 0.04651471467247992,\n",
       " 0.05111722513273087,\n",
       " 0.05135280053443969,\n",
       " 0.06286874582468971,\n",
       " 0.08244260047115082,\n",
       " -0.07531996062023127,\n",
       " -0.0708273267465982,\n",
       " -0.021520867761330553,\n",
       " -0.03496009282374035,\n",
       " -0.11406947716325022,\n",
       " -0.05371910270384306,\n",
       " 0.03976477620336838,\n",
       " 0.022880700397313714,\n",
       " -0.09278066875285673,\n",
       " -0.030252979853029105,\n",
       " 0.1115678070391336,\n",
       " 0.03014837734256881,\n",
       " 0.0733791005942126,\n",
       " 0.05045357054955879,\n",
       " 0.045485390809043236,\n",
       " 0.03698445905558878,\n",
       " 0.10975528286628455,\n",
       " -0.06564906297246931,\n",
       " 0.06045409795717449,\n",
       " 0.029374846172778746,\n",
       " 0.03287771175415777,\n",
       " -0.11203192574100762,\n",
       " -0.08593931296367918,\n",
       " 0.09550912415175272,\n",
       " -0.07306265602475293,\n",
       " 0.04306810590344923,\n",
       " -0.09351200731338571,\n",
       " 0.05081748180443724,\n",
       " -0.024406666432263302,\n",
       " 0.030168594634506496,\n",
       " -0.07867691009458166,\n",
       " 0.00720438803136314,\n",
       " -0.023641046376709607,\n",
       " 0.047271544601104054,\n",
       " -0.06482982314264607,\n",
       " 0.10780651172602929,\n",
       " 0.10368218417073938,\n",
       " -0.028464189022889386,\n",
       " 0.0729439893112056,\n",
       " 0.13691501705284626,\n",
       " -0.11375215358109769,\n",
       " -0.015523364157378428,\n",
       " 0.12936869308392818,\n",
       " -0.05869343553320916,\n",
       " -0.043082170106536255,\n",
       " 0.0819758447311979,\n",
       " -0.0015760697584472627,\n",
       " -0.15990383601139202,\n",
       " 0.11570795682289647,\n",
       " 0.05837083787489894,\n",
       " 0.10155321542843077,\n",
       " -0.06855068387187502,\n",
       " 0.03858338314405263,\n",
       " -0.09402007664990686,\n",
       " 0.020655919271474255,\n",
       " 0.03397471959495091,\n",
       " -0.0688820716571148,\n",
       " -0.1096919939523926,\n",
       " -0.0014582820575930189,\n",
       " -0.06574048029253543,\n",
       " 0.09684873949579831,\n",
       " 0.03109419500017585,\n",
       " -0.005681938047185309,\n",
       " -0.042681340318554195,\n",
       " -0.027285433001652537,\n",
       " 0.0373738616785626,\n",
       " 0.0659250729580535,\n",
       " 0.03192574100770018,\n",
       " 0.021677332020674345,\n",
       " 0.008931647972996726,\n",
       " 0.09417390387117186,\n",
       " 0.09384691114939703,\n",
       " -0.004330016525438518,\n",
       " 0.09380647656552166,\n",
       " 0.02645564501951403,\n",
       " 0.08647375268098867,\n",
       " -0.006700713758306609,\n",
       " -0.09813473506557435,\n",
       " 0.04447101016138677,\n",
       " -0.13304824021658868,\n",
       " -0.01129619211701427,\n",
       " 0.09814879926866149,\n",
       " 0.05447505361977423,\n",
       " 0.0390685981505573,\n",
       " 0.12866899898034523,\n",
       " 0.025938785556063437,\n",
       " 0.07575155585246651,\n",
       " -0.015419640659611211,\n",
       " 0.13833813860272137,\n",
       " 0.09751766815512819,\n",
       " 0.0628590766850673,\n",
       " -0.043214901023170826,\n",
       " 0.035501564642593464,\n",
       " 0.04408424457649174,\n",
       " 0.01054815231531947,\n",
       " -0.006778066875285704,\n",
       " 0.012043352906015992,\n",
       " 0.0189181111775254,\n",
       " -0.07051264020252446,\n",
       " 0.023661263668647403,\n",
       " -0.04252311803382436,\n",
       " 0.019038535916458654,\n",
       " -0.0725888681832565,\n",
       " 0.006930136071164883,\n",
       " -0.05259836152034025,\n",
       " -0.05620143454871496,\n",
       " 0.09096902359270065,\n",
       " 0.0076948771140255,\n",
       " 0.09971695791287227,\n",
       " 0.07414999472592387,\n",
       " 0.04844766358426211,\n",
       " 0.007638620301677168,\n",
       " -0.15133170422980902,\n",
       " 0.04676523328996873,\n",
       " -0.10914612707007487,\n",
       " -0.00204809957455776,\n",
       " 0.09921592067789464,\n",
       " 0.05206655884110967,\n",
       " -0.06715569072817407,\n",
       " 0.07462290355472734,\n",
       " 0.037652508702225695,\n",
       " 0.050365669280264425,\n",
       " -0.03200924721352982,\n",
       " 0.028532752012939033,\n",
       " 0.07997960690552375,\n",
       " -0.033634541682781904,\n",
       " -0.029310678246193822,\n",
       " -0.014499314370099547,\n",
       " 0.0534817692767483,\n",
       " -0.013320558348862477,\n",
       " 0.07334657712457371,\n",
       " -0.00946960374107797,\n",
       " 0.1581950353363103,\n",
       " -0.1636783165148905,\n",
       " 0.05886923807179778,\n",
       " 0.0027741640589290517,\n",
       " 0.03830209908231075,\n",
       " 0.07071393410920856,\n",
       " -0.048346577124573686,\n",
       " -0.12290091768925149,\n",
       " -0.03277398825639044,\n",
       " -0.013582504131359752,\n",
       " 0.026201610351253457,\n",
       " 0.00979483843746709,\n",
       " 0.03949404029394188,\n",
       " 0.0727303892268204,\n",
       " -0.09976618262367709,\n",
       " -0.053863260785485645,\n",
       " 0.03924703772722482,\n",
       " 0.0117075700573116,\n",
       " 0.026652543862733413,\n",
       " 0.0011321683485109313,\n",
       " 0.03911782286136212,\n",
       " -0.018667592560036583,\n",
       " 0.012929397700502832,\n",
       " 0.013765338771491886,\n",
       " -0.015540944411237323,\n",
       " 0.012504834569811218,\n",
       " 0.01564994198516223,\n",
       " 0.16056397454379245,\n",
       " 0.08128318272915858,\n",
       " -0.006820259484547009,\n",
       " -0.01609648043317735,\n",
       " -0.05726328188179042,\n",
       " 0.012852923596216703,\n",
       " 0.005862135649238764,\n",
       " -0.02840881122323413,\n",
       " 0.008080763686227677,\n",
       " -0.0742932737948736,\n",
       " -0.021833796280018358,\n",
       " 0.03743715059245456,\n",
       " 0.01971977075348963,\n",
       " -0.057944516718821504,\n",
       " 0.12680021799514785,\n",
       " 0.05079726451249955,\n",
       " 0.05953640870574173,\n",
       " 0.09419324215041669,\n",
       " 0.03626454766006826,\n",
       " -0.08410041841004179,\n",
       " 0.05049752118420592,\n",
       " -0.07891600154706224,\n",
       " 0.03170071375830663,\n",
       " -0.10272318132273828,\n",
       " -0.0007577089413171034,\n",
       " -0.093243908442038,\n",
       " 0.08283464013220354,\n",
       " -0.11470939840371286,\n",
       " 0.06481575893955904,\n",
       " -0.011857002215111878,\n",
       " 0.01992809676171725,\n",
       " 0.0009466966702998958,\n",
       " 0.01462589219788335,\n",
       " 0.04356650610034807,\n",
       " 0.025701452128968794,\n",
       " -0.060106008930769006,\n",
       " 0.006846629865335241,\n",
       " 0.058407756408002554,\n",
       " -0.07549488414612715,\n",
       " 0.041445448472275936,\n",
       " 0.07411571323089905,\n",
       " 0.09039151225343689,\n",
       " 0.034048556661158136,\n",
       " 0.0055755775113393025,\n",
       " 0.027981611054463618,\n",
       " 0.004654372209134672,\n",
       " -0.00815020568897018,\n",
       " 0.032867163601842386,\n",
       " 0.08629531310432126,\n",
       " -0.062308814739284735,\n",
       " 0.021484828240919795,\n",
       " 0.0637732498857283,\n",
       " 0.028145107415351034,\n",
       " 0.07805720614605671,\n",
       " 0.029240357230758462,\n",
       " -0.087337822158152,\n",
       " 0.07649080552723186,\n",
       " -0.07133715410850527,\n",
       " -0.0038966632678176794,\n",
       " 0.12962800182834644,\n",
       " -0.08235821525262832,\n",
       " 0.07807830245068736,\n",
       " -0.037197180127281015,\n",
       " 0.0818738792588165,\n",
       " 0.00174220315741358,\n",
       " -0.017633873633135178,\n",
       " 0.05423244611652189,\n",
       " -0.038443620125874656,\n",
       " -0.007121760838226576,\n",
       " -0.0625136246967406,\n",
       " 0.14155884110966566,\n",
       " -0.1519092155690729,\n",
       " 0.07158679371330123,\n",
       " -0.03493372244295201,\n",
       " 0.043006575014943205,\n",
       " -0.015196371435603595,\n",
       " 0.045547800710242226,\n",
       " 0.07216957912872257,\n",
       " -0.028393868007454026,\n",
       " 0.02008280299567522,\n",
       " -0.025687387925881655,\n",
       " 0.031349987693822245,\n",
       " -0.06517615414366573,\n",
       " ...]"
      ]
     },
     "execution_count": 55,
     "metadata": {},
     "output_type": "execute_result"
    }
   ],
   "source": [
    "correlations"
   ]
  },
  {
   "cell_type": "code",
   "execution_count": 53,
   "metadata": {
    "ExecuteTime": {
     "end_time": "2020-09-13T10:12:27.179284Z",
     "start_time": "2020-09-13T10:12:27.022081Z"
    }
   },
   "outputs": [
    {
     "data": {
      "text/plain": [
       "count    1000000.000000\n",
       "mean           0.005993\n",
       "std            0.064884\n",
       "min           -0.291827\n",
       "25%           -0.037694\n",
       "50%            0.006063\n",
       "75%            0.049866\n",
       "max            0.299038\n",
       "dtype: float64"
      ]
     },
     "execution_count": 53,
     "metadata": {},
     "output_type": "execute_result"
    }
   ],
   "source": [
    "pd.Series(correlations).describe()"
   ]
  },
  {
   "cell_type": "code",
   "execution_count": 72,
   "metadata": {
    "ExecuteTime": {
     "end_time": "2020-09-11T17:30:35.131309Z",
     "start_time": "2020-09-11T17:30:34.979940Z"
    }
   },
   "outputs": [
    {
     "data": {
      "text/plain": [
       "count    1000000.000000\n",
       "mean           0.006039\n",
       "std            0.064868\n",
       "min           -0.287181\n",
       "25%           -0.037720\n",
       "50%            0.006154\n",
       "75%            0.049916\n",
       "max            0.301057\n",
       "dtype: float64"
      ]
     },
     "execution_count": 72,
     "metadata": {},
     "output_type": "execute_result"
    }
   ],
   "source": [
    "pd.Series(correlations).describe()"
   ]
  },
  {
   "cell_type": "code",
   "execution_count": 86,
   "metadata": {
    "ExecuteTime": {
     "end_time": "2020-09-12T10:39:58.700389Z",
     "start_time": "2020-09-12T10:39:58.693689Z"
    }
   },
   "outputs": [
    {
     "data": {
      "text/plain": [
       "-0.26197918497943107"
      ]
     },
     "execution_count": 86,
     "metadata": {},
     "output_type": "execute_result"
    }
   ],
   "source": [
    "r"
   ]
  },
  {
   "cell_type": "code",
   "execution_count": 55,
   "metadata": {
    "ExecuteTime": {
     "end_time": "2020-09-13T10:12:54.887383Z",
     "start_time": "2020-09-13T10:12:54.882868Z"
    }
   },
   "outputs": [],
   "source": [
    "import matplotlib.pyplot as plt"
   ]
  },
  {
   "cell_type": "code",
   "execution_count": 58,
   "metadata": {
    "ExecuteTime": {
     "end_time": "2020-09-13T10:13:07.341928Z",
     "start_time": "2020-09-13T10:13:07.335318Z"
    }
   },
   "outputs": [],
   "source": [
    "import seaborn as sns\n",
    "sns.set()"
   ]
  },
  {
   "cell_type": "code",
   "execution_count": 65,
   "metadata": {
    "ExecuteTime": {
     "end_time": "2020-09-13T10:14:25.013930Z",
     "start_time": "2020-09-13T10:14:24.389737Z"
    }
   },
   "outputs": [
    {
     "data": {
      "image/png": "[encoded data removed]",
      "text/plain": [
       "<Figure size 1152x576 with 1 Axes>"
      ]
     },
     "metadata": {},
     "output_type": "display_data"
    }
   ],
   "source": [
    "plt.figure(figsize=(16, 8))\n",
    "a = plt.hist(correlations, bins=50)\n",
    "b = plt.axvline(r, color=\"red\", linestyle=\"dashed\")\n",
    "q_5 = plt.axvline(-0.10040966386554624, color=\"c\", linestyle=\"dashed\")\n",
    "q_95 = plt.axvline(0.11248466122850809, color=\"c\", linestyle=\"dashed\")\n",
    "plt.legend([\"ρ = -0.26\", \"5th percentile = -0.10\", \"95th percentile = 0.11\"]);"
   ]
  },
  {
   "cell_type": "code",
   "execution_count": 98,
   "metadata": {
    "ExecuteTime": {
     "end_time": "2020-09-12T10:43:57.659028Z",
     "start_time": "2020-09-12T10:43:57.093667Z"
    },
    "scrolled": false
   },
   "outputs": [
    {
     "data": {
      "image/png": "[encoded data removed]",
      "text/plain": [
       "<Figure size 1152x576 with 1 Axes>"
      ]
     },
     "metadata": {},
     "output_type": "display_data"
    }
   ],
   "source": [
    "plt.figure(figsize=(16, 8))\n",
    "a = plt.hist(correlations, bins=50)\n",
    "b = plt.axvline(r, color=\"red\", linestyle=\"dashed\")\n",
    "q_5 = plt.axvline(-0.10040966386554624, color=\"c\", linestyle=\"dashed\")\n",
    "q_95 = plt.axvline(0.11248466122850809, color=\"c\", linestyle=\"dashed\")\n",
    "plt.legend([\"ρ = -0.26\", \"0.05 CI = -0.10\", \"0.95 CI = 0.11\"]);"
   ]
  },
  {
   "cell_type": "code",
   "execution_count": 99,
   "metadata": {
    "ExecuteTime": {
     "end_time": "2020-09-12T10:47:16.780504Z",
     "start_time": "2020-09-12T10:47:16.772342Z"
    }
   },
   "outputs": [
    {
     "data": {
      "text/plain": [
       "2e-05"
      ]
     },
     "execution_count": 99,
     "metadata": {},
     "output_type": "execute_result"
    }
   ],
   "source": [
    "20/1000000"
   ]
  },
  {
   "cell_type": "code",
   "execution_count": 100,
   "metadata": {
    "ExecuteTime": {
     "end_time": "2020-09-12T10:47:25.962313Z",
     "start_time": "2020-09-12T10:47:25.956084Z"
    }
   },
   "outputs": [
    {
     "data": {
      "text/plain": [
       "2e-05"
      ]
     },
     "execution_count": 100,
     "metadata": {},
     "output_type": "execute_result"
    }
   ],
   "source": [
    "2e-05"
   ]
  },
  {
   "cell_type": "code",
   "execution_count": 61,
   "metadata": {
    "ExecuteTime": {
     "end_time": "2020-09-13T10:13:32.195059Z",
     "start_time": "2020-09-13T10:13:32.103537Z"
    }
   },
   "outputs": [],
   "source": [
    "correlations_series = pd.Series(correlations)"
   ]
  },
  {
   "cell_type": "code",
   "execution_count": 66,
   "metadata": {
    "ExecuteTime": {
     "end_time": "2020-09-12T10:27:44.218065Z",
     "start_time": "2020-09-12T10:27:44.207797Z"
    }
   },
   "outputs": [
    {
     "data": {
      "text/plain": [
       "20"
      ]
     },
     "execution_count": 66,
     "metadata": {},
     "output_type": "execute_result"
    }
   ],
   "source": [
    "correlations_series[correlations_series < r].count()"
   ]
  },
  {
   "cell_type": "code",
   "execution_count": 62,
   "metadata": {
    "ExecuteTime": {
     "end_time": "2020-09-13T10:13:33.805744Z",
     "start_time": "2020-09-13T10:13:33.773633Z"
    }
   },
   "outputs": [
    {
     "data": {
      "text/plain": [
       "-0.10095548679722932"
      ]
     },
     "execution_count": 62,
     "metadata": {},
     "output_type": "execute_result"
    }
   ],
   "source": [
    "correlations_series.quantile(q=0.05)"
   ]
  },
  {
   "cell_type": "code",
   "execution_count": 63,
   "metadata": {
    "ExecuteTime": {
     "end_time": "2020-09-13T10:13:34.247313Z",
     "start_time": "2020-09-13T10:13:34.214829Z"
    }
   },
   "outputs": [
    {
     "data": {
      "text/plain": [
       "0.11266925389402617"
      ]
     },
     "execution_count": 63,
     "metadata": {},
     "output_type": "execute_result"
    }
   ],
   "source": [
    "correlations_series.quantile(q=0.95)"
   ]
  }
 ],
 "metadata": {
  "kernelspec": {
   "display_name": "Python 3",
   "language": "python",
   "name": "python3"
  },
  "language_info": {
   "codemirror_mode": {
    "name": "ipython",
    "version": 3
   },
   "file_extension": ".py",
   "mimetype": "text/x-python",
   "name": "python",
   "nbconvert_exporter": "python",
   "pygments_lexer": "ipython3",
   "version": "3.7.4"
  },
  "toc": {
   "base_numbering": 1,
   "nav_menu": {},
   "number_sections": true,
   "sideBar": true,
   "skip_h1_title": false,
   "title_cell": "Table of Contents",
   "title_sidebar": "Contents",
   "toc_cell": false,
   "toc_position": {},
   "toc_section_display": true,
   "toc_window_display": false
  }
 },
 "nbformat": 4,
 "nbformat_minor": 2
}
