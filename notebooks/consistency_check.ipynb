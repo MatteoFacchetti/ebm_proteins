{
 "cells": [
  {
   "cell_type": "code",
   "execution_count": 1,
   "metadata": {
    "ExecuteTime": {
     "end_time": "2020-04-11T13:49:13.145697Z",
     "start_time": "2020-04-11T13:49:13.135214Z"
    }
   },
   "outputs": [
    {
     "name": "stdout",
     "output_type": "stream",
     "text": [
      "/home/3005019/ebm_proteins/src\n"
     ]
    }
   ],
   "source": [
    "cd ../src"
   ]
  },
  {
   "cell_type": "markdown",
   "metadata": {},
   "source": [
    "# Create list of all possible combinations"
   ]
  },
  {
   "cell_type": "code",
   "execution_count": 2,
   "metadata": {
    "ExecuteTime": {
     "end_time": "2020-04-11T13:49:13.303456Z",
     "start_time": "2020-04-11T13:49:13.297477Z"
    }
   },
   "outputs": [],
   "source": [
    "from itertools import chain, combinations, permutations\n",
    "\n",
    "def get_combinations(iterable):\n",
    "    s = list(iterable)\n",
    "    return chain.from_iterable(permutations(s, r) for r in range(3, 4))"
   ]
  },
  {
   "cell_type": "code",
   "execution_count": 3,
   "metadata": {
    "ExecuteTime": {
     "end_time": "2020-04-11T13:49:13.886418Z",
     "start_time": "2020-04-11T13:49:13.882175Z"
    }
   },
   "outputs": [],
   "source": [
    "codes = ['-', 'A', 'C', 'D', 'E', 'F', 'G', 'H', 'I', 'K', 'L', 'M', 'N', 'P', 'Q', 'R', 'S', 'T', 'V', 'W', 'Y']"
   ]
  },
  {
   "cell_type": "code",
   "execution_count": 4,
   "metadata": {
    "ExecuteTime": {
     "end_time": "2020-04-11T13:49:14.411211Z",
     "start_time": "2020-04-11T13:49:14.248874Z"
    }
   },
   "outputs": [],
   "source": [
    "import numpy as np"
   ]
  },
  {
   "cell_type": "code",
   "execution_count": 5,
   "metadata": {
    "ExecuteTime": {
     "end_time": "2020-04-11T13:49:14.589839Z",
     "start_time": "2020-04-11T13:49:14.585179Z"
    }
   },
   "outputs": [],
   "source": [
    "codes = np.array([list(i*3) for i in codes]).reshape(63).tolist()"
   ]
  },
  {
   "cell_type": "code",
   "execution_count": 6,
   "metadata": {
    "ExecuteTime": {
     "end_time": "2020-04-11T13:49:14.971894Z",
     "start_time": "2020-04-11T13:49:14.966210Z"
    }
   },
   "outputs": [],
   "source": [
    "codes = \"\".join(codes)"
   ]
  },
  {
   "cell_type": "code",
   "execution_count": 7,
   "metadata": {
    "ExecuteTime": {
     "end_time": "2020-04-11T13:49:15.351808Z",
     "start_time": "2020-04-11T13:49:15.329518Z"
    }
   },
   "outputs": [
    {
     "data": {
      "text/plain": [
       "'---AAACCCDDDEEEFFFGGGHHHIIIKKKLLLMMMNNNPPPQQQRRRSSSTTTVVVWWWYYY'"
      ]
     },
     "execution_count": 7,
     "metadata": {},
     "output_type": "execute_result"
    }
   ],
   "source": [
    "codes"
   ]
  },
  {
   "cell_type": "code",
   "execution_count": 8,
   "metadata": {
    "ExecuteTime": {
     "end_time": "2020-04-11T13:49:18.918297Z",
     "start_time": "2020-04-11T13:49:18.859957Z"
    }
   },
   "outputs": [],
   "source": [
    "seqs = list(set(map(''.join, get_combinations(codes))))"
   ]
  },
  {
   "cell_type": "code",
   "execution_count": 9,
   "metadata": {
    "ExecuteTime": {
     "end_time": "2020-04-11T13:49:19.454656Z",
     "start_time": "2020-04-11T13:49:19.446293Z"
    }
   },
   "outputs": [
    {
     "data": {
      "text/plain": [
       "True"
      ]
     },
     "execution_count": 9,
     "metadata": {},
     "output_type": "execute_result"
    }
   ],
   "source": [
    "len(seqs) == 21 ** 3"
   ]
  },
  {
   "cell_type": "markdown",
   "metadata": {},
   "source": [
    "# Build MLP"
   ]
  },
  {
   "cell_type": "code",
   "execution_count": 12,
   "metadata": {
    "ExecuteTime": {
     "end_time": "2020-04-11T13:49:28.665376Z",
     "start_time": "2020-04-11T13:49:26.144975Z"
    }
   },
   "outputs": [
    {
     "name": "stderr",
     "output_type": "stream",
     "text": [
      "2020-04-11 15:49:28,657 - matplotlib.pyplot - DEBUG - Loaded backend module://ipykernel.pylab.backend_inline version unknown.\n"
     ]
    }
   ],
   "source": [
    "from modeling.mlp import encoding, mlp"
   ]
  },
  {
   "cell_type": "code",
   "execution_count": 13,
   "metadata": {
    "ExecuteTime": {
     "end_time": "2020-04-11T13:49:33.745718Z",
     "start_time": "2020-04-11T13:49:33.740581Z"
    }
   },
   "outputs": [],
   "source": [
    "import torch"
   ]
  },
  {
   "cell_type": "code",
   "execution_count": 15,
   "metadata": {
    "ExecuteTime": {
     "end_time": "2020-04-11T13:49:49.229516Z",
     "start_time": "2020-04-11T13:49:49.222246Z"
    }
   },
   "outputs": [],
   "source": [
    "input_size, hidden_size, output_size = 3 * 21, 100, 1\n",
    "\n",
    "model = torch.nn.Sequential(\n",
    "    torch.nn.Linear(input_size, hidden_size),\n",
    "    torch.nn.ReLU(),\n",
    "    torch.nn.Linear(hidden_size, output_size)\n",
    ")"
   ]
  },
  {
   "cell_type": "code",
   "execution_count": 102,
   "metadata": {
    "ExecuteTime": {
     "end_time": "2020-04-11T13:35:58.186232Z",
     "start_time": "2020-04-11T13:35:58.180707Z"
    }
   },
   "outputs": [],
   "source": [
    "import torch"
   ]
  },
  {
   "cell_type": "code",
   "execution_count": 44,
   "metadata": {
    "ExecuteTime": {
     "end_time": "2020-04-11T14:09:30.879767Z",
     "start_time": "2020-04-11T14:09:29.342231Z"
    }
   },
   "outputs": [],
   "source": [
    "energies = [model(encoding(seq)) for seq in seqs]"
   ]
  },
  {
   "cell_type": "code",
   "execution_count": 60,
   "metadata": {
    "ExecuteTime": {
     "end_time": "2020-04-11T14:24:15.173078Z",
     "start_time": "2020-04-11T14:24:15.169585Z"
    }
   },
   "outputs": [],
   "source": [
    "import math"
   ]
  },
  {
   "cell_type": "code",
   "execution_count": 65,
   "metadata": {
    "ExecuteTime": {
     "end_time": "2020-04-11T14:26:41.590266Z",
     "start_time": "2020-04-11T14:26:41.416514Z"
    }
   },
   "outputs": [],
   "source": [
    "boltzmann_factors = [math.exp(-en) for en in energies]"
   ]
  },
  {
   "cell_type": "code",
   "execution_count": 67,
   "metadata": {
    "ExecuteTime": {
     "end_time": "2020-04-11T14:29:48.136425Z",
     "start_time": "2020-04-11T14:29:48.132847Z"
    }
   },
   "outputs": [],
   "source": [
    "Z = sum(boltzmann_factors)"
   ]
  },
  {
   "cell_type": "code",
   "execution_count": 81,
   "metadata": {
    "ExecuteTime": {
     "end_time": "2020-04-11T14:56:47.934694Z",
     "start_time": "2020-04-11T14:56:47.931538Z"
    }
   },
   "outputs": [],
   "source": [
    "probas = [factor / Z for factor in boltzmann_factors]"
   ]
  },
  {
   "cell_type": "markdown",
   "metadata": {},
   "source": [
    "# Store probabilities in a pandas DataFrame"
   ]
  },
  {
   "cell_type": "code",
   "execution_count": 80,
   "metadata": {
    "ExecuteTime": {
     "end_time": "2020-04-11T14:56:13.434453Z",
     "start_time": "2020-04-11T14:56:13.431711Z"
    }
   },
   "outputs": [],
   "source": [
    "import pandas as pd"
   ]
  },
  {
   "cell_type": "code",
   "execution_count": 122,
   "metadata": {
    "ExecuteTime": {
     "end_time": "2020-04-11T15:35:53.836827Z",
     "start_time": "2020-04-11T15:35:53.826476Z"
    }
   },
   "outputs": [],
   "source": [
    "probas_df = pd.DataFrame({\n",
    "    \"sequence\": seqs,\n",
    "    \"p\": probas\n",
    "})"
   ]
  },
  {
   "cell_type": "code",
   "execution_count": 129,
   "metadata": {
    "ExecuteTime": {
     "end_time": "2020-04-11T15:38:56.394619Z",
     "start_time": "2020-04-11T15:38:56.378409Z"
    }
   },
   "outputs": [
    {
     "data": {
      "text/html": [
       "<div>\n",
       "<style scoped>\n",
       "    .dataframe tbody tr th:only-of-type {\n",
       "        vertical-align: middle;\n",
       "    }\n",
       "\n",
       "    .dataframe tbody tr th {\n",
       "        vertical-align: top;\n",
       "    }\n",
       "\n",
       "    .dataframe thead th {\n",
       "        text-align: right;\n",
       "    }\n",
       "</style>\n",
       "<table border=\"1\" class=\"dataframe\">\n",
       "  <thead>\n",
       "    <tr style=\"text-align: right;\">\n",
       "      <th></th>\n",
       "      <th>sequence</th>\n",
       "      <th>p</th>\n",
       "    </tr>\n",
       "  </thead>\n",
       "  <tbody>\n",
       "    <tr>\n",
       "      <th>1892</th>\n",
       "      <td>YDF</td>\n",
       "      <td>0.000126</td>\n",
       "    </tr>\n",
       "    <tr>\n",
       "      <th>8092</th>\n",
       "      <td>ECH</td>\n",
       "      <td>0.000126</td>\n",
       "    </tr>\n",
       "    <tr>\n",
       "      <th>8547</th>\n",
       "      <td>YDH</td>\n",
       "      <td>0.000125</td>\n",
       "    </tr>\n",
       "    <tr>\n",
       "      <th>2443</th>\n",
       "      <td>YCH</td>\n",
       "      <td>0.000124</td>\n",
       "    </tr>\n",
       "    <tr>\n",
       "      <th>1418</th>\n",
       "      <td>YLF</td>\n",
       "      <td>0.000124</td>\n",
       "    </tr>\n",
       "    <tr>\n",
       "      <th>...</th>\n",
       "      <td>...</td>\n",
       "      <td>...</td>\n",
       "    </tr>\n",
       "    <tr>\n",
       "      <th>1059</th>\n",
       "      <td>AFC</td>\n",
       "      <td>0.000092</td>\n",
       "    </tr>\n",
       "    <tr>\n",
       "      <th>7121</th>\n",
       "      <td>HFA</td>\n",
       "      <td>0.000091</td>\n",
       "    </tr>\n",
       "    <tr>\n",
       "      <th>603</th>\n",
       "      <td>A-A</td>\n",
       "      <td>0.000091</td>\n",
       "    </tr>\n",
       "    <tr>\n",
       "      <th>5428</th>\n",
       "      <td>AFN</td>\n",
       "      <td>0.000091</td>\n",
       "    </tr>\n",
       "    <tr>\n",
       "      <th>5033</th>\n",
       "      <td>AFA</td>\n",
       "      <td>0.000090</td>\n",
       "    </tr>\n",
       "  </tbody>\n",
       "</table>\n",
       "<p>9261 rows × 2 columns</p>\n",
       "</div>"
      ],
      "text/plain": [
       "     sequence         p\n",
       "1892      YDF  0.000126\n",
       "8092      ECH  0.000126\n",
       "8547      YDH  0.000125\n",
       "2443      YCH  0.000124\n",
       "1418      YLF  0.000124\n",
       "...       ...       ...\n",
       "1059      AFC  0.000092\n",
       "7121      HFA  0.000091\n",
       "603       A-A  0.000091\n",
       "5428      AFN  0.000091\n",
       "5033      AFA  0.000090\n",
       "\n",
       "[9261 rows x 2 columns]"
      ]
     },
     "execution_count": 129,
     "metadata": {},
     "output_type": "execute_result"
    }
   ],
   "source": [
    "probas_df.sort_values(\"p\", ascending=False)"
   ]
  },
  {
   "cell_type": "markdown",
   "metadata": {},
   "source": [
    "# MCMC Simulation"
   ]
  },
  {
   "cell_type": "code",
   "execution_count": 130,
   "metadata": {
    "ExecuteTime": {
     "end_time": "2020-04-11T15:39:09.324082Z",
     "start_time": "2020-04-11T15:39:09.319567Z"
    }
   },
   "outputs": [],
   "source": [
    "amino_acids = ['-', 'A', 'C', 'D', 'E', 'F', 'G', 'H', 'I', 'K', 'L', 'M', 'N', 'P', 'Q', 'R', 'S', 'T', 'V', 'W', 'Y']"
   ]
  },
  {
   "cell_type": "code",
   "execution_count": 131,
   "metadata": {
    "ExecuteTime": {
     "end_time": "2020-04-11T15:39:09.566264Z",
     "start_time": "2020-04-11T15:39:09.562942Z"
    }
   },
   "outputs": [],
   "source": [
    "gen_seqs = []"
   ]
  },
  {
   "cell_type": "code",
   "execution_count": 132,
   "metadata": {
    "ExecuteTime": {
     "end_time": "2020-04-11T15:39:09.883732Z",
     "start_time": "2020-04-11T15:39:09.880374Z"
    }
   },
   "outputs": [],
   "source": [
    "from tqdm import tqdm"
   ]
  },
  {
   "cell_type": "code",
   "execution_count": 133,
   "metadata": {
    "ExecuteTime": {
     "end_time": "2020-04-11T15:39:10.321628Z",
     "start_time": "2020-04-11T15:39:10.318274Z"
    }
   },
   "outputs": [],
   "source": [
    "from copy import copy"
   ]
  },
  {
   "cell_type": "code",
   "execution_count": 134,
   "metadata": {
    "ExecuteTime": {
     "end_time": "2020-04-11T16:00:33.691201Z",
     "start_time": "2020-04-11T15:39:10.751049Z"
    }
   },
   "outputs": [
    {
     "name": "stderr",
     "output_type": "stream",
     "text": [
      "100%|██████████| 6000000/6000000 [21:22<00:00, 4676.81it/s]\n"
     ]
    }
   ],
   "source": [
    "old_seq = seqs[np.random.randint(0, len(seqs))]\n",
    "encoded_old = encoding(old_seq)\n",
    "old_E = model(encoded_old)\n",
    "\n",
    "for step in tqdm(range(6000000)):\n",
    "    # Sample a random position `i` and a random amino acid `a`\n",
    "    aa_subset = copy(amino_acids)\n",
    "    i = np.random.randint(0, len(old_seq))\n",
    "    aa_subset.remove((old_seq[i]))\n",
    "    a = np.random.choice(aa_subset)\n",
    "\n",
    "    # Generate new sequence\n",
    "    new_seq = copy(old_seq)\n",
    "    new_seq = list(new_seq)\n",
    "    new_seq[i] = a\n",
    "    new_seq = \"\".join(new_seq)\n",
    "\n",
    "    # Calculate energy of old and new sequences\n",
    "    encoded_new = encoding(new_seq)\n",
    "    new_E = model(encoded_new)\n",
    "\n",
    "    # Accept with probability exp{-(energy_difference)}\n",
    "    p = math.exp(old_E - new_E)\n",
    "    u = np.random.uniform()\n",
    "\n",
    "    if u < p:\n",
    "        old_seq, old_E, encoded_old = copy(new_seq), copy(new_E), copy(encoded_new)\n",
    "        gen_seqs.append(old_seq)"
   ]
  },
  {
   "cell_type": "markdown",
   "metadata": {},
   "source": [
    "# Store results of the simulation in a pandas DataFrame"
   ]
  },
  {
   "cell_type": "code",
   "execution_count": 191,
   "metadata": {
    "ExecuteTime": {
     "end_time": "2020-04-11T16:16:27.535090Z",
     "start_time": "2020-04-11T16:16:25.666342Z"
    }
   },
   "outputs": [],
   "source": [
    "d = pd.DataFrame({\n",
    "    \"index\": [i for i in range(len(gen_seqs))],\n",
    "    \"sequences\": gen_seqs\n",
    "})"
   ]
  },
  {
   "cell_type": "code",
   "execution_count": 192,
   "metadata": {
    "ExecuteTime": {
     "end_time": "2020-04-11T16:16:29.530996Z",
     "start_time": "2020-04-11T16:16:28.991876Z"
    }
   },
   "outputs": [],
   "source": [
    "d = d.groupby(\"sequences\").count().sort_values(\"index\", ascending=False)"
   ]
  },
  {
   "cell_type": "code",
   "execution_count": 194,
   "metadata": {
    "ExecuteTime": {
     "end_time": "2020-04-11T16:16:32.481995Z",
     "start_time": "2020-04-11T16:16:32.474822Z"
    }
   },
   "outputs": [],
   "source": [
    "d[\"p\"] = d[\"index\"] / d[\"index\"].sum()"
   ]
  },
  {
   "cell_type": "code",
   "execution_count": 195,
   "metadata": {
    "ExecuteTime": {
     "end_time": "2020-04-11T16:16:32.752632Z",
     "start_time": "2020-04-11T16:16:32.746085Z"
    }
   },
   "outputs": [],
   "source": [
    "d.drop(\"index\", axis=1, inplace=True)"
   ]
  },
  {
   "cell_type": "code",
   "execution_count": 197,
   "metadata": {
    "ExecuteTime": {
     "end_time": "2020-04-11T16:16:40.400268Z",
     "start_time": "2020-04-11T16:16:40.396599Z"
    }
   },
   "outputs": [],
   "source": [
    "#probas_df.set_index(\"sequence\", inplace=True)"
   ]
  },
  {
   "cell_type": "code",
   "execution_count": 198,
   "metadata": {
    "ExecuteTime": {
     "end_time": "2020-04-11T16:16:41.388692Z",
     "start_time": "2020-04-11T16:16:41.374637Z"
    }
   },
   "outputs": [
    {
     "data": {
      "text/html": [
       "<div>\n",
       "<style scoped>\n",
       "    .dataframe tbody tr th:only-of-type {\n",
       "        vertical-align: middle;\n",
       "    }\n",
       "\n",
       "    .dataframe tbody tr th {\n",
       "        vertical-align: top;\n",
       "    }\n",
       "\n",
       "    .dataframe thead th {\n",
       "        text-align: right;\n",
       "    }\n",
       "</style>\n",
       "<table border=\"1\" class=\"dataframe\">\n",
       "  <thead>\n",
       "    <tr style=\"text-align: right;\">\n",
       "      <th></th>\n",
       "      <th>p</th>\n",
       "    </tr>\n",
       "    <tr>\n",
       "      <th>sequence</th>\n",
       "      <th></th>\n",
       "    </tr>\n",
       "  </thead>\n",
       "  <tbody>\n",
       "    <tr>\n",
       "      <th>-MG</th>\n",
       "      <td>0.000107</td>\n",
       "    </tr>\n",
       "    <tr>\n",
       "      <th>WFL</th>\n",
       "      <td>0.000099</td>\n",
       "    </tr>\n",
       "    <tr>\n",
       "      <th>STG</th>\n",
       "      <td>0.000108</td>\n",
       "    </tr>\n",
       "    <tr>\n",
       "      <th>MQW</th>\n",
       "      <td>0.000099</td>\n",
       "    </tr>\n",
       "    <tr>\n",
       "      <th>TMS</th>\n",
       "      <td>0.000110</td>\n",
       "    </tr>\n",
       "    <tr>\n",
       "      <th>...</th>\n",
       "      <td>...</td>\n",
       "    </tr>\n",
       "    <tr>\n",
       "      <th>PPM</th>\n",
       "      <td>0.000106</td>\n",
       "    </tr>\n",
       "    <tr>\n",
       "      <th>WKS</th>\n",
       "      <td>0.000105</td>\n",
       "    </tr>\n",
       "    <tr>\n",
       "      <th>VFE</th>\n",
       "      <td>0.000104</td>\n",
       "    </tr>\n",
       "    <tr>\n",
       "      <th>EII</th>\n",
       "      <td>0.000108</td>\n",
       "    </tr>\n",
       "    <tr>\n",
       "      <th>EDC</th>\n",
       "      <td>0.000116</td>\n",
       "    </tr>\n",
       "  </tbody>\n",
       "</table>\n",
       "<p>9261 rows × 1 columns</p>\n",
       "</div>"
      ],
      "text/plain": [
       "                 p\n",
       "sequence          \n",
       "-MG       0.000107\n",
       "WFL       0.000099\n",
       "STG       0.000108\n",
       "MQW       0.000099\n",
       "TMS       0.000110\n",
       "...            ...\n",
       "PPM       0.000106\n",
       "WKS       0.000105\n",
       "VFE       0.000104\n",
       "EII       0.000108\n",
       "EDC       0.000116\n",
       "\n",
       "[9261 rows x 1 columns]"
      ]
     },
     "execution_count": 198,
     "metadata": {},
     "output_type": "execute_result"
    }
   ],
   "source": [
    "probas_df"
   ]
  },
  {
   "cell_type": "code",
   "execution_count": 199,
   "metadata": {
    "ExecuteTime": {
     "end_time": "2020-04-11T16:16:43.552107Z",
     "start_time": "2020-04-11T16:16:43.547214Z"
    }
   },
   "outputs": [],
   "source": [
    "d.columns = [\"p_mcmc\"]"
   ]
  },
  {
   "cell_type": "code",
   "execution_count": 200,
   "metadata": {
    "ExecuteTime": {
     "end_time": "2020-04-11T16:16:44.248739Z",
     "start_time": "2020-04-11T16:16:44.234146Z"
    }
   },
   "outputs": [
    {
     "data": {
      "text/html": [
       "<div>\n",
       "<style scoped>\n",
       "    .dataframe tbody tr th:only-of-type {\n",
       "        vertical-align: middle;\n",
       "    }\n",
       "\n",
       "    .dataframe tbody tr th {\n",
       "        vertical-align: top;\n",
       "    }\n",
       "\n",
       "    .dataframe thead th {\n",
       "        text-align: right;\n",
       "    }\n",
       "</style>\n",
       "<table border=\"1\" class=\"dataframe\">\n",
       "  <thead>\n",
       "    <tr style=\"text-align: right;\">\n",
       "      <th></th>\n",
       "      <th>p_mcmc</th>\n",
       "    </tr>\n",
       "    <tr>\n",
       "      <th>sequences</th>\n",
       "      <th></th>\n",
       "    </tr>\n",
       "  </thead>\n",
       "  <tbody>\n",
       "    <tr>\n",
       "      <th>ECH</th>\n",
       "      <td>0.000135</td>\n",
       "    </tr>\n",
       "    <tr>\n",
       "      <th>LRF</th>\n",
       "      <td>0.000135</td>\n",
       "    </tr>\n",
       "    <tr>\n",
       "      <th>TDF</th>\n",
       "      <td>0.000130</td>\n",
       "    </tr>\n",
       "    <tr>\n",
       "      <th>EEH</th>\n",
       "      <td>0.000129</td>\n",
       "    </tr>\n",
       "    <tr>\n",
       "      <th>ERH</th>\n",
       "      <td>0.000129</td>\n",
       "    </tr>\n",
       "    <tr>\n",
       "      <th>...</th>\n",
       "      <td>...</td>\n",
       "    </tr>\n",
       "    <tr>\n",
       "      <th>A-M</th>\n",
       "      <td>0.000088</td>\n",
       "    </tr>\n",
       "    <tr>\n",
       "      <th>AGQ</th>\n",
       "      <td>0.000088</td>\n",
       "    </tr>\n",
       "    <tr>\n",
       "      <th>FFA</th>\n",
       "      <td>0.000087</td>\n",
       "    </tr>\n",
       "    <tr>\n",
       "      <th>AFN</th>\n",
       "      <td>0.000086</td>\n",
       "    </tr>\n",
       "    <tr>\n",
       "      <th>SFC</th>\n",
       "      <td>0.000085</td>\n",
       "    </tr>\n",
       "  </tbody>\n",
       "</table>\n",
       "<p>9261 rows × 1 columns</p>\n",
       "</div>"
      ],
      "text/plain": [
       "             p_mcmc\n",
       "sequences          \n",
       "ECH        0.000135\n",
       "LRF        0.000135\n",
       "TDF        0.000130\n",
       "EEH        0.000129\n",
       "ERH        0.000129\n",
       "...             ...\n",
       "A-M        0.000088\n",
       "AGQ        0.000088\n",
       "FFA        0.000087\n",
       "AFN        0.000086\n",
       "SFC        0.000085\n",
       "\n",
       "[9261 rows x 1 columns]"
      ]
     },
     "execution_count": 200,
     "metadata": {},
     "output_type": "execute_result"
    }
   ],
   "source": [
    "d"
   ]
  },
  {
   "cell_type": "markdown",
   "metadata": {},
   "source": [
    "# Join and plot"
   ]
  },
  {
   "cell_type": "code",
   "execution_count": 201,
   "metadata": {
    "ExecuteTime": {
     "end_time": "2020-04-11T16:16:46.396668Z",
     "start_time": "2020-04-11T16:16:46.388343Z"
    }
   },
   "outputs": [],
   "source": [
    "df = probas_df.join(d)"
   ]
  },
  {
   "cell_type": "code",
   "execution_count": 202,
   "metadata": {
    "ExecuteTime": {
     "end_time": "2020-04-11T16:16:47.101559Z",
     "start_time": "2020-04-11T16:16:47.094992Z"
    }
   },
   "outputs": [],
   "source": [
    "df = df.sort_values(\"p\", ascending=False)"
   ]
  },
  {
   "cell_type": "code",
   "execution_count": 209,
   "metadata": {
    "ExecuteTime": {
     "end_time": "2020-04-11T16:18:30.676031Z",
     "start_time": "2020-04-11T16:18:30.659696Z"
    }
   },
   "outputs": [
    {
     "data": {
      "text/html": [
       "<div>\n",
       "<style scoped>\n",
       "    .dataframe tbody tr th:only-of-type {\n",
       "        vertical-align: middle;\n",
       "    }\n",
       "\n",
       "    .dataframe tbody tr th {\n",
       "        vertical-align: top;\n",
       "    }\n",
       "\n",
       "    .dataframe thead th {\n",
       "        text-align: right;\n",
       "    }\n",
       "</style>\n",
       "<table border=\"1\" class=\"dataframe\">\n",
       "  <thead>\n",
       "    <tr style=\"text-align: right;\">\n",
       "      <th></th>\n",
       "      <th>p</th>\n",
       "      <th>p_mcmc</th>\n",
       "    </tr>\n",
       "    <tr>\n",
       "      <th>sequence</th>\n",
       "      <th></th>\n",
       "      <th></th>\n",
       "    </tr>\n",
       "  </thead>\n",
       "  <tbody>\n",
       "    <tr>\n",
       "      <th>YDF</th>\n",
       "      <td>0.000126</td>\n",
       "      <td>0.000125</td>\n",
       "    </tr>\n",
       "    <tr>\n",
       "      <th>ECH</th>\n",
       "      <td>0.000126</td>\n",
       "      <td>0.000135</td>\n",
       "    </tr>\n",
       "    <tr>\n",
       "      <th>YDH</th>\n",
       "      <td>0.000125</td>\n",
       "      <td>0.000124</td>\n",
       "    </tr>\n",
       "    <tr>\n",
       "      <th>YCH</th>\n",
       "      <td>0.000124</td>\n",
       "      <td>0.000118</td>\n",
       "    </tr>\n",
       "    <tr>\n",
       "      <th>YLF</th>\n",
       "      <td>0.000124</td>\n",
       "      <td>0.000106</td>\n",
       "    </tr>\n",
       "    <tr>\n",
       "      <th>...</th>\n",
       "      <td>...</td>\n",
       "      <td>...</td>\n",
       "    </tr>\n",
       "    <tr>\n",
       "      <th>AFC</th>\n",
       "      <td>0.000092</td>\n",
       "      <td>0.000096</td>\n",
       "    </tr>\n",
       "    <tr>\n",
       "      <th>HFA</th>\n",
       "      <td>0.000091</td>\n",
       "      <td>0.000093</td>\n",
       "    </tr>\n",
       "    <tr>\n",
       "      <th>A-A</th>\n",
       "      <td>0.000091</td>\n",
       "      <td>0.000092</td>\n",
       "    </tr>\n",
       "    <tr>\n",
       "      <th>AFN</th>\n",
       "      <td>0.000091</td>\n",
       "      <td>0.000086</td>\n",
       "    </tr>\n",
       "    <tr>\n",
       "      <th>AFA</th>\n",
       "      <td>0.000090</td>\n",
       "      <td>0.000095</td>\n",
       "    </tr>\n",
       "  </tbody>\n",
       "</table>\n",
       "<p>9261 rows × 2 columns</p>\n",
       "</div>"
      ],
      "text/plain": [
       "                 p    p_mcmc\n",
       "sequence                    \n",
       "YDF       0.000126  0.000125\n",
       "ECH       0.000126  0.000135\n",
       "YDH       0.000125  0.000124\n",
       "YCH       0.000124  0.000118\n",
       "YLF       0.000124  0.000106\n",
       "...            ...       ...\n",
       "AFC       0.000092  0.000096\n",
       "HFA       0.000091  0.000093\n",
       "A-A       0.000091  0.000092\n",
       "AFN       0.000091  0.000086\n",
       "AFA       0.000090  0.000095\n",
       "\n",
       "[9261 rows x 2 columns]"
      ]
     },
     "execution_count": 209,
     "metadata": {},
     "output_type": "execute_result"
    }
   ],
   "source": [
    "df"
   ]
  },
  {
   "cell_type": "code",
   "execution_count": 213,
   "metadata": {
    "ExecuteTime": {
     "end_time": "2020-04-11T16:20:02.301342Z",
     "start_time": "2020-04-11T16:20:02.294420Z"
    }
   },
   "outputs": [],
   "source": [
    "import seaborn as sns\n",
    "sns.set()"
   ]
  },
  {
   "cell_type": "code",
   "execution_count": 217,
   "metadata": {
    "ExecuteTime": {
     "end_time": "2020-04-11T16:21:38.666151Z",
     "start_time": "2020-04-11T16:21:38.017172Z"
    }
   },
   "outputs": [
    {
     "data": {
      "image/png": "[encoded data removed]",
      "text/plain": [
       "<Figure size 1152x1152 with 1 Axes>"
      ]
     },
     "metadata": {},
     "output_type": "display_data"
    }
   ],
   "source": [
    "df[[\"p_mcmc\", \"p\"]].plot(figsize=(16, 16));"
   ]
  }
 ],
 "metadata": {
  "kernelspec": {
   "display_name": "Python 3",
   "language": "python",
   "name": "python3"
  },
  "language_info": {
   "codemirror_mode": {
    "name": "ipython",
    "version": 3
   },
   "file_extension": ".py",
   "mimetype": "text/x-python",
   "name": "python",
   "nbconvert_exporter": "python",
   "pygments_lexer": "ipython3",
   "version": "3.7.4"
  },
  "toc": {
   "base_numbering": 1,
   "nav_menu": {},
   "number_sections": true,
   "sideBar": true,
   "skip_h1_title": false,
   "title_cell": "Table of Contents",
   "title_sidebar": "Contents",
   "toc_cell": false,
   "toc_position": {},
   "toc_section_display": true,
   "toc_window_display": false
  }
 },
 "nbformat": 4,
 "nbformat_minor": 2
}
